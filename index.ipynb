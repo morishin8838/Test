{
 "cells": [
  {
   "cell_type": "markdown",
   "metadata": {},
   "source": [
    "# 自己紹介 \n",
    "** 一人学習でpython、Ipython Notebookを利用してい仲間を応援します **\n",
    ">* [自己紹介 お前だれよ？](http://morishin8838.bitbucket.org/)  \n",
    ">* [**まめ知識** github / bitbucket経由でnbviewerの公開方法](http://nbviewer.ipython.org/github/morishin8838/nbviewer/blob/master/002_Begginner.ipynb)\n",
    ">* [日記](http://nbviewer.ipython.org/github/morishin8838/nbviewer/blob/master/001_Diary.ipynb)"
   ]
  },
  {
   "cell_type": "markdown",
   "metadata": {
    "collapsed": true
   },
   "source": [
    "# 資料\n",
    "> *資料例と URL:* 　http://nbviewer.jupyter.org/github/morishin8838/nbviewer/tree/master/study\n",
    ">* [オーバーシュートを表現](http://nbviewer.ipython.org/github/morishin8838/nbviewer/blob/master/study/20141026_OverShoot_Simulation.ipynb)\n",
    ">* [MP4生成](http://nbviewer.ipython.org/github/morishin8838/nbviewer/blob/master/study/20150830_MP4.ipynb)\n",
    ">* [ヒートマップ作成](http://nbviewer.ipython.org/github/morishin8838/nbviewer/blob/master/study/20150831_Create_Heatmap.ipynb)\n",
    "\n",
    "# 活動報告\n",
    ">1.  [SphinxJP2014のセミナーに行ってきました](http://nbviewer.ipython.org/github/morishin8838/nbviewer/blob/master/201401_SphinxJP2014.ipynb)"
   ]
  },
  {
   "cell_type": "code",
   "execution_count": null,
   "metadata": {
    "collapsed": true
   },
   "outputs": [],
   "source": []
  }
 ],
 "metadata": {
  "kernelspec": {
   "display_name": "Python 3",
   "language": "python",
   "name": "python3"
  },
  "language_info": {
   "codemirror_mode": {
    "name": "ipython",
    "version": 3
   },
   "file_extension": ".py",
   "mimetype": "text/x-python",
   "name": "python",
   "nbconvert_exporter": "python",
   "pygments_lexer": "ipython3",
   "version": "3.4.4"
  }
 },
 "nbformat": 4,
 "nbformat_minor": 0
}
