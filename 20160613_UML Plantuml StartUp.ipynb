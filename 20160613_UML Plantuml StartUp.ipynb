{
 "cells": [
  {
   "cell_type": "code",
   "execution_count": 3,
   "metadata": {
    "collapsed": false
   },
   "outputs": [],
   "source": [
    "#%install_ext https://raw.githubusercontent.com/sberke/ipython-plantuml/master/plantuml_magics.py\n",
    "#%install_ext plantuml.py\n",
    "#%reload_ext plantuml\n",
    "%load_ext plantuml"
   ]
  },
  {
   "cell_type": "code",
   "execution_count": 2,
   "metadata": {
    "collapsed": false
   },
   "outputs": [
    {
     "data": {
      "text/plain": [
       "['./plantuml.jar']"
      ]
     },
     "execution_count": 2,
     "metadata": {},
     "output_type": "execute_result"
    }
   ],
   "source": [
    "import glob\n",
    "glob.glob(r'./*.jar')"
   ]
  },
  {
   "cell_type": "code",
   "execution_count": 4,
   "metadata": {
    "collapsed": false
   },
   "outputs": [
    {
     "data": {
      "image/svg+xml": [
       "<svg height=\"197px\" style=\"width:249px;height:197px;\" version=\"1.1\" viewBox=\"0 0 249 197\" width=\"249px\" xmlns=\"http://www.w3.org/2000/svg\" xmlns:xlink=\"http://www.w3.org/1999/xlink\"><defs><filter height=\"300%\" id=\"f1\" width=\"300%\" x=\"-1\" y=\"-1\"><feGaussianBlur result=\"blurOut\" stdDeviation=\"2.0\"/><feColorMatrix in=\"blurOut\" result=\"blurOut2\" type=\"matrix\" values=\"0 0 0 0 0 0 0 0 0 0 0 0 0 0 0 0 0 0 .4 0\"/><feOffset dx=\"4.0\" dy=\"4.0\" in=\"blurOut2\" result=\"blurOut3\"/><feBlend in=\"SourceGraphic\" in2=\"blurOut3\" mode=\"normal\"/></filter></defs><g><line style=\"stroke: #A80036; stroke-width: 1.0; stroke-dasharray: 5.0,5.0;\" x1=\"33\" x2=\"33\" y1=\"38.2969\" y2=\"159.6953\"/><line style=\"stroke: #A80036; stroke-width: 1.0; stroke-dasharray: 5.0,5.0;\" x1=\"216\" x2=\"216\" y1=\"38.2969\" y2=\"159.6953\"/><rect fill=\"#FEFECE\" filter=\"url(#f1)\" height=\"30.2969\" style=\"stroke: #A80036; stroke-width: 1.5;\" width=\"46\" x=\"8\" y=\"3\"/><text fill=\"#000000\" font-family=\"sans-serif\" font-size=\"14\" lengthAdjust=\"spacingAndGlyphs\" textLength=\"32\" x=\"15\" y=\"22.9951\">Alice</text><rect fill=\"#FEFECE\" filter=\"url(#f1)\" height=\"30.2969\" style=\"stroke: #A80036; stroke-width: 1.5;\" width=\"46\" x=\"8\" y=\"158.6953\"/><text fill=\"#000000\" font-family=\"sans-serif\" font-size=\"14\" lengthAdjust=\"spacingAndGlyphs\" textLength=\"32\" x=\"15\" y=\"178.6904\">Alice</text><rect fill=\"#FEFECE\" filter=\"url(#f1)\" height=\"30.2969\" style=\"stroke: #A80036; stroke-width: 1.5;\" width=\"42\" x=\"193\" y=\"3\"/><text fill=\"#000000\" font-family=\"sans-serif\" font-size=\"14\" lengthAdjust=\"spacingAndGlyphs\" textLength=\"28\" x=\"200\" y=\"22.9951\">Bob</text><rect fill=\"#FEFECE\" filter=\"url(#f1)\" height=\"30.2969\" style=\"stroke: #A80036; stroke-width: 1.5;\" width=\"42\" x=\"193\" y=\"158.6953\"/><text fill=\"#000000\" font-family=\"sans-serif\" font-size=\"14\" lengthAdjust=\"spacingAndGlyphs\" textLength=\"28\" x=\"200\" y=\"178.6904\">Bob</text><polygon fill=\"#A80036\" points=\"204,65.2969,214,69.2969,204,73.2969,208,69.2969\" style=\"stroke: #A80036; stroke-width: 1.0;\"/><line style=\"stroke: #A80036; stroke-width: 1.0;\" x1=\"33\" x2=\"210\" y1=\"69.2969\" y2=\"69.2969\"/><text fill=\"#000000\" font-family=\"sans-serif\" font-size=\"13\" lengthAdjust=\"spacingAndGlyphs\" textLength=\"149\" x=\"40\" y=\"64.3638\">Authentication Request</text><rect fill=\"#EEEEEE\" filter=\"url(#f1)\" height=\"3\" style=\"stroke: #EEEEEE; stroke-width: 1.0;\" width=\"241\" x=\"3\" y=\"97.9961\"/><line style=\"stroke: #000000; stroke-width: 1.0;\" x1=\"3\" x2=\"244\" y1=\"97.9961\" y2=\"97.9961\"/><line style=\"stroke: #000000; stroke-width: 1.0;\" x1=\"3\" x2=\"244\" y1=\"100.9961\" y2=\"100.9961\"/><rect fill=\"#EEEEEE\" filter=\"url(#f1)\" height=\"23.1328\" style=\"stroke: #000000; stroke-width: 2.0;\" width=\"53\" x=\"97\" y=\"87.4297\"/><text fill=\"#000000\" font-family=\"sans-serif\" font-size=\"13\" font-weight=\"bold\" lengthAdjust=\"spacingAndGlyphs\" textLength=\"34\" x=\"103\" y=\"103.4966\">TEST</text><polygon fill=\"#A80036\" points=\"44,137.5625,34,141.5625,44,145.5625,40,141.5625\" style=\"stroke: #A80036; stroke-width: 1.0;\"/><line style=\"stroke: #A80036; stroke-width: 1.0; stroke-dasharray: 2.0,2.0;\" x1=\"38\" x2=\"215\" y1=\"141.5625\" y2=\"141.5625\"/><text fill=\"#000000\" font-family=\"sans-serif\" font-size=\"13\" lengthAdjust=\"spacingAndGlyphs\" textLength=\"159\" x=\"50\" y=\"136.6294\">Authentication Response</text></g></svg>"
      ],
      "text/plain": [
       "<IPython.core.display.SVG object>"
      ]
     },
     "execution_count": 4,
     "metadata": {},
     "output_type": "execute_result"
    }
   ],
   "source": [
    "%%plantuml figure1\n",
    "\n",
    "@startuml\n",
    "Alice -> Bob: Authentication Request\n",
    "== TEST ==    \n",
    "Bob --> Alice: Authentication Response\n",
    "@enduml  "
   ]
  },
  {
   "cell_type": "code",
   "execution_count": 5,
   "metadata": {
    "collapsed": false
   },
   "outputs": [
    {
     "data": {
      "image/svg+xml": [
       "<svg height=\"352px\" style=\"width:308px;height:352px;\" version=\"1.1\" viewBox=\"0 0 308 352\" width=\"308px\" xmlns=\"http://www.w3.org/2000/svg\" xmlns:xlink=\"http://www.w3.org/1999/xlink\"><defs><filter height=\"300%\" id=\"f1\" width=\"300%\" x=\"-1\" y=\"-1\"><feGaussianBlur result=\"blurOut\" stdDeviation=\"2.0\"/><feColorMatrix in=\"blurOut\" result=\"blurOut2\" type=\"matrix\" values=\"0 0 0 0 0 0 0 0 0 0 0 0 0 0 0 0 0 0 .4 0\"/><feOffset dx=\"4.0\" dy=\"4.0\" in=\"blurOut2\" result=\"blurOut3\"/><feBlend in=\"SourceGraphic\" in2=\"blurOut3\" mode=\"normal\"/></filter></defs><g><ellipse cx=\"90\" cy=\"18\" fill=\"#000000\" filter=\"url(#f1)\" rx=\"10\" ry=\"10\" style=\"stroke: none; stroke-width: 1.0;\"/><rect fill=\"#FEFECE\" filter=\"url(#f1)\" height=\"33.9688\" rx=\"12.5\" ry=\"12.5\" style=\"stroke: #A80036; stroke-width: 1.5;\" width=\"93\" x=\"43.5\" y=\"69\"/><text fill=\"#000000\" font-family=\"sans-serif\" font-size=\"12\" lengthAdjust=\"spacingAndGlyphs\" textLength=\"73\" x=\"53.5\" y=\"90.1387\">Initialization</text><polygon fill=\"#FEFECE\" filter=\"url(#f1)\" points=\"90,149,102,161,90,173,78,161,90,149\" style=\"stroke: #A80036; stroke-width: 1.5;\"/><rect fill=\"#FEFECE\" filter=\"url(#f1)\" height=\"33.9688\" rx=\"12.5\" ry=\"12.5\" style=\"stroke: #A80036; stroke-width: 1.5;\" width=\"102\" x=\"39\" y=\"235\"/><text fill=\"#000000\" font-family=\"sans-serif\" font-size=\"12\" lengthAdjust=\"spacingAndGlyphs\" textLength=\"82\" x=\"49\" y=\"256.1387\">Some Activity</text><rect fill=\"#FEFECE\" filter=\"url(#f1)\" height=\"33.9688\" rx=\"12.5\" ry=\"12.5\" style=\"stroke: #A80036; stroke-width: 1.5;\" width=\"117\" x=\"35.5\" y=\"310\"/><text fill=\"#000000\" font-family=\"sans-serif\" font-size=\"12\" lengthAdjust=\"spacingAndGlyphs\" textLength=\"97\" x=\"45.5\" y=\"331.1387\">Another activity</text><ellipse cx=\"204\" cy=\"327\" fill=\"none\" filter=\"url(#f1)\" rx=\"10\" ry=\"10\" style=\"stroke: #000000; stroke-width: 1.0;\"/><ellipse cx=\"204.5\" cy=\"327.5\" fill=\"#000000\" rx=\"6\" ry=\"6\" style=\"stroke: none; stroke-width: 1.0;\"/><rect fill=\"#FEFECE\" filter=\"url(#f1)\" height=\"33.9688\" rx=\"12.5\" ry=\"12.5\" style=\"stroke: #A80036; stroke-width: 1.5;\" width=\"117\" x=\"153.5\" y=\"144\"/><text fill=\"#000000\" font-family=\"sans-serif\" font-size=\"12\" lengthAdjust=\"spacingAndGlyphs\" textLength=\"97\" x=\"163.5\" y=\"165.1387\">Something else</text><path d=\"M90,28.177 C90,37.269 90,51.527 90,63.485 \" fill=\"none\" style=\"stroke: #A80036; stroke-width: 1.0;\"/><polygon fill=\"#A80036\" points=\"90,68.791,94,59.791,90,63.791,86,59.791,90,68.791\" style=\"stroke: #A80036; stroke-width: 1.0;\"/><path d=\"M90,103.201 C90,115.149 90,131.351 90,143.394 \" fill=\"none\" style=\"stroke: #A80036; stroke-width: 1.0;\"/><polygon fill=\"#A80036\" points=\"90,148.604,94,139.604,90,143.604,86,139.604,90,148.604\" style=\"stroke: #A80036; stroke-width: 1.0;\"/><text fill=\"#000000\" font-family=\"sans-serif\" font-size=\"13\" lengthAdjust=\"spacingAndGlyphs\" textLength=\"69\" x=\"7.4156\" y=\"137.863\">Some Test</text><path d=\"M90,173.272 C90,187.345 90,211.72 90,229.429 \" fill=\"none\" style=\"stroke: #A80036; stroke-width: 1.0;\"/><polygon fill=\"#A80036\" points=\"90,234.692,94,225.692,90,229.692,86,225.692,90,234.692\" style=\"stroke: #A80036; stroke-width: 1.0;\"/><text fill=\"#000000\" font-family=\"sans-serif\" font-size=\"13\" lengthAdjust=\"spacingAndGlyphs\" textLength=\"26\" x=\"91\" y=\"211.0669\">true</text><path d=\"M90.8877,269.2011 C91.4626,279.6917 92.2171,293.4627 92.8393,304.8176 \" fill=\"none\" style=\"stroke: #A80036; stroke-width: 1.0;\"/><polygon fill=\"#A80036\" points=\"93.1148,309.8442,96.6161,300.6387,92.8411,304.8517,88.6281,301.0767,93.1148,309.8442\" style=\"stroke: #A80036; stroke-width: 1.0;\"/><path d=\"M152.867,327 C164.752,327 176.636,327 188.52,327 \" fill=\"none\" style=\"stroke: #A80036; stroke-width: 1.0;\"/><polygon fill=\"#A80036\" points=\"193.614,327,184.614,323,188.614,327,184.614,331,193.614,327\" style=\"stroke: #A80036; stroke-width: 1.0;\"/><path d=\"M102.1439,161 C113.1771,161 130.364,161 147.895,161 \" fill=\"none\" style=\"stroke: #A80036; stroke-width: 1.0;\"/><polygon fill=\"#A80036\" points=\"153.339,161,144.339,157,148.339,161,144.339,165,153.339,161\" style=\"stroke: #A80036; stroke-width: 1.0;\"/><text fill=\"#000000\" font-family=\"sans-serif\" font-size=\"13\" lengthAdjust=\"spacingAndGlyphs\" textLength=\"30\" x=\"112.75\" y=\"154.0669\">false</text><path d=\"M211.218,178.024 C209.664,209.892 206.205,280.7878 204.711,311.4283 \" fill=\"none\" style=\"stroke: #A80036; stroke-width: 1.0;\"/><polygon fill=\"#A80036\" points=\"204.455,316.6626,208.8889,307.8683,204.6987,311.6685,200.8984,307.4783,204.455,316.6626\" style=\"stroke: #A80036; stroke-width: 1.0;\"/><text fill=\"#000000\" font-family=\"sans-serif\" font-size=\"13\" lengthAdjust=\"spacingAndGlyphs\" textLength=\"97\" x=\"210\" y=\"256.5669\">Ending process</text></g></svg>"
      ],
      "text/plain": [
       "<IPython.core.display.SVG object>"
      ]
     },
     "execution_count": 5,
     "metadata": {},
     "output_type": "execute_result"
    }
   ],
   "source": [
    "%%plantuml figure\n",
    "@startuml\n",
    "(*) --> \"Initialization\"\n",
    "\n",
    "if \"Some Test\" then\n",
    "  -->[true] \"Some Activity\"\n",
    "  --> \"Another activity\"\n",
    "  -right-> (*)\n",
    "else\n",
    "  ->[false] \"Something else\"\n",
    "  -->[Ending process] (*)\n",
    "endif\n",
    "\n",
    "@enduml"
   ]
  },
  {
   "cell_type": "code",
   "execution_count": 6,
   "metadata": {
    "collapsed": false
   },
   "outputs": [
    {
     "data": {
      "image/svg+xml": [
       "<svg height=\"442px\" style=\"width:529px;height:442px;\" version=\"1.1\" viewBox=\"0 0 529 442\" width=\"529px\" xmlns=\"http://www.w3.org/2000/svg\" xmlns:xlink=\"http://www.w3.org/1999/xlink\"><defs><filter height=\"300%\" id=\"f1\" width=\"300%\" x=\"-1\" y=\"-1\"><feGaussianBlur result=\"blurOut\" stdDeviation=\"2.0\"/><feColorMatrix in=\"blurOut\" result=\"blurOut2\" type=\"matrix\" values=\"0 0 0 0 0 0 0 0 0 0 0 0 0 0 0 0 0 0 .4 0\"/><feOffset dx=\"4.0\" dy=\"4.0\" in=\"blurOut2\" result=\"blurOut3\"/><feBlend in=\"SourceGraphic\" in2=\"blurOut3\" mode=\"normal\"/></filter></defs><g><text fill=\"#000000\" font-family=\"sans-serif\" font-size=\"14\" font-weight=\"bold\" lengthAdjust=\"spacingAndGlyphs\" textLength=\"165\" x=\"186\" y=\"22.9951\">シーケンス図のサンプル</text><rect fill=\"#FFFFFF\" filter=\"url(#f1)\" height=\"188.9922\" style=\"stroke: #A80036; stroke-width: 1.0;\" width=\"10\" x=\"118\" y=\"147.5938\"/><rect fill=\"#FFFFFF\" filter=\"url(#f1)\" height=\"34.1328\" style=\"stroke: #A80036; stroke-width: 1.0;\" width=\"10\" x=\"263\" y=\"238.3203\"/><rect fill=\"#FFFFFF\" filter=\"url(#f1)\" height=\"117.3984\" style=\"stroke: #A80036; stroke-width: 1.0;\" width=\"10\" x=\"346.5\" y=\"306.5859\"/><rect fill=\"#FEFECE\" filter=\"url(#f1)\" height=\"46.5938\" style=\"stroke: #A80036; stroke-width: 1.5;\" width=\"74\" x=\"229\" y=\"155.7266\"/><text fill=\"#000000\" font-family=\"sans-serif\" font-size=\"14\" font-style=\"italic\" lengthAdjust=\"spacingAndGlyphs\" textLength=\"60\" x=\"236\" y=\"176.7266\">«Model»</text><text fill=\"#000000\" font-family=\"sans-serif\" font-size=\"14\" lengthAdjust=\"spacingAndGlyphs\" text-decoration=\"underline\" textLength=\"47\" x=\"242.5\" y=\"193.0234\">Loader</text><line style=\"stroke: #000000; stroke-width: 1.0;\" x1=\"242.5\" x2=\"289.5\" y1=\"195.0234\" y2=\"195.0234\"/><rect fill=\"#FFFFFF\" filter=\"url(#f1)\" height=\"59.2656\" style=\"stroke: #000000; stroke-width: 2.0;\" width=\"167\" x=\"307\" y=\"351.7188\"/><line style=\"stroke: #A80036; stroke-width: 1.0; stroke-dasharray: 5.0,5.0;\" x1=\"39\" x2=\"39\" y1=\"116.5938\" y2=\"441.9844\"/><line style=\"stroke: #A80036; stroke-width: 1.0; stroke-dasharray: 5.0,5.0;\" x1=\"123\" x2=\"123\" y1=\"116.5938\" y2=\"441.9844\"/><line style=\"stroke: #A80036; stroke-width: 1.0; stroke-dasharray: 5.0,5.0;\" x1=\"268\" x2=\"268\" y1=\"196.5234\" y2=\"441.9844\"/><line style=\"stroke: #A80036; stroke-width: 1.0; stroke-dasharray: 5.0,5.0;\" x1=\"351\" x2=\"351\" y1=\"116.5938\" y2=\"441.9844\"/><text fill=\"#000000\" font-family=\"sans-serif\" font-size=\"14\" lengthAdjust=\"spacingAndGlyphs\" textLength=\"56\" x=\"8\" y=\"113.292\">ユーザー</text><ellipse cx=\"39\" cy=\"43.2969\" fill=\"#FEFECE\" filter=\"url(#f1)\" rx=\"8\" ry=\"8\" style=\"stroke: #A80036; stroke-width: 2.0;\"/><path d=\"M39,51.2969 L39,78.2969 M26,59.2969 L52,59.2969 M39,78.2969 L26,93.2969 M39,78.2969 L52,93.2969 \" fill=\"#FEFECE\" filter=\"url(#f1)\" style=\"stroke: #A80036; stroke-width: 2.0;\"/><rect fill=\"#FEFECE\" filter=\"url(#f1)\" height=\"46.5938\" style=\"stroke: #A80036; stroke-width: 1.5;\" width=\"82\" x=\"80\" y=\"65\"/><text fill=\"#000000\" font-family=\"sans-serif\" font-size=\"14\" font-style=\"italic\" lengthAdjust=\"spacingAndGlyphs\" textLength=\"68\" x=\"87\" y=\"86\">«Control»</text><text fill=\"#000000\" font-family=\"sans-serif\" font-size=\"14\" lengthAdjust=\"spacingAndGlyphs\" textLength=\"42\" x=\"100\" y=\"102.2969\">制御部</text><rect fill=\"#98FB98\" filter=\"url(#f1)\" height=\"46.5938\" style=\"stroke: #A80036; stroke-width: 1.5;\" width=\"65\" x=\"317\" y=\"65\"/><text fill=\"#000000\" font-family=\"sans-serif\" font-size=\"14\" font-style=\"italic\" lengthAdjust=\"spacingAndGlyphs\" textLength=\"51\" x=\"324\" y=\"86\">«View»</text><text fill=\"#000000\" font-family=\"sans-serif\" font-size=\"14\" lengthAdjust=\"spacingAndGlyphs\" textLength=\"28\" x=\"335.5\" y=\"102.2969\">画面</text><rect fill=\"#FFFFFF\" filter=\"url(#f1)\" height=\"188.9922\" style=\"stroke: #A80036; stroke-width: 1.0;\" width=\"10\" x=\"118\" y=\"147.5938\"/><rect fill=\"#FFFFFF\" filter=\"url(#f1)\" height=\"34.1328\" style=\"stroke: #A80036; stroke-width: 1.0;\" width=\"10\" x=\"263\" y=\"238.3203\"/><rect fill=\"#FFFFFF\" filter=\"url(#f1)\" height=\"117.3984\" style=\"stroke: #A80036; stroke-width: 1.0;\" width=\"10\" x=\"346.5\" y=\"306.5859\"/><polygon fill=\"#A80036\" points=\"106,143.5938,116,147.5938,106,151.5938,110,147.5938\" style=\"stroke: #A80036; stroke-width: 1.0;\"/><line style=\"stroke: #A80036; stroke-width: 1.0;\" x1=\"39\" x2=\"112\" y1=\"147.5938\" y2=\"147.5938\"/><text fill=\"#000000\" font-family=\"sans-serif\" font-size=\"13\" lengthAdjust=\"spacingAndGlyphs\" textLength=\"26\" x=\"46\" y=\"142.6606\">検索</text><polygon fill=\"#A80036\" points=\"217,172.7266,227,176.7266,217,180.7266,221,176.7266\" style=\"stroke: #A80036; stroke-width: 1.0;\"/><line style=\"stroke: #A80036; stroke-width: 1.0;\" x1=\"128\" x2=\"223\" y1=\"176.7266\" y2=\"176.7266\"/><text fill=\"#000000\" font-family=\"sans-serif\" font-size=\"13\" lengthAdjust=\"spacingAndGlyphs\" textLength=\"77\" x=\"135\" y=\"171.7935\">&lt;&lt; new &gt;&gt;</text><rect fill=\"#FEFECE\" filter=\"url(#f1)\" height=\"46.5938\" style=\"stroke: #A80036; stroke-width: 1.5;\" width=\"74\" x=\"229\" y=\"155.7266\"/><text fill=\"#000000\" font-family=\"sans-serif\" font-size=\"14\" font-style=\"italic\" lengthAdjust=\"spacingAndGlyphs\" textLength=\"60\" x=\"236\" y=\"176.7266\">«Model»</text><text fill=\"#000000\" font-family=\"sans-serif\" font-size=\"14\" lengthAdjust=\"spacingAndGlyphs\" text-decoration=\"underline\" textLength=\"47\" x=\"242.5\" y=\"193.0234\">Loader</text><line style=\"stroke: #000000; stroke-width: 1.0;\" x1=\"242.5\" x2=\"289.5\" y1=\"195.0234\" y2=\"195.0234\"/><polygon fill=\"#A80036\" points=\"251,234.3203,261,238.3203,251,242.3203,255,238.3203\" style=\"stroke: #A80036; stroke-width: 1.0;\"/><line style=\"stroke: #A80036; stroke-width: 1.0;\" x1=\"128\" x2=\"257\" y1=\"238.3203\" y2=\"238.3203\"/><text fill=\"#000000\" font-family=\"sans-serif\" font-size=\"13\" lengthAdjust=\"spacingAndGlyphs\" textLength=\"65\" x=\"135\" y=\"233.3872\">データ検索</text><polygon fill=\"#A80036\" points=\"139,268.4531,129,272.4531,139,276.4531,135,272.4531\" style=\"stroke: #A80036; stroke-width: 1.0;\"/><line style=\"stroke: #A80036; stroke-width: 1.0; stroke-dasharray: 2.0,2.0;\" x1=\"133\" x2=\"267\" y1=\"272.4531\" y2=\"272.4531\"/><text fill=\"#000000\" font-family=\"sans-serif\" font-size=\"13\" lengthAdjust=\"spacingAndGlyphs\" textLength=\"52\" x=\"145\" y=\"267.52\">検索結果</text><polygon fill=\"#FBFB77\" filter=\"url(#f1)\" points=\"278,251.4531,278,276.4531,520,276.4531,520,261.4531,510,251.4531,278,251.4531\" style=\"stroke: #A80036; stroke-width: 1.0;\"/><line style=\"stroke: #A80036; stroke-width: 1.0;\" x1=\"510\" x2=\"510\" y1=\"251.4531\" y2=\"261.4531\"/><line style=\"stroke: #A80036; stroke-width: 1.0;\" x1=\"520\" x2=\"510\" y1=\"261.4531\" y2=\"261.4531\"/><text fill=\"#000000\" font-family=\"sans-serif\" font-size=\"13\" lengthAdjust=\"spacingAndGlyphs\" textLength=\"221\" x=\"284\" y=\"268.52\">ヒットしたものをリストで返します。</text><line style=\"stroke: #A80036; stroke-width: 2.0;\" x1=\"259\" x2=\"277\" y1=\"263.4531\" y2=\"281.4531\"/><line style=\"stroke: #A80036; stroke-width: 2.0;\" x1=\"259\" x2=\"277\" y1=\"281.4531\" y2=\"263.4531\"/><polygon fill=\"#A80036\" points=\"334.5,302.5859,344.5,306.5859,334.5,310.5859,338.5,306.5859\" style=\"stroke: #A80036; stroke-width: 1.0;\"/><line style=\"stroke: #A80036; stroke-width: 1.0;\" x1=\"128\" x2=\"340.5\" y1=\"306.5859\" y2=\"306.5859\"/><text fill=\"#000000\" font-family=\"sans-serif\" font-size=\"13\" lengthAdjust=\"spacingAndGlyphs\" textLength=\"88\" x=\"135\" y=\"301.6528\">表示(検索結果)</text><rect fill=\"none\" height=\"59.2656\" style=\"stroke: #000000; stroke-width: 2.0;\" width=\"167\" x=\"307\" y=\"351.7188\"/><polygon fill=\"#EEEEEE\" points=\"307,351.7188,384,351.7188,384,358.7188,374,368.7188,307,368.7188,307,351.7188\" style=\"stroke: #000000; stroke-width: 2.0;\"/><text fill=\"#000000\" font-family=\"sans-serif\" font-size=\"13\" font-weight=\"bold\" lengthAdjust=\"spacingAndGlyphs\" textLength=\"32\" x=\"322\" y=\"364.7856\">loop</text><text fill=\"#000000\" font-family=\"sans-serif\" font-size=\"11\" font-weight=\"bold\" lengthAdjust=\"spacingAndGlyphs\" textLength=\"70\" x=\"399\" y=\"363.9292\">[1, データ数]</text><line style=\"stroke: #A80036; stroke-width: 1.0;\" x1=\"356.5\" x2=\"398.5\" y1=\"389.9844\" y2=\"389.9844\"/><line style=\"stroke: #A80036; stroke-width: 1.0;\" x1=\"398.5\" x2=\"398.5\" y1=\"389.9844\" y2=\"402.9844\"/><line style=\"stroke: #A80036; stroke-width: 1.0;\" x1=\"357.5\" x2=\"398.5\" y1=\"402.9844\" y2=\"402.9844\"/><polygon fill=\"#A80036\" points=\"367.5,398.9844,357.5,402.9844,367.5,406.9844,363.5,402.9844\" style=\"stroke: #A80036; stroke-width: 1.0;\"/><text fill=\"#000000\" font-family=\"sans-serif\" font-size=\"13\" lengthAdjust=\"spacingAndGlyphs\" textLength=\"78\" x=\"363.5\" y=\"384.9185\">データの表示</text><polygon fill=\"#A80036\" points=\"50,419.9844,40,423.9844,50,427.9844,46,423.9844\" style=\"stroke: #A80036; stroke-width: 1.0;\"/><line style=\"stroke: #A80036; stroke-width: 1.0; stroke-dasharray: 2.0,2.0;\" x1=\"44\" x2=\"350.5\" y1=\"423.9844\" y2=\"423.9844\"/></g></svg>"
      ],
      "text/plain": [
       "<IPython.core.display.SVG object>"
      ]
     },
     "execution_count": 6,
     "metadata": {},
     "output_type": "execute_result"
    }
   ],
   "source": [
    "%%plantuml figure1\n",
    "\n",
    "@startuml\n",
    "title シーケンス図のサンプル\n",
    "hide footbox\n",
    "\n",
    "actor ユーザー as user\n",
    "participant 制御部 as control <<Control>>\n",
    "participant \"<u>Loader</u>\" as model <<Model>>\n",
    "participant 画面 as view <<View>> #98FB98\n",
    "\n",
    "user -> control : 検索\n",
    "activate control\n",
    "create model\n",
    "control -> model : << new >>\n",
    "control -> model : データ検索\n",
    "activate model\n",
    "control <-- model : 検索結果\n",
    "note right : ヒットしたものをリストで返します。\n",
    "deactivate model\n",
    "destroy model\n",
    "\n",
    "control -> view : 表示(検索結果)\n",
    "activate view\n",
    "deactivate control\n",
    "loop 1, データ数\n",
    "  view -> view : データの表示\n",
    "end\n",
    "view --> user\n",
    "deactivate view\n",
    "\n",
    "@enduml"
   ]
  },
  {
   "cell_type": "code",
   "execution_count": 2,
   "metadata": {
    "collapsed": false
   },
   "outputs": [
    {
     "data": {
      "application/json": {
       "Software versions": [
        {
         "module": "Python",
         "version": "3.4.4 64bit [GCC 4.4.7 20120313 (Red Hat 4.4.7-1)]"
        },
        {
         "module": "IPython",
         "version": "4.0.3"
        },
        {
         "module": "OS",
         "version": "Linux 4.1.17 boot2docker x86_64 with debian 8.2"
        },
        {
         "module": "jinja2",
         "version": "2.8"
        },
        {
         "module": "sphinx",
         "version": "1.3.5"
        },
        {
         "module": "pyzmq",
         "version": "15.2.0"
        },
        {
         "module": "pygments",
         "version": "2.0.2"
        },
        {
         "module": "tornado",
         "version": "4.3"
        },
        {
         "module": "nose",
         "version": "The 'nose' distribution was not found and is required by the application"
        },
        {
         "module": "readline",
         "version": "The 'readline' distribution was not found and is required by the application"
        },
        {
         "module": "gnureadline",
         "version": "The 'gnureadline' distribution was not found and is required by the application"
        }
       ]
      },
      "text/html": [
       "<table><tr><th>Software</th><th>Version</th></tr><tr><td>Python</td><td>3.4.4 64bit [GCC 4.4.7 20120313 (Red Hat 4.4.7-1)]</td></tr><tr><td>IPython</td><td>4.0.3</td></tr><tr><td>OS</td><td>Linux 4.1.17 boot2docker x86_64 with debian 8.2</td></tr><tr><td>jinja2</td><td>2.8</td></tr><tr><td>sphinx</td><td>1.3.5</td></tr><tr><td>pyzmq</td><td>15.2.0</td></tr><tr><td>pygments</td><td>2.0.2</td></tr><tr><td>tornado</td><td>4.3</td></tr><tr><td>nose</td><td>The 'nose' distribution was not found and is required by the application</td></tr><tr><td>readline</td><td>The 'readline' distribution was not found and is required by the application</td></tr><tr><td>gnureadline</td><td>The 'gnureadline' distribution was not found and is required by the application</td></tr><tr><td colspan='2'>Mon Jun 13 03:30:38 2016 UTC</td></tr></table>"
      ],
      "text/latex": [
       "\\begin{tabular}{|l|l|}\\hline\n",
       "{\\bf Software} & {\\bf Version} \\\\ \\hline\\hline\n",
       "Python & 3.4.4 64bit [GCC 4.4.7 20120313 (Red Hat 4.4.7-1)] \\\\ \\hline\n",
       "IPython & 4.0.3 \\\\ \\hline\n",
       "OS & Linux 4.1.17 boot2docker x86\\_64 with debian 8.2 \\\\ \\hline\n",
       "jinja2 & 2.8 \\\\ \\hline\n",
       "sphinx & 1.3.5 \\\\ \\hline\n",
       "pyzmq & 15.2.0 \\\\ \\hline\n",
       "pygments & 2.0.2 \\\\ \\hline\n",
       "tornado & 4.3 \\\\ \\hline\n",
       "nose & The 'nose' distribution was not found and is required by the application \\\\ \\hline\n",
       "readline & The 'readline' distribution was not found and is required by the application \\\\ \\hline\n",
       "gnureadline & The 'gnureadline' distribution was not found and is required by the application \\\\ \\hline\n",
       "\\hline \\multicolumn{2}{|l|}{Mon Jun 13 03:30:38 2016 UTC} \\\\ \\hline\n",
       "\\end{tabular}\n"
      ],
      "text/plain": [
       "Software versions\n",
       "Python 3.4.4 64bit [GCC 4.4.7 20120313 (Red Hat 4.4.7-1)]\n",
       "IPython 4.0.3\n",
       "OS Linux 4.1.17 boot2docker x86_64 with debian 8.2\n",
       "jinja2 2.8\n",
       "sphinx 1.3.5\n",
       "pyzmq 15.2.0\n",
       "pygments 2.0.2\n",
       "tornado 4.3\n",
       "nose The 'nose' distribution was not found and is required by the application\n",
       "readline The 'readline' distribution was not found and is required by the application\n",
       "gnureadline The 'gnureadline' distribution was not found and is required by the application\n",
       "Mon Jun 13 03:30:38 2016 UTC"
      ]
     },
     "execution_count": 2,
     "metadata": {},
     "output_type": "execute_result"
    }
   ],
   "source": [
    "%load_ext version_information\n",
    "%version_information jinja2,sphinx, pyzmq, pygments, tornado, nose, readline, gnureadline"
   ]
  },
  {
   "cell_type": "code",
   "execution_count": 7,
   "metadata": {
    "collapsed": false
   },
   "outputs": [
    {
     "data": {
      "image/svg+xml": [
       "<svg height=\"125px\" style=\"width:150px;height:125px;\" version=\"1.1\" viewBox=\"0 0 150 125\" width=\"150px\" xmlns=\"http://www.w3.org/2000/svg\" xmlns:xlink=\"http://www.w3.org/1999/xlink\"><defs><filter height=\"300%\" id=\"f1\" width=\"300%\" x=\"-1\" y=\"-1\"><feGaussianBlur result=\"blurOut\" stdDeviation=\"2.0\"/><feColorMatrix in=\"blurOut\" result=\"blurOut2\" type=\"matrix\" values=\"0 0 0 0 0 0 0 0 0 0 0 0 0 0 0 0 0 0 .4 0\"/><feOffset dx=\"4.0\" dy=\"4.0\" in=\"blurOut2\" result=\"blurOut3\"/><feBlend in=\"SourceGraphic\" in2=\"blurOut3\" mode=\"normal\"/></filter></defs><g><line style=\"stroke: #A80036; stroke-width: 1.0; stroke-dasharray: 5.0,5.0;\" x1=\"33\" x2=\"33\" y1=\"38.2969\" y2=\"87.4297\"/><line style=\"stroke: #A80036; stroke-width: 1.0; stroke-dasharray: 5.0,5.0;\" x1=\"122\" x2=\"122\" y1=\"38.2969\" y2=\"87.4297\"/><rect fill=\"#FEFECE\" filter=\"url(#f1)\" height=\"30.2969\" style=\"stroke: #A80036; stroke-width: 1.5;\" width=\"46\" x=\"8\" y=\"3\"/><text fill=\"#000000\" font-family=\"sans-serif\" font-size=\"14\" lengthAdjust=\"spacingAndGlyphs\" textLength=\"32\" x=\"15\" y=\"22.9951\">Alice</text><rect fill=\"#FEFECE\" filter=\"url(#f1)\" height=\"30.2969\" style=\"stroke: #A80036; stroke-width: 1.5;\" width=\"46\" x=\"8\" y=\"86.4297\"/><text fill=\"#000000\" font-family=\"sans-serif\" font-size=\"14\" lengthAdjust=\"spacingAndGlyphs\" textLength=\"32\" x=\"15\" y=\"106.4248\">Alice</text><rect fill=\"#FEFECE\" filter=\"url(#f1)\" height=\"30.2969\" style=\"stroke: #A80036; stroke-width: 1.5;\" width=\"42\" x=\"99\" y=\"3\"/><text fill=\"#000000\" font-family=\"sans-serif\" font-size=\"14\" lengthAdjust=\"spacingAndGlyphs\" textLength=\"28\" x=\"106\" y=\"22.9951\">Bob</text><rect fill=\"#FEFECE\" filter=\"url(#f1)\" height=\"30.2969\" style=\"stroke: #A80036; stroke-width: 1.5;\" width=\"42\" x=\"99\" y=\"86.4297\"/><text fill=\"#000000\" font-family=\"sans-serif\" font-size=\"14\" lengthAdjust=\"spacingAndGlyphs\" textLength=\"28\" x=\"106\" y=\"106.4248\">Bob</text><polygon fill=\"#A80036\" points=\"110,65.2969,120,69.2969,110,73.2969,114,69.2969\" style=\"stroke: #A80036; stroke-width: 1.0;\"/><line style=\"stroke: #A80036; stroke-width: 1.0;\" x1=\"33\" x2=\"116\" y1=\"69.2969\" y2=\"69.2969\"/><text fill=\"#000000\" font-family=\"sans-serif\" font-size=\"13\" lengthAdjust=\"spacingAndGlyphs\" textLength=\"65\" x=\"40\" y=\"64.3638\">メッセージ</text></g></svg>"
      ],
      "text/plain": [
       "<IPython.core.display.SVG object>"
      ]
     },
     "execution_count": 7,
     "metadata": {},
     "output_type": "execute_result"
    }
   ],
   "source": [
    "%%plantuml figure1\n",
    "@startuml\n",
    "Alice -> Bob: メッセージ\n",
    "@enduml"
   ]
  },
  {
   "cell_type": "code",
   "execution_count": 8,
   "metadata": {
    "collapsed": false
   },
   "outputs": [
    {
     "data": {
      "image/svg+xml": [
       "<svg height=\"147px\" style=\"width:65px;height:147px;\" version=\"1.1\" viewBox=\"0 0 65 147\" width=\"65px\" xmlns=\"http://www.w3.org/2000/svg\" xmlns:xlink=\"http://www.w3.org/1999/xlink\"><defs><filter height=\"300%\" id=\"f1\" width=\"300%\" x=\"-1\" y=\"-1\"><feGaussianBlur result=\"blurOut\" stdDeviation=\"2.0\"/><feColorMatrix in=\"blurOut\" result=\"blurOut2\" type=\"matrix\" values=\"0 0 0 0 0 0 0 0 0 0 0 0 0 0 0 0 0 0 .4 0\"/><feOffset dx=\"4.0\" dy=\"4.0\" in=\"blurOut2\" result=\"blurOut3\"/><feBlend in=\"SourceGraphic\" in2=\"blurOut3\" mode=\"normal\"/></filter></defs><g><ellipse cx=\"31\" cy=\"18\" fill=\"#000000\" filter=\"url(#f1)\" rx=\"10\" ry=\"10\" style=\"stroke: none; stroke-width: 1.0;\"/><rect fill=\"#FEFECE\" filter=\"url(#f1)\" height=\"50\" rx=\"12.5\" ry=\"12.5\" style=\"stroke: #A80036; stroke-width: 1.5;\" width=\"50\" x=\"6\" y=\"88\"/><line style=\"stroke: #A80036; stroke-width: 1.5;\" x1=\"6\" x2=\"56\" y1=\"114.2969\" y2=\"114.2969\"/><text fill=\"#000000\" font-family=\"sans-serif\" font-size=\"14\" lengthAdjust=\"spacingAndGlyphs\" textLength=\"28\" x=\"17\" y=\"105.9951\">停止</text><path d=\"M31,28.257 C31,40.8559 31,63.9809 31,82.7428 \" fill=\"none\" style=\"stroke: #A80036; stroke-width: 1.0;\"/><polygon fill=\"#A80036\" points=\"31,87.9065,35,78.9065,31,82.9065,27,78.9065,31,87.9065\" style=\"stroke: #A80036; stroke-width: 1.0;\"/></g></svg>"
      ],
      "text/plain": [
       "<IPython.core.display.SVG object>"
      ]
     },
     "execution_count": 8,
     "metadata": {},
     "output_type": "execute_result"
    }
   ],
   "source": [
    "%%plantuml figure1\n",
    "\n",
    "@startuml\n",
    "\n",
    "[*] --> 停止\n",
    "\n",
    "@enduml"
   ]
  },
  {
   "cell_type": "code",
   "execution_count": 9,
   "metadata": {
    "collapsed": false
   },
   "outputs": [
    {
     "data": {
      "image/svg+xml": [
       "<svg height=\"321px\" style=\"width:333px;height:321px;\" version=\"1.1\" viewBox=\"0 0 333 321\" width=\"333px\" xmlns=\"http://www.w3.org/2000/svg\" xmlns:xlink=\"http://www.w3.org/1999/xlink\"><defs><filter height=\"300%\" id=\"f1\" width=\"300%\" x=\"-1\" y=\"-1\"><feGaussianBlur result=\"blurOut\" stdDeviation=\"2.0\"/><feColorMatrix in=\"blurOut\" result=\"blurOut2\" type=\"matrix\" values=\"0 0 0 0 0 0 0 0 0 0 0 0 0 0 0 0 0 0 .4 0\"/><feOffset dx=\"4.0\" dy=\"4.0\" in=\"blurOut2\" result=\"blurOut3\"/><feBlend in=\"SourceGraphic\" in2=\"blurOut3\" mode=\"normal\"/></filter></defs><g><ellipse cx=\"16\" cy=\"33\" fill=\"#000000\" filter=\"url(#f1)\" rx=\"10\" ry=\"10\" style=\"stroke: none; stroke-width: 1.0;\"/><rect fill=\"#FEFECE\" filter=\"url(#f1)\" height=\"50\" rx=\"12.5\" ry=\"12.5\" style=\"stroke: #A80036; stroke-width: 1.5;\" width=\"62\" x=\"96\" y=\"8\"/><line style=\"stroke: #A80036; stroke-width: 1.5;\" x1=\"96\" x2=\"158\" y1=\"34.2969\" y2=\"34.2969\"/><text fill=\"#000000\" font-family=\"sans-serif\" font-size=\"14\" lengthAdjust=\"spacingAndGlyphs\" textLength=\"42\" x=\"106\" y=\"25.9951\">未予約</text><rect fill=\"#FEFECE\" filter=\"url(#f1)\" height=\"50\" rx=\"12.5\" ry=\"12.5\" style=\"stroke: #A80036; stroke-width: 1.5;\" width=\"76\" x=\"89\" y=\"135\"/><line style=\"stroke: #A80036; stroke-width: 1.5;\" x1=\"89\" x2=\"165\" y1=\"161.2969\" y2=\"161.2969\"/><text fill=\"#000000\" font-family=\"sans-serif\" font-size=\"14\" lengthAdjust=\"spacingAndGlyphs\" textLength=\"56\" x=\"99\" y=\"152.9951\">予約済み</text><rect fill=\"#FEFECE\" filter=\"url(#f1)\" height=\"50\" rx=\"12.5\" ry=\"12.5\" style=\"stroke: #A80036; stroke-width: 1.5;\" width=\"76\" x=\"89\" y=\"262\"/><line style=\"stroke: #A80036; stroke-width: 1.5;\" x1=\"89\" x2=\"165\" y1=\"288.2969\" y2=\"288.2969\"/><text fill=\"#000000\" font-family=\"sans-serif\" font-size=\"14\" lengthAdjust=\"spacingAndGlyphs\" textLength=\"56\" x=\"99\" y=\"279.9951\">出荷済み</text><ellipse cx=\"245\" cy=\"287\" fill=\"none\" filter=\"url(#f1)\" rx=\"10\" ry=\"10\" style=\"stroke: #000000; stroke-width: 1.0;\"/><ellipse cx=\"245.5\" cy=\"287.5\" fill=\"#000000\" rx=\"6\" ry=\"6\" style=\"stroke: none; stroke-width: 1.0;\"/><path d=\"M26.4062,33 C47.8693,33 69.3323,33 90.7954,33 \" fill=\"none\" style=\"stroke: #A80036; stroke-width: 1.0;\"/><polygon fill=\"#A80036\" points=\"95.9574,33,86.9574,29,90.9574,33,86.9574,37,95.9574,33\" style=\"stroke: #A80036; stroke-width: 1.0;\"/><path d=\"M158.235,22.014 C176.24,19.771 193,23.434 193,33 C193,41.67 179.235,45.49 163.253,44.461 \" fill=\"none\" style=\"stroke: #A80036; stroke-width: 1.0;\"/><polygon fill=\"#A80036\" points=\"158.235,43.986,166.8178,48.8166,163.2127,44.4573,167.572,40.8522,158.235,43.986\" style=\"stroke: #A80036; stroke-width: 1.0;\"/><text fill=\"#000000\" font-family=\"sans-serif\" font-size=\"13\" lengthAdjust=\"spacingAndGlyphs\" textLength=\"133\" x=\"199\" y=\"37.5669\">予約[在庫数 &lt; 注文数]</text><path d=\"M127,58.101 C127,78.593 127,108.076 127,129.884 \" fill=\"none\" style=\"stroke: #A80036; stroke-width: 1.0;\"/><polygon fill=\"#A80036\" points=\"127,134.973,131,125.973,127,129.973,123,125.973,127,134.973\" style=\"stroke: #A80036; stroke-width: 1.0;\"/><text fill=\"#000000\" font-family=\"sans-serif\" font-size=\"13\" lengthAdjust=\"spacingAndGlyphs\" textLength=\"148\" x=\"128\" y=\"101.0669\">予約 [在庫数 &gt;= 注文数]</text><path d=\"M127,185.101 C127,205.593 127,235.0764 127,256.8844 \" fill=\"none\" style=\"stroke: #A80036; stroke-width: 1.0;\"/><polygon fill=\"#A80036\" points=\"127,261.9727,131,252.9727,127,256.9727,123,252.9727,127,261.9727\" style=\"stroke: #A80036; stroke-width: 1.0;\"/><text fill=\"#000000\" font-family=\"sans-serif\" font-size=\"13\" lengthAdjust=\"spacingAndGlyphs\" textLength=\"78\" x=\"128\" y=\"228.0669\">出荷作業完了</text><path d=\"M165.258,287 C186.694,287 208.129,287 229.565,287 \" fill=\"none\" style=\"stroke: #A80036; stroke-width: 1.0;\"/><polygon fill=\"#A80036\" points=\"234.721,287,225.721,283,229.721,287,225.721,291,234.721,287\" style=\"stroke: #A80036; stroke-width: 1.0;\"/></g></svg>"
      ],
      "text/plain": [
       "<IPython.core.display.SVG object>"
      ]
     },
     "execution_count": 9,
     "metadata": {},
     "output_type": "execute_result"
    }
   ],
   "source": [
    "%%plantuml figure1\n",
    "@startuml\n",
    "\n",
    "[*] -> 未予約\n",
    "未予約 --> 未予約 : 予約[在庫数 < 注文数]\n",
    "未予約 --> 予約済み : 予約 [在庫数 >= 注文数]\n",
    "予約済み --> 出荷済み : 出荷作業完了\n",
    "出荷済み -> [*]\n",
    "\n",
    "@enduml"
   ]
  },
  {
   "cell_type": "code",
   "execution_count": 10,
   "metadata": {
    "collapsed": false
   },
   "outputs": [
    {
     "data": {
      "image/svg+xml": [
       "<svg height=\"359px\" style=\"width:285px;height:359px;\" version=\"1.1\" viewBox=\"0 0 285 359\" width=\"285px\" xmlns=\"http://www.w3.org/2000/svg\" xmlns:xlink=\"http://www.w3.org/1999/xlink\"><defs><filter height=\"300%\" id=\"f1\" width=\"300%\" x=\"-1\" y=\"-1\"><feGaussianBlur result=\"blurOut\" stdDeviation=\"2.0\"/><feColorMatrix in=\"blurOut\" result=\"blurOut2\" type=\"matrix\" values=\"0 0 0 0 0 0 0 0 0 0 0 0 0 0 0 0 0 0 .4 0\"/><feOffset dx=\"4.0\" dy=\"4.0\" in=\"blurOut2\" result=\"blurOut3\"/><feBlend in=\"SourceGraphic\" in2=\"blurOut3\" mode=\"normal\"/></filter></defs><g><ellipse cx=\"141.1144\" cy=\"332.4229\" fill=\"#FEFECE\" filter=\"url(#f1)\" rx=\"90.1144\" ry=\"20.4229\" style=\"stroke: #A80036; stroke-width: 1.5;\"/><text fill=\"#000000\" font-family=\"sans-serif\" font-size=\"14\" lengthAdjust=\"spacingAndGlyphs\" textLength=\"154\" x=\"64.1144\" y=\"337.0713\">アプリケーションの使用</text><ellipse cx=\"22\" cy=\"162\" fill=\"#FEFECE\" filter=\"url(#f1)\" rx=\"8\" ry=\"8\" style=\"stroke: #A80036; stroke-width: 2.0;\"/><path d=\"M22,170 L22,197 M9,178 L35,178 M22,197 L9,212 M22,197 L35,212 \" fill=\"#FEFECE\" filter=\"url(#f1)\" style=\"stroke: #A80036; stroke-width: 2.0;\"/><text fill=\"#000000\" font-family=\"sans-serif\" font-size=\"14\" lengthAdjust=\"spacingAndGlyphs\" textLength=\"32\" x=\"6\" y=\"231.9951\">User</text><ellipse cx=\"130.799\" cy=\"193.5236\" fill=\"#FEFECE\" filter=\"url(#f1)\" rx=\"22.799\" ry=\"14.5236\" style=\"stroke: #A80036; stroke-width: 1.5;\"/><text fill=\"#000000\" font-family=\"sans-serif\" font-size=\"14\" lengthAdjust=\"spacingAndGlyphs\" textLength=\"28\" x=\"116.799\" y=\"198.1721\">開始</text><ellipse cx=\"224\" cy=\"18\" fill=\"#FEFECE\" filter=\"url(#f1)\" rx=\"8\" ry=\"8\" style=\"stroke: #A80036; stroke-width: 2.0;\"/><path d=\"M224,26 L224,53 M211,34 L237,34 M224,53 L211,68 M224,53 L237,68 \" fill=\"#FEFECE\" filter=\"url(#f1)\" style=\"stroke: #A80036; stroke-width: 2.0;\"/><text fill=\"#000000\" font-family=\"sans-serif\" font-size=\"14\" lengthAdjust=\"spacingAndGlyphs\" textLength=\"79\" x=\"184.5\" y=\"87.9951\">Main Admin</text><path d=\"M38.1797,193.5 C61.3848,193.5 84.5898,193.5 107.795,193.5 \" fill=\"none\" style=\"stroke: #A80036; stroke-width: 1.0;\"/><path d=\"M38.084,215.873 C51.8967,233.912 72.5939,260.2072 92,282 C101.1675,292.2949 111.887,303.237 120.958,312.2082 \" fill=\"none\" style=\"stroke: #A80036; stroke-width: 1.0;\"/><text fill=\"#000000\" font-family=\"sans-serif\" font-size=\"13\" lengthAdjust=\"spacingAndGlyphs\" textLength=\"104\" x=\"93\" y=\"278.0669\">関係を表すラベル</text><path d=\"M229.233,91.271 C233.487,139.752 234.321,221.683 202,282 C195.301,294.5021 183.977,305.0157 172.892,313.0931 \" fill=\"none\" style=\"stroke: #A80036; stroke-width: 1.0;\"/><text fill=\"#000000\" font-family=\"sans-serif\" font-size=\"13\" lengthAdjust=\"spacingAndGlyphs\" textLength=\"52\" x=\"232\" y=\"190.5669\">複数行の</text><text fill=\"#000000\" font-family=\"sans-serif\" font-size=\"13\" lengthAdjust=\"spacingAndGlyphs\" textLength=\"39\" x=\"238.5\" y=\"205.6997\">ラベル</text></g></svg>"
      ],
      "text/plain": [
       "<IPython.core.display.SVG object>"
      ]
     },
     "execution_count": 10,
     "metadata": {},
     "output_type": "execute_result"
    }
   ],
   "source": [
    "%%plantuml figure1\n",
    "@startuml\n",
    "\n",
    "(アプリケーションの使用) as use\n",
    "\n",
    "User - (開始)\n",
    "User -- use : 関係を表すラベル\n",
    "\n",
    ":Main Admin: --- use : 複数行の\\nラベル\n",
    "\n",
    "@enduml"
   ]
  },
  {
   "cell_type": "code",
   "execution_count": 11,
   "metadata": {
    "collapsed": false
   },
   "outputs": [
    {
     "data": {
      "image/svg+xml": [
       "<svg height=\"195px\" style=\"width:201px;height:195px;\" version=\"1.1\" viewBox=\"0 0 201 195\" width=\"201px\" xmlns=\"http://www.w3.org/2000/svg\" xmlns:xlink=\"http://www.w3.org/1999/xlink\"><defs><filter height=\"300%\" id=\"f1\" width=\"300%\" x=\"-1\" y=\"-1\"><feGaussianBlur result=\"blurOut\" stdDeviation=\"2.0\"/><feColorMatrix in=\"blurOut\" result=\"blurOut2\" type=\"matrix\" values=\"0 0 0 0 0 0 0 0 0 0 0 0 0 0 0 0 0 0 .4 0\"/><feOffset dx=\"4.0\" dy=\"4.0\" in=\"blurOut2\" result=\"blurOut3\"/><feBlend in=\"SourceGraphic\" in2=\"blurOut3\" mode=\"normal\"/></filter></defs><g><rect fill=\"#FEFECE\" filter=\"url(#f1)\" height=\"48\" style=\"stroke: #A80036; stroke-width: 1.5;\" width=\"73\" x=\"8\" y=\"8\"/><ellipse cx=\"23\" cy=\"24\" fill=\"#ADD1B2\" rx=\"11\" ry=\"11\" style=\"stroke: #A80036; stroke-width: 1.0;\"/><path d=\"M25.9688,29.6406 Q25.3906,29.9375 24.75,30.0859 Q24.1094,30.2344 23.4063,30.2344 Q20.9063,30.2344 19.5859,28.5859 Q18.2656,26.9375 18.2656,23.8125 Q18.2656,20.6875 19.5859,19.0313 Q20.9063,17.375 23.4063,17.375 Q24.1094,17.375 24.7578,17.5313 Q25.4063,17.6875 25.9688,17.9844 L25.9688,20.7031 Q25.3438,20.125 24.75,19.8516 Q24.1563,19.5781 23.5313,19.5781 Q22.1875,19.5781 21.5,20.6484 Q20.8125,21.7188 20.8125,23.8125 Q20.8125,25.9063 21.5,26.9766 Q22.1875,28.0469 23.5313,28.0469 Q24.1563,28.0469 24.75,27.7734 Q25.3438,27.5 25.9688,26.9219 L25.9688,29.6406 Z \"/><text fill=\"#000000\" font-family=\"sans-serif\" font-size=\"12\" lengthAdjust=\"spacingAndGlyphs\" textLength=\"41\" x=\"37\" y=\"28.1543\">ClassA</text><line style=\"stroke: #A80036; stroke-width: 1.5;\" x1=\"9\" x2=\"80\" y1=\"40\" y2=\"40\"/><line style=\"stroke: #A80036; stroke-width: 1.5;\" x1=\"9\" x2=\"80\" y1=\"48\" y2=\"48\"/><rect fill=\"#FEFECE\" filter=\"url(#f1)\" height=\"48\" style=\"stroke: #A80036; stroke-width: 1.5;\" width=\"77\" x=\"6\" y=\"136\"/><ellipse cx=\"21\" cy=\"152\" fill=\"#ADD1B2\" rx=\"11\" ry=\"11\" style=\"stroke: #A80036; stroke-width: 1.0;\"/><path d=\"M23.9688,157.6406 Q23.3906,157.9375 22.75,158.0859 Q22.1094,158.2344 21.4063,158.2344 Q18.9063,158.2344 17.5859,156.5859 Q16.2656,154.9375 16.2656,151.8125 Q16.2656,148.6875 17.5859,147.0313 Q18.9063,145.375 21.4063,145.375 Q22.1094,145.375 22.7578,145.5313 Q23.4063,145.6875 23.9688,145.9844 L23.9688,148.7031 Q23.3438,148.125 22.75,147.8516 Q22.1563,147.5781 21.5313,147.5781 Q20.1875,147.5781 19.5,148.6484 Q18.8125,149.7188 18.8125,151.8125 Q18.8125,153.9063 19.5,154.9766 Q20.1875,156.0469 21.5313,156.0469 Q22.1563,156.0469 22.75,155.7734 Q23.3438,155.5 23.9688,154.9219 L23.9688,157.6406 Z \"/><text fill=\"#000000\" font-family=\"sans-serif\" font-size=\"12\" lengthAdjust=\"spacingAndGlyphs\" textLength=\"45\" x=\"35\" y=\"156.1543\">Class B</text><line style=\"stroke: #A80036; stroke-width: 1.5;\" x1=\"7\" x2=\"82\" y1=\"168\" y2=\"168\"/><line style=\"stroke: #A80036; stroke-width: 1.5;\" x1=\"7\" x2=\"82\" y1=\"176\" y2=\"176\"/><rect fill=\"#FEFECE\" filter=\"url(#f1)\" height=\"48\" style=\"stroke: #A80036; stroke-width: 1.5;\" width=\"76\" x=\"116.5\" y=\"8\"/><ellipse cx=\"131.5\" cy=\"24\" fill=\"#ADD1B2\" rx=\"11\" ry=\"11\" style=\"stroke: #A80036; stroke-width: 1.0;\"/><path d=\"M134.4688,29.6406 Q133.8906,29.9375 133.25,30.0859 Q132.6094,30.2344 131.9063,30.2344 Q129.4063,30.2344 128.0859,28.5859 Q126.7656,26.9375 126.7656,23.8125 Q126.7656,20.6875 128.0859,19.0313 Q129.4063,17.375 131.9063,17.375 Q132.6094,17.375 133.2578,17.5313 Q133.9063,17.6875 134.4688,17.9844 L134.4688,20.7031 Q133.8438,20.125 133.25,19.8516 Q132.6563,19.5781 132.0313,19.5781 Q130.6875,19.5781 130,20.6484 Q129.3125,21.7188 129.3125,23.8125 Q129.3125,25.9063 130,26.9766 Q130.6875,28.0469 132.0313,28.0469 Q132.6563,28.0469 133.25,27.7734 Q133.8438,27.5 134.4688,26.9219 L134.4688,29.6406 Z \"/><text fill=\"#000000\" font-family=\"sans-serif\" font-size=\"12\" lengthAdjust=\"spacingAndGlyphs\" textLength=\"44\" x=\"145.5\" y=\"28.1543\">クラスC</text><line style=\"stroke: #A80036; stroke-width: 1.5;\" x1=\"117.5\" x2=\"191.5\" y1=\"40\" y2=\"40\"/><line style=\"stroke: #A80036; stroke-width: 1.5;\" x1=\"117.5\" x2=\"191.5\" y1=\"48\" y2=\"48\"/><rect fill=\"#FEFECE\" filter=\"url(#f1)\" height=\"53.9375\" style=\"stroke: #A80036; stroke-width: 1.5;\" width=\"65\" x=\"122\" y=\"133\"/><ellipse cx=\"137\" cy=\"151.9688\" fill=\"#ADD1B2\" rx=\"11\" ry=\"11\" style=\"stroke: #A80036; stroke-width: 1.0;\"/><path d=\"M139.9688,157.6094 Q139.3906,157.9063 138.75,158.0547 Q138.1094,158.2031 137.4063,158.2031 Q134.9063,158.2031 133.5859,156.5547 Q132.2656,154.9063 132.2656,151.7813 Q132.2656,148.6563 133.5859,147 Q134.9063,145.3438 137.4063,145.3438 Q138.1094,145.3438 138.7578,145.5 Q139.4063,145.6563 139.9688,145.9531 L139.9688,148.6719 Q139.3438,148.0938 138.75,147.8203 Q138.1563,147.5469 137.5313,147.5469 Q136.1875,147.5469 135.5,148.6172 Q134.8125,149.6875 134.8125,151.7813 Q134.8125,153.875 135.5,154.9453 Q136.1875,156.0156 137.5313,156.0156 Q138.1563,156.0156 138.75,155.7422 Q139.3438,155.4688 139.9688,154.8906 L139.9688,157.6094 Z \"/><text fill=\"#000000\" font-family=\"sans-serif\" font-size=\"12\" lengthAdjust=\"spacingAndGlyphs\" textLength=\"33\" x=\"151\" y=\"149.1387\">Class</text><text fill=\"#000000\" font-family=\"sans-serif\" font-size=\"12\" lengthAdjust=\"spacingAndGlyphs\" textLength=\"9\" x=\"163\" y=\"163.1074\">D</text><line style=\"stroke: #A80036; stroke-width: 1.5;\" x1=\"123\" x2=\"186\" y1=\"170.9375\" y2=\"170.9375\"/><line style=\"stroke: #A80036; stroke-width: 1.5;\" x1=\"123\" x2=\"186\" y1=\"178.9375\" y2=\"178.9375\"/><path d=\"M44.5,56.11 C44.5,78.703 44.5,112.9216 44.5,135.6095 \" fill=\"none\" style=\"stroke: #A80036; stroke-width: 1.0;\"/><path d=\"M154.5,56.11 C154.5,77.85 154.5,110.3556 154.5,132.993 \" fill=\"none\" style=\"stroke: #A80036; stroke-width: 1.0;\"/><text fill=\"#000000\" font-family=\"sans-serif\" font-size=\"13\" lengthAdjust=\"spacingAndGlyphs\" textLength=\"26\" x=\"155.5\" y=\"99.0669\">関係</text></g></svg>"
      ],
      "text/plain": [
       "<IPython.core.display.SVG object>"
      ]
     },
     "execution_count": 11,
     "metadata": {},
     "output_type": "execute_result"
    }
   ],
   "source": [
    "%%plantuml figure1\n",
    "@startuml\n",
    "\n",
    "ClassA -- \"Class B\"\n",
    "\"クラスC\" -- \"Class\\nD\" : 関係\n",
    "\n",
    "@enduml"
   ]
  },
  {
   "cell_type": "code",
   "execution_count": 12,
   "metadata": {
    "collapsed": false
   },
   "outputs": [
    {
     "data": {
      "image/svg+xml": [
       "<svg height=\"243px\" style=\"width:71px;height:243px;\" version=\"1.1\" viewBox=\"0 0 71 243\" width=\"71px\" xmlns=\"http://www.w3.org/2000/svg\" xmlns:xlink=\"http://www.w3.org/1999/xlink\"><defs><filter height=\"300%\" id=\"f1\" width=\"300%\" x=\"-1\" y=\"-1\"><feGaussianBlur result=\"blurOut\" stdDeviation=\"2.0\"/><feColorMatrix in=\"blurOut\" result=\"blurOut2\" type=\"matrix\" values=\"0 0 0 0 0 0 0 0 0 0 0 0 0 0 0 0 0 0 .4 0\"/><feOffset dx=\"4.0\" dy=\"4.0\" in=\"blurOut2\" result=\"blurOut3\"/><feBlend in=\"SourceGraphic\" in2=\"blurOut3\" mode=\"normal\"/></filter></defs><g><ellipse cx=\"34\" cy=\"18\" fill=\"#000000\" filter=\"url(#f1)\" rx=\"10\" ry=\"10\" style=\"stroke: none; stroke-width: 1.0;\"/><rect fill=\"#FEFECE\" filter=\"url(#f1)\" height=\"33.9688\" rx=\"12.5\" ry=\"12.5\" style=\"stroke: #A80036; stroke-width: 1.5;\" width=\"56\" x=\"6\" y=\"68\"/><text fill=\"#000000\" font-family=\"sans-serif\" font-size=\"12\" lengthAdjust=\"spacingAndGlyphs\" textLength=\"36\" x=\"16\" y=\"89.1387\">処理 1</text><rect fill=\"#FEFECE\" filter=\"url(#f1)\" height=\"33.9688\" rx=\"12.5\" ry=\"12.5\" style=\"stroke: #A80036; stroke-width: 1.5;\" width=\"56\" x=\"6\" y=\"142\"/><text fill=\"#000000\" font-family=\"sans-serif\" font-size=\"12\" lengthAdjust=\"spacingAndGlyphs\" textLength=\"36\" x=\"16\" y=\"163.1387\">処理 2</text><ellipse cx=\"34\" cy=\"226\" fill=\"none\" filter=\"url(#f1)\" rx=\"10\" ry=\"10\" style=\"stroke: #000000; stroke-width: 1.0;\"/><ellipse cx=\"34.5\" cy=\"226.5\" fill=\"#000000\" rx=\"6\" ry=\"6\" style=\"stroke: none; stroke-width: 1.0;\"/><path d=\"M34,28.038 C34,36.932 34,50.844 34,62.572 \" fill=\"none\" style=\"stroke: #A80036; stroke-width: 1.0;\"/><polygon fill=\"#A80036\" points=\"34,67.781,38,58.781,34,62.781,30,58.781,34,67.781\" style=\"stroke: #A80036; stroke-width: 1.0;\"/><path d=\"M34,102.338 C34,112.464 34,125.584 34,136.5432 \" fill=\"none\" style=\"stroke: #A80036; stroke-width: 1.0;\"/><polygon fill=\"#A80036\" points=\"34,141.7267,38,132.7267,34,136.7267,30,132.7267,34,141.7267\" style=\"stroke: #A80036; stroke-width: 1.0;\"/><path d=\"M34,176.0674 C34,186.5986 34,200.2536 34,210.4618 \" fill=\"none\" style=\"stroke: #A80036; stroke-width: 1.0;\"/><polygon fill=\"#A80036\" points=\"34,215.7367,38,206.7367,34,210.7367,30,206.7367,34,215.7367\" style=\"stroke: #A80036; stroke-width: 1.0;\"/></g></svg>"
      ],
      "text/plain": [
       "<IPython.core.display.SVG object>"
      ]
     },
     "execution_count": 12,
     "metadata": {},
     "output_type": "execute_result"
    }
   ],
   "source": [
    "%%plantuml figure1\n",
    "@startuml\n",
    "\n",
    "(*) --> \"処理 1\"\n",
    "\"処理 1\" --> \"処理 2\"\n",
    "\"処理 2\" --> (*)\n",
    "\n",
    "@enduml"
   ]
  },
  {
   "cell_type": "code",
   "execution_count": 13,
   "metadata": {
    "collapsed": false
   },
   "outputs": [
    {
     "data": {
      "image/svg+xml": [
       "<svg height=\"265px\" style=\"width:427px;height:265px;\" version=\"1.1\" viewBox=\"0 0 427 265\" width=\"427px\" xmlns=\"http://www.w3.org/2000/svg\" xmlns:xlink=\"http://www.w3.org/1999/xlink\"><defs><filter height=\"300%\" id=\"f1\" width=\"300%\" x=\"-1\" y=\"-1\"><feGaussianBlur result=\"blurOut\" stdDeviation=\"2.0\"/><feColorMatrix in=\"blurOut\" result=\"blurOut2\" type=\"matrix\" values=\"0 0 0 0 0 0 0 0 0 0 0 0 0 0 0 0 0 0 .4 0\"/><feOffset dx=\"4.0\" dy=\"4.0\" in=\"blurOut2\" result=\"blurOut3\"/><feBlend in=\"SourceGraphic\" in2=\"blurOut3\" mode=\"normal\"/></filter></defs><g><ellipse cx=\"47\" cy=\"26.5\" fill=\"#FEFECE\" filter=\"url(#f1)\" rx=\"8\" ry=\"8\" style=\"stroke: #A80036; stroke-width: 2.0;\"/><path d=\"M47,34.5 L47,61.5 M34,42.5 L60,42.5 M47,61.5 L34,76.5 M47,61.5 L60,76.5 \" fill=\"#FEFECE\" filter=\"url(#f1)\" style=\"stroke: #A80036; stroke-width: 2.0;\"/><text fill=\"#000000\" font-family=\"sans-serif\" font-size=\"14\" lengthAdjust=\"spacingAndGlyphs\" textLength=\"82\" x=\"6\" y=\"96.4951\">DataAccess</text><rect fill=\"#FEFECE\" filter=\"url(#f1)\" height=\"36.2969\" style=\"stroke: #A80036; stroke-width: 1.5;\" width=\"135\" x=\"157.5\" y=\"40\"/><rect fill=\"#FEFECE\" height=\"5\" style=\"stroke: #A80036; stroke-width: 1.5;\" width=\"10\" x=\"152.5\" y=\"45\"/><rect fill=\"#FEFECE\" height=\"5\" style=\"stroke: #A80036; stroke-width: 1.5;\" width=\"10\" x=\"152.5\" y=\"66.2969\"/><text fill=\"#000000\" font-family=\"sans-serif\" font-size=\"14\" lengthAdjust=\"spacingAndGlyphs\" textLength=\"115\" x=\"167.5\" y=\"62.9951\">First Component</text><ellipse cx=\"225\" cy=\"195\" fill=\"#FEFECE\" filter=\"url(#f1)\" rx=\"8\" ry=\"8\" style=\"stroke: #A80036; stroke-width: 2.0;\"/><path d=\"M225,203 L225,230 M212,211 L238,211 M225,230 L212,245 M225,230 L238,245 \" fill=\"#FEFECE\" filter=\"url(#f1)\" style=\"stroke: #A80036; stroke-width: 2.0;\"/><text fill=\"#000000\" font-family=\"sans-serif\" font-size=\"14\" lengthAdjust=\"spacingAndGlyphs\" textLength=\"37\" x=\"206.5\" y=\"264.9951\">HTTP</text><ellipse cx=\"377\" cy=\"34.2969\" fill=\"#FEFECE\" filter=\"url(#f1)\" rx=\"8\" ry=\"8\" style=\"stroke: #A80036; stroke-width: 2.0;\"/><path d=\"M377,42.2969 L377,69.2969 M364,50.2969 L390,50.2969 M377,69.2969 L364,84.2969 M377,69.2969 L390,84.2969 \" fill=\"#FEFECE\" filter=\"url(#f1)\" style=\"stroke: #A80036; stroke-width: 2.0;\"/><text fill=\"#000000\" font-family=\"sans-serif\" font-size=\"14\" lengthAdjust=\"spacingAndGlyphs\" textLength=\"98\" x=\"328\" y=\"104.292\">コンポーネント</text><text fill=\"#000000\" font-family=\"sans-serif\" font-size=\"14\" font-style=\"italic\" lengthAdjust=\"spacingAndGlyphs\" textLength=\"48\" x=\"353\" y=\"20.9951\">«Test»</text><path d=\"M88.0234,58 C111.12,58 134.217,58 157.314,58 \" fill=\"none\" style=\"stroke: #A80036; stroke-width: 1.0;\"/><path d=\"M225,76.191 C225,100.325 225,145.129 225,179.3839 \" fill=\"none\" style=\"stroke: #A80036; stroke-width: 1.0; stroke-dasharray: 7.0,7.0;\"/><polygon fill=\"#A80036\" points=\"225,184.7862,229,175.7862,225,179.7862,221,175.7862,225,184.7862\" style=\"stroke: #A80036; stroke-width: 1.0;\"/><text fill=\"#000000\" font-family=\"sans-serif\" font-size=\"13\" lengthAdjust=\"spacingAndGlyphs\" textLength=\"23\" x=\"226\" y=\"151.0669\">use</text></g></svg>"
      ],
      "text/plain": [
       "<IPython.core.display.SVG object>"
      ]
     },
     "execution_count": 13,
     "metadata": {},
     "output_type": "execute_result"
    }
   ],
   "source": [
    "%%plantuml figure1\n",
    "@startuml\n",
    "\n",
    "DataAccess - [First Component] \n",
    "[First Component] ..> HTTP : use\n",
    "\n",
    "コンポーネント <<Test>>\n",
    "' [] を省略した場合、ステレオタイプを\n",
    "' つけていないと解析エラー\n",
    "\n",
    "@enduml"
   ]
  },
  {
   "cell_type": "code",
   "execution_count": 14,
   "metadata": {
    "collapsed": false
   },
   "outputs": [
    {
     "data": {
      "image/svg+xml": [
       "<svg height=\"372px\" style=\"width:432px;height:372px;background:#EEEBDC;\" version=\"1.1\" viewBox=\"0 0 432 372\" width=\"432px\" xmlns=\"http://www.w3.org/2000/svg\" xmlns:xlink=\"http://www.w3.org/1999/xlink\"><defs><filter height=\"300%\" id=\"f1\" width=\"300%\" x=\"-1\" y=\"-1\"><feGaussianBlur result=\"blurOut\" stdDeviation=\"2.0\"/><feColorMatrix in=\"blurOut\" result=\"blurOut2\" type=\"matrix\" values=\"0 0 0 0 0 0 0 0 0 0 0 0 0 0 0 0 0 0 .4 0\"/><feOffset dx=\"4.0\" dy=\"4.0\" in=\"blurOut2\" result=\"blurOut3\"/><feBlend in=\"SourceGraphic\" in2=\"blurOut3\" mode=\"normal\"/></filter></defs><g><rect fill=\"#A9DCDF\" filter=\"url(#f1)\" height=\"145.6641\" style=\"stroke: #0000FF; stroke-width: 1.0;\" width=\"10\" x=\"108.5\" y=\"120.7891\"/><rect fill=\"#A9DCDF\" filter=\"url(#f1)\" height=\"87.3984\" style=\"stroke: #0000FF; stroke-width: 1.0;\" width=\"10\" x=\"249.5\" y=\"149.9219\"/><rect fill=\"#A9DCDF\" filter=\"url(#f1)\" height=\"29.1328\" style=\"stroke: #0000FF; stroke-width: 1.0;\" width=\"10\" x=\"372.5\" y=\"179.0547\"/><line style=\"stroke: #0000FF; stroke-width: 1.0; stroke-dasharray: 5.0,5.0;\" x1=\"30\" x2=\"30\" y1=\"89.7891\" y2=\"284.5859\"/><line style=\"stroke: #0000FF; stroke-width: 1.0; stroke-dasharray: 5.0,5.0;\" x1=\"113\" x2=\"113\" y1=\"89.7891\" y2=\"284.5859\"/><line style=\"stroke: #0000FF; stroke-width: 1.0; stroke-dasharray: 5.0,5.0;\" x1=\"254.5\" x2=\"254.5\" y1=\"89.7891\" y2=\"284.5859\"/><line style=\"stroke: #0000FF; stroke-width: 1.0; stroke-dasharray: 5.0,5.0;\" x1=\"377.5\" x2=\"377.5\" y1=\"89.7891\" y2=\"284.5859\"/><text fill=\"#00BFFF\" font-family=\"Aapex\" font-size=\"17\" lengthAdjust=\"spacingAndGlyphs\" textLength=\"38\" x=\"8\" y=\"85.7798\">User</text><ellipse cx=\"30\" cy=\"13\" fill=\"#00FFFF\" filter=\"url(#f1)\" rx=\"8\" ry=\"8\" style=\"stroke: #00BFFF; stroke-width: 2.0;\"/><path d=\"M30,21 L30,48 M17,29 L43,29 M30,48 L17,63 M30,48 L43,63 \" fill=\"#00FFFF\" filter=\"url(#f1)\" style=\"stroke: #00BFFF; stroke-width: 2.0;\"/><text fill=\"#00BFFF\" font-family=\"Aapex\" font-size=\"17\" lengthAdjust=\"spacingAndGlyphs\" textLength=\"38\" x=\"8\" y=\"299.3657\">User</text><ellipse cx=\"30\" cy=\"313.375\" fill=\"#00FFFF\" filter=\"url(#f1)\" rx=\"8\" ry=\"8\" style=\"stroke: #00BFFF; stroke-width: 2.0;\"/><path d=\"M30,321.375 L30,348.375 M17,329.375 L43,329.375 M30,348.375 L17,363.375 M30,348.375 L43,363.375 \" fill=\"#00FFFF\" filter=\"url(#f1)\" style=\"stroke: #00BFFF; stroke-width: 2.0;\"/><rect fill=\"#1E90FF\" filter=\"url(#f1)\" height=\"33.7891\" style=\"stroke: #00BFFF; stroke-width: 1.5;\" width=\"99\" x=\"62\" y=\"51\"/><text fill=\"#A9DCDF\" font-family=\"Impact\" font-size=\"17\" lengthAdjust=\"spacingAndGlyphs\" textLength=\"85\" x=\"69\" y=\"73.7798\">First Class</text><rect fill=\"#1E90FF\" filter=\"url(#f1)\" height=\"33.7891\" style=\"stroke: #00BFFF; stroke-width: 1.5;\" width=\"99\" x=\"62\" y=\"283.5859\"/><text fill=\"#A9DCDF\" font-family=\"Impact\" font-size=\"17\" lengthAdjust=\"spacingAndGlyphs\" textLength=\"85\" x=\"69\" y=\"306.3657\">First Class</text><rect fill=\"#1E90FF\" filter=\"url(#f1)\" height=\"33.7891\" style=\"stroke: #00BFFF; stroke-width: 1.5;\" width=\"122\" x=\"191.5\" y=\"51\"/><text fill=\"#A9DCDF\" font-family=\"Impact\" font-size=\"17\" lengthAdjust=\"spacingAndGlyphs\" textLength=\"108\" x=\"198.5\" y=\"73.7798\">Second Class</text><rect fill=\"#1E90FF\" filter=\"url(#f1)\" height=\"33.7891\" style=\"stroke: #00BFFF; stroke-width: 1.5;\" width=\"122\" x=\"191.5\" y=\"283.5859\"/><text fill=\"#A9DCDF\" font-family=\"Impact\" font-size=\"17\" lengthAdjust=\"spacingAndGlyphs\" textLength=\"108\" x=\"198.5\" y=\"306.3657\">Second Class</text><rect fill=\"#1E90FF\" filter=\"url(#f1)\" height=\"33.7891\" style=\"stroke: #00BFFF; stroke-width: 1.5;\" width=\"96\" x=\"327.5\" y=\"51\"/><text fill=\"#A9DCDF\" font-family=\"Impact\" font-size=\"17\" lengthAdjust=\"spacingAndGlyphs\" textLength=\"82\" x=\"334.5\" y=\"73.7798\">Last Class</text><rect fill=\"#1E90FF\" filter=\"url(#f1)\" height=\"33.7891\" style=\"stroke: #00BFFF; stroke-width: 1.5;\" width=\"96\" x=\"327.5\" y=\"283.5859\"/><text fill=\"#A9DCDF\" font-family=\"Impact\" font-size=\"17\" lengthAdjust=\"spacingAndGlyphs\" textLength=\"82\" x=\"334.5\" y=\"306.3657\">Last Class</text><rect fill=\"#A9DCDF\" filter=\"url(#f1)\" height=\"145.6641\" style=\"stroke: #0000FF; stroke-width: 1.0;\" width=\"10\" x=\"108.5\" y=\"120.7891\"/><rect fill=\"#A9DCDF\" filter=\"url(#f1)\" height=\"87.3984\" style=\"stroke: #0000FF; stroke-width: 1.0;\" width=\"10\" x=\"249.5\" y=\"149.9219\"/><rect fill=\"#A9DCDF\" filter=\"url(#f1)\" height=\"29.1328\" style=\"stroke: #0000FF; stroke-width: 1.0;\" width=\"10\" x=\"372.5\" y=\"179.0547\"/><polygon fill=\"#00BFFF\" points=\"96.5,116.7891,106.5,120.7891,96.5,124.7891,100.5,120.7891\" style=\"stroke: #00BFFF; stroke-width: 1.0;\"/><line style=\"stroke: #00BFFF; stroke-width: 1.0;\" x1=\"30\" x2=\"102.5\" y1=\"120.7891\" y2=\"120.7891\"/><text fill=\"#000000\" font-family=\"sans-serif\" font-size=\"13\" lengthAdjust=\"spacingAndGlyphs\" textLength=\"49\" x=\"37\" y=\"115.856\">DoWork</text><polygon fill=\"#00BFFF\" points=\"237.5,145.9219,247.5,149.9219,237.5,153.9219,241.5,149.9219\" style=\"stroke: #00BFFF; stroke-width: 1.0;\"/><line style=\"stroke: #00BFFF; stroke-width: 1.0;\" x1=\"118.5\" x2=\"243.5\" y1=\"149.9219\" y2=\"149.9219\"/><text fill=\"#000000\" font-family=\"sans-serif\" font-size=\"13\" lengthAdjust=\"spacingAndGlyphs\" textLength=\"99\" x=\"125.5\" y=\"144.9888\">Create Request</text><polygon fill=\"#00BFFF\" points=\"360.5,175.0547,370.5,179.0547,360.5,183.0547,364.5,179.0547\" style=\"stroke: #00BFFF; stroke-width: 1.0;\"/><line style=\"stroke: #00BFFF; stroke-width: 1.0;\" x1=\"259.5\" x2=\"366.5\" y1=\"179.0547\" y2=\"179.0547\"/><text fill=\"#000000\" font-family=\"sans-serif\" font-size=\"13\" lengthAdjust=\"spacingAndGlyphs\" textLength=\"49\" x=\"266.5\" y=\"174.1216\">DoWork</text><polygon fill=\"#00BFFF\" points=\"270.5,204.1875,260.5,208.1875,270.5,212.1875,266.5,208.1875\" style=\"stroke: #00BFFF; stroke-width: 1.0;\"/><line style=\"stroke: #00BFFF; stroke-width: 1.0; stroke-dasharray: 2.0,2.0;\" x1=\"264.5\" x2=\"376.5\" y1=\"208.1875\" y2=\"208.1875\"/><text fill=\"#000000\" font-family=\"sans-serif\" font-size=\"13\" lengthAdjust=\"spacingAndGlyphs\" textLength=\"65\" x=\"276.5\" y=\"203.2544\">WorkDone</text><line style=\"stroke: #0000FF; stroke-width: 2.0;\" x1=\"368.5\" x2=\"386.5\" y1=\"199.1875\" y2=\"217.1875\"/><line style=\"stroke: #0000FF; stroke-width: 2.0;\" x1=\"368.5\" x2=\"386.5\" y1=\"217.1875\" y2=\"199.1875\"/><polygon fill=\"#00BFFF\" points=\"129.5,233.3203,119.5,237.3203,129.5,241.3203,125.5,237.3203\" style=\"stroke: #00BFFF; stroke-width: 1.0;\"/><line style=\"stroke: #00BFFF; stroke-width: 1.0; stroke-dasharray: 2.0,2.0;\" x1=\"123.5\" x2=\"253.5\" y1=\"237.3203\" y2=\"237.3203\"/><text fill=\"#000000\" font-family=\"sans-serif\" font-size=\"13\" lengthAdjust=\"spacingAndGlyphs\" textLength=\"107\" x=\"135.5\" y=\"232.3872\">Request Created</text><polygon fill=\"#00BFFF\" points=\"41,262.4531,31,266.4531,41,270.4531,37,266.4531\" style=\"stroke: #00BFFF; stroke-width: 1.0;\"/><line style=\"stroke: #00BFFF; stroke-width: 1.0; stroke-dasharray: 2.0,2.0;\" x1=\"35\" x2=\"112.5\" y1=\"266.4531\" y2=\"266.4531\"/><text fill=\"#000000\" font-family=\"sans-serif\" font-size=\"13\" lengthAdjust=\"spacingAndGlyphs\" textLength=\"34\" x=\"47\" y=\"261.52\">Done</text></g></svg>"
      ],
      "text/plain": [
       "<IPython.core.display.SVG object>"
      ]
     },
     "execution_count": 14,
     "metadata": {},
     "output_type": "execute_result"
    }
   ],
   "source": [
    "%%plantuml figure1\n",
    "@startuml\n",
    "\n",
    "skinparam backgroundColor #EEEBDC\n",
    "\n",
    "skinparam sequence {\n",
    "\tArrowColor DeepSkyBlue\n",
    "\tActorBorderColor DeepSkyBlue\n",
    "\tLifeLineBorderColor blue\n",
    "\tLifeLineBackgroundColor #A9DCDF\n",
    "\t\n",
    "\tParticipantBorderColor DeepSkyBlue\n",
    "\tParticipantBackgroundColor DodgerBlue\n",
    "\tParticipantFontName Impact\n",
    "\tParticipantFontSize 17\n",
    "\tParticipantFontColor #A9DCDF\n",
    "\t\n",
    "\tActorBackgroundColor aqua\n",
    "\tActorFontColor DeepSkyBlue\n",
    "\tActorFontSize 17\n",
    "\tActorFontName Aapex\n",
    "}\n",
    "\n",
    "actor User\n",
    "participant \"First Class\" as A\n",
    "participant \"Second Class\" as B\n",
    "participant \"Last Class\" as C\n",
    "\n",
    "User -> A: DoWork\n",
    "activate A\n",
    "\n",
    "A -> B: Create Request\n",
    "activate B\n",
    "\n",
    "B -> C: DoWork\n",
    "activate C\n",
    "C --> B: WorkDone\n",
    "destroy C\n",
    "\n",
    "B --> A: Request Created\n",
    "deactivate B\n",
    "\n",
    "A --> User: Done\n",
    "deactivate A\n",
    "\n",
    "@enduml\n"
   ]
  },
  {
   "cell_type": "code",
   "execution_count": 15,
   "metadata": {
    "collapsed": false
   },
   "outputs": [
    {
     "data": {
      "image/svg+xml": [
       "<svg height=\"352px\" style=\"width:308px;height:352px;\" version=\"1.1\" viewBox=\"0 0 308 352\" width=\"308px\" xmlns=\"http://www.w3.org/2000/svg\" xmlns:xlink=\"http://www.w3.org/1999/xlink\"><defs><filter height=\"300%\" id=\"f1\" width=\"300%\" x=\"-1\" y=\"-1\"><feGaussianBlur result=\"blurOut\" stdDeviation=\"2.0\"/><feColorMatrix in=\"blurOut\" result=\"blurOut2\" type=\"matrix\" values=\"0 0 0 0 0 0 0 0 0 0 0 0 0 0 0 0 0 0 .4 0\"/><feOffset dx=\"4.0\" dy=\"4.0\" in=\"blurOut2\" result=\"blurOut3\"/><feBlend in=\"SourceGraphic\" in2=\"blurOut3\" mode=\"normal\"/></filter></defs><g><ellipse cx=\"90\" cy=\"18\" fill=\"#000000\" filter=\"url(#f1)\" rx=\"10\" ry=\"10\" style=\"stroke: none; stroke-width: 1.0;\"/><rect fill=\"#FEFECE\" filter=\"url(#f1)\" height=\"33.9688\" rx=\"12.5\" ry=\"12.5\" style=\"stroke: #A80036; stroke-width: 1.5;\" width=\"93\" x=\"43.5\" y=\"69\"/><text fill=\"#000000\" font-family=\"sans-serif\" font-size=\"12\" lengthAdjust=\"spacingAndGlyphs\" textLength=\"73\" x=\"53.5\" y=\"90.1387\">Initialization</text><polygon fill=\"#FEFECE\" filter=\"url(#f1)\" points=\"90,149,102,161,90,173,78,161,90,149\" style=\"stroke: #A80036; stroke-width: 1.5;\"/><rect fill=\"#FEFECE\" filter=\"url(#f1)\" height=\"33.9688\" rx=\"12.5\" ry=\"12.5\" style=\"stroke: #A80036; stroke-width: 1.5;\" width=\"102\" x=\"39\" y=\"235\"/><text fill=\"#000000\" font-family=\"sans-serif\" font-size=\"12\" lengthAdjust=\"spacingAndGlyphs\" textLength=\"82\" x=\"49\" y=\"256.1387\">Some Activity</text><rect fill=\"#FEFECE\" filter=\"url(#f1)\" height=\"33.9688\" rx=\"12.5\" ry=\"12.5\" style=\"stroke: #A80036; stroke-width: 1.5;\" width=\"117\" x=\"35.5\" y=\"310\"/><text fill=\"#000000\" font-family=\"sans-serif\" font-size=\"12\" lengthAdjust=\"spacingAndGlyphs\" textLength=\"97\" x=\"45.5\" y=\"331.1387\">Another activity</text><ellipse cx=\"204\" cy=\"327\" fill=\"none\" filter=\"url(#f1)\" rx=\"10\" ry=\"10\" style=\"stroke: #000000; stroke-width: 1.0;\"/><ellipse cx=\"204.5\" cy=\"327.5\" fill=\"#000000\" rx=\"6\" ry=\"6\" style=\"stroke: none; stroke-width: 1.0;\"/><rect fill=\"#FEFECE\" filter=\"url(#f1)\" height=\"33.9688\" rx=\"12.5\" ry=\"12.5\" style=\"stroke: #A80036; stroke-width: 1.5;\" width=\"117\" x=\"153.5\" y=\"144\"/><text fill=\"#000000\" font-family=\"sans-serif\" font-size=\"12\" lengthAdjust=\"spacingAndGlyphs\" textLength=\"97\" x=\"163.5\" y=\"165.1387\">Something else</text><path d=\"M90,28.177 C90,37.269 90,51.527 90,63.485 \" fill=\"none\" style=\"stroke: #A80036; stroke-width: 1.0;\"/><polygon fill=\"#A80036\" points=\"90,68.791,94,59.791,90,63.791,86,59.791,90,68.791\" style=\"stroke: #A80036; stroke-width: 1.0;\"/><path d=\"M90,103.201 C90,115.149 90,131.351 90,143.394 \" fill=\"none\" style=\"stroke: #A80036; stroke-width: 1.0;\"/><polygon fill=\"#A80036\" points=\"90,148.604,94,139.604,90,143.604,86,139.604,90,148.604\" style=\"stroke: #A80036; stroke-width: 1.0;\"/><text fill=\"#000000\" font-family=\"sans-serif\" font-size=\"13\" lengthAdjust=\"spacingAndGlyphs\" textLength=\"69\" x=\"7.4156\" y=\"137.863\">Some Test</text><path d=\"M90,173.272 C90,187.345 90,211.72 90,229.429 \" fill=\"none\" style=\"stroke: #A80036; stroke-width: 1.0;\"/><polygon fill=\"#A80036\" points=\"90,234.692,94,225.692,90,229.692,86,225.692,90,234.692\" style=\"stroke: #A80036; stroke-width: 1.0;\"/><text fill=\"#000000\" font-family=\"sans-serif\" font-size=\"13\" lengthAdjust=\"spacingAndGlyphs\" textLength=\"26\" x=\"91\" y=\"211.0669\">true</text><path d=\"M90.8877,269.2011 C91.4626,279.6917 92.2171,293.4627 92.8393,304.8176 \" fill=\"none\" style=\"stroke: #A80036; stroke-width: 1.0;\"/><polygon fill=\"#A80036\" points=\"93.1148,309.8442,96.6161,300.6387,92.8411,304.8517,88.6281,301.0767,93.1148,309.8442\" style=\"stroke: #A80036; stroke-width: 1.0;\"/><path d=\"M152.867,327 C164.752,327 176.636,327 188.52,327 \" fill=\"none\" style=\"stroke: #A80036; stroke-width: 1.0;\"/><polygon fill=\"#A80036\" points=\"193.614,327,184.614,323,188.614,327,184.614,331,193.614,327\" style=\"stroke: #A80036; stroke-width: 1.0;\"/><path d=\"M102.1439,161 C113.1771,161 130.364,161 147.895,161 \" fill=\"none\" style=\"stroke: #A80036; stroke-width: 1.0;\"/><polygon fill=\"#A80036\" points=\"153.339,161,144.339,157,148.339,161,144.339,165,153.339,161\" style=\"stroke: #A80036; stroke-width: 1.0;\"/><text fill=\"#000000\" font-family=\"sans-serif\" font-size=\"13\" lengthAdjust=\"spacingAndGlyphs\" textLength=\"30\" x=\"112.75\" y=\"154.0669\">false</text><path d=\"M211.218,178.024 C209.664,209.892 206.205,280.7878 204.711,311.4283 \" fill=\"none\" style=\"stroke: #A80036; stroke-width: 1.0;\"/><polygon fill=\"#A80036\" points=\"204.455,316.6626,208.8889,307.8683,204.6987,311.6685,200.8984,307.4783,204.455,316.6626\" style=\"stroke: #A80036; stroke-width: 1.0;\"/><text fill=\"#000000\" font-family=\"sans-serif\" font-size=\"13\" lengthAdjust=\"spacingAndGlyphs\" textLength=\"97\" x=\"210\" y=\"256.5669\">Ending process</text></g></svg>"
      ],
      "text/plain": [
       "<IPython.core.display.SVG object>"
      ]
     },
     "execution_count": 15,
     "metadata": {},
     "output_type": "execute_result"
    }
   ],
   "source": [
    "%%plantuml figure\n",
    "@startuml\n",
    "(*) --> \"Initialization\"\n",
    "\n",
    "if \"Some Test\" then\n",
    "  -->[true] \"Some Activity\"\n",
    "  --> \"Another activity\"\n",
    "  -right-> (*)\n",
    "else\n",
    "  ->[false] \"Something else\"\n",
    "  -->[Ending process] (*)\n",
    "endif\n",
    "\n",
    "@enduml"
   ]
  },
  {
   "cell_type": "code",
   "execution_count": 16,
   "metadata": {
    "collapsed": false
   },
   "outputs": [
    {
     "data": {
      "image/svg+xml": [
       "<svg height=\"125px\" style=\"width:142px;height:125px;\" version=\"1.1\" viewBox=\"0 0 142 125\" width=\"142px\" xmlns=\"http://www.w3.org/2000/svg\" xmlns:xlink=\"http://www.w3.org/1999/xlink\"><defs><filter height=\"300%\" id=\"f1\" width=\"300%\" x=\"-1\" y=\"-1\"><feGaussianBlur result=\"blurOut\" stdDeviation=\"2.0\"/><feColorMatrix in=\"blurOut\" result=\"blurOut2\" type=\"matrix\" values=\"0 0 0 0 0 0 0 0 0 0 0 0 0 0 0 0 0 0 .4 0\"/><feOffset dx=\"4.0\" dy=\"4.0\" in=\"blurOut2\" result=\"blurOut3\"/><feBlend in=\"SourceGraphic\" in2=\"blurOut3\" mode=\"normal\"/></filter></defs><g><line style=\"stroke: #A80036; stroke-width: 1.0; stroke-dasharray: 5.0,5.0;\" x1=\"21\" x2=\"21\" y1=\"38.2969\" y2=\"87.4297\"/><line style=\"stroke: #A80036; stroke-width: 1.0; stroke-dasharray: 5.0,5.0;\" x1=\"123.5\" x2=\"123.5\" y1=\"38.2969\" y2=\"87.4297\"/><rect fill=\"#FEFECE\" filter=\"url(#f1)\" height=\"30.2969\" style=\"stroke: #A80036; stroke-width: 1.5;\" width=\"23\" x=\"8\" y=\"3\"/><text fill=\"#000000\" font-family=\"sans-serif\" font-size=\"14\" lengthAdjust=\"spacingAndGlyphs\" textLength=\"9\" x=\"15\" y=\"22.9951\">A</text><rect fill=\"#FEFECE\" filter=\"url(#f1)\" height=\"30.2969\" style=\"stroke: #A80036; stroke-width: 1.5;\" width=\"23\" x=\"8\" y=\"86.4297\"/><text fill=\"#000000\" font-family=\"sans-serif\" font-size=\"14\" lengthAdjust=\"spacingAndGlyphs\" textLength=\"9\" x=\"15\" y=\"106.4248\">A</text><rect fill=\"#FEFECE\" filter=\"url(#f1)\" height=\"30.2969\" style=\"stroke: #A80036; stroke-width: 1.5;\" width=\"24\" x=\"109.5\" y=\"3\"/><text fill=\"#000000\" font-family=\"sans-serif\" font-size=\"14\" lengthAdjust=\"spacingAndGlyphs\" textLength=\"10\" x=\"116.5\" y=\"22.9951\">B</text><rect fill=\"#FEFECE\" filter=\"url(#f1)\" height=\"30.2969\" style=\"stroke: #A80036; stroke-width: 1.5;\" width=\"24\" x=\"109.5\" y=\"86.4297\"/><text fill=\"#000000\" font-family=\"sans-serif\" font-size=\"14\" lengthAdjust=\"spacingAndGlyphs\" textLength=\"10\" x=\"116.5\" y=\"106.4248\">B</text><polygon fill=\"#A80036\" points=\"111.5,65.2969,121.5,69.2969,111.5,73.2969,115.5,69.2969\" style=\"stroke: #A80036; stroke-width: 1.0;\"/><line style=\"stroke: #A80036; stroke-width: 1.0;\" x1=\"21.5\" x2=\"117.5\" y1=\"69.2969\" y2=\"69.2969\"/><text fill=\"#000000\" font-family=\"sans-serif\" font-size=\"13\" lengthAdjust=\"spacingAndGlyphs\" textLength=\"78\" x=\"28.5\" y=\"64.3638\">これはテスト</text></g></svg>"
      ],
      "text/plain": [
       "<IPython.core.display.SVG object>"
      ]
     },
     "execution_count": 16,
     "metadata": {},
     "output_type": "execute_result"
    }
   ],
   "source": [
    "%%plantuml xx\n",
    "@startuml\n",
    "\n",
    "A->B:これはテスト\n",
    "\n",
    "@enduml"
   ]
  },
  {
   "cell_type": "code",
   "execution_count": 17,
   "metadata": {
    "collapsed": false
   },
   "outputs": [
    {
     "data": {
      "image/svg+xml": [
       "<svg height=\"501px\" style=\"width:349px;height:501px;\" version=\"1.1\" viewBox=\"0 0 349 501\" width=\"349px\" xmlns=\"http://www.w3.org/2000/svg\" xmlns:xlink=\"http://www.w3.org/1999/xlink\"><defs><filter height=\"300%\" id=\"f1\" width=\"300%\" x=\"-1\" y=\"-1\"><feGaussianBlur result=\"blurOut\" stdDeviation=\"2.0\"/><feColorMatrix in=\"blurOut\" result=\"blurOut2\" type=\"matrix\" values=\"0 0 0 0 0 0 0 0 0 0 0 0 0 0 0 0 0 0 .4 0\"/><feOffset dx=\"4.0\" dy=\"4.0\" in=\"blurOut2\" result=\"blurOut3\"/><feBlend in=\"SourceGraphic\" in2=\"blurOut3\" mode=\"normal\"/></filter></defs><g><ellipse cx=\"31\" cy=\"18\" fill=\"#000000\" filter=\"url(#f1)\" rx=\"10\" ry=\"10\" style=\"stroke: none; stroke-width: 1.0;\"/><rect fill=\"#FEFECE\" filter=\"url(#f1)\" height=\"33.9688\" rx=\"12.5\" ry=\"12.5\" style=\"stroke: #A80036; stroke-width: 1.5;\" width=\"50\" x=\"6\" y=\"85\"/><text fill=\"#000000\" font-family=\"sans-serif\" font-size=\"12\" lengthAdjust=\"spacingAndGlyphs\" textLength=\"30\" x=\"16\" y=\"106.1387\">MORI</text><rect fill=\"#FEFECE\" filter=\"url(#f1)\" height=\"33.9688\" rx=\"12.5\" ry=\"12.5\" style=\"stroke: #A80036; stroke-width: 1.5;\" width=\"51\" x=\"162.5\" y=\"85\"/><text fill=\"#000000\" font-family=\"sans-serif\" font-size=\"12\" lengthAdjust=\"spacingAndGlyphs\" textLength=\"31\" x=\"172.5\" y=\"106.1387\">TAKO</text><rect fill=\"#FEFECE\" filter=\"url(#f1)\" height=\"33.9688\" rx=\"12.5\" ry=\"12.5\" style=\"stroke: #A80036; stroke-width: 1.5;\" width=\"44\" x=\"138\" y=\"160\"/><text fill=\"#000000\" font-family=\"sans-serif\" font-size=\"12\" lengthAdjust=\"spacingAndGlyphs\" textLength=\"24\" x=\"148\" y=\"181.1387\">JOIN</text><rect fill=\"#FEFECE\" filter=\"url(#f1)\" height=\"33.9688\" rx=\"12.5\" ry=\"12.5\" style=\"stroke: #A80036; stroke-width: 1.5;\" width=\"38\" x=\"104\" y=\"85\"/><text fill=\"#000000\" font-family=\"sans-serif\" font-size=\"12\" lengthAdjust=\"spacingAndGlyphs\" textLength=\"18\" x=\"114\" y=\"106.1387\">IKA</text><rect fill=\"#000000\" filter=\"url(#f1)\" height=\"8\" style=\"stroke: none; stroke-width: 1.0;\" width=\"80\" x=\"120\" y=\"235\"/><rect fill=\"#FEFECE\" filter=\"url(#f1)\" height=\"33.9688\" rx=\"12.5\" ry=\"12.5\" style=\"stroke: #A80036; stroke-width: 1.5;\" width=\"28\" x=\"107\" y=\"338\"/><text fill=\"#000000\" font-family=\"sans-serif\" font-size=\"12\" lengthAdjust=\"spacingAndGlyphs\" textLength=\"8\" x=\"117\" y=\"359.1387\">A</text><polygon fill=\"#FBFB77\" filter=\"url(#f1)\" points=\"176.5,342.5,176.5,367.6328,223.5,367.6328,223.5,352.5,213.5,342.5,176.5,342.5\" style=\"stroke: #A80036; stroke-width: 1.0;\"/><polygon fill=\"#FBFB77\" points=\"176.5,342.5,176.5,351,135.195,355,176.5,359,176.5,367.6328,223.5,367.6328,223.5,352.5,213.5,342.5,176.5,342.5\" style=\"stroke: #A80036; stroke-width: 1.0;\"/><line style=\"stroke: #A80036; stroke-width: 1.0;\" x1=\"213.5\" x2=\"213.5\" y1=\"342.5\" y2=\"352.5\"/><line style=\"stroke: #A80036; stroke-width: 1.0;\" x1=\"223.5\" x2=\"213.5\" y1=\"352.5\" y2=\"352.5\"/><text fill=\"#000000\" font-family=\"sans-serif\" font-size=\"13\" lengthAdjust=\"spacingAndGlyphs\" textLength=\"26\" x=\"182.5\" y=\"359.5669\">借金</text><rect fill=\"#FEFECE\" filter=\"url(#f1)\" height=\"33.9688\" rx=\"12.5\" ry=\"12.5\" style=\"stroke: #A80036; stroke-width: 1.5;\" width=\"28\" x=\"152\" y=\"392\"/><text fill=\"#000000\" font-family=\"sans-serif\" font-size=\"12\" lengthAdjust=\"spacingAndGlyphs\" textLength=\"8\" x=\"162\" y=\"413.1387\">B</text><rect fill=\"#FEFECE\" filter=\"url(#f1)\" height=\"33.9688\" rx=\"12.5\" ry=\"12.5\" style=\"stroke: #A80036; stroke-width: 1.5;\" width=\"28\" x=\"208\" y=\"284\"/><text fill=\"#000000\" font-family=\"sans-serif\" font-size=\"12\" lengthAdjust=\"spacingAndGlyphs\" textLength=\"8\" x=\"218\" y=\"305.1387\">C</text><ellipse cx=\"166\" cy=\"479.5\" fill=\"none\" filter=\"url(#f1)\" rx=\"10\" ry=\"10\" style=\"stroke: #000000; stroke-width: 1.0;\"/><ellipse cx=\"166.5\" cy=\"480\" fill=\"#000000\" rx=\"6\" ry=\"6\" style=\"stroke: none; stroke-width: 1.0;\"/><polygon fill=\"#FBFB77\" filter=\"url(#f1)\" points=\"215.5,467,215.5,492.1328,340.5,492.1328,340.5,477,330.5,467,215.5,467\" style=\"stroke: #A80036; stroke-width: 1.0;\"/><polygon fill=\"#FBFB77\" points=\"215.5,467,215.5,475.5,176.062,479.5,215.5,483.5,215.5,492.1328,340.5,492.1328,340.5,477,330.5,467,215.5,467\" style=\"stroke: #A80036; stroke-width: 1.0;\"/><line style=\"stroke: #A80036; stroke-width: 1.0;\" x1=\"330.5\" x2=\"330.5\" y1=\"467\" y2=\"477\"/><line style=\"stroke: #A80036; stroke-width: 1.0;\" x1=\"340.5\" x2=\"330.5\" y1=\"477\" y2=\"477\"/><text fill=\"#000000\" font-family=\"sans-serif\" font-size=\"13\" lengthAdjust=\"spacingAndGlyphs\" textLength=\"104\" x=\"221.5\" y=\"484.0669\">一番早い人が勝利</text><path d=\"M31,28.089 C31,40.377 31,62.673 31,79.386 \" fill=\"none\" style=\"stroke: #A80036; stroke-width: 1.0;\"/><polygon fill=\"#A80036\" points=\"31,84.818,35,75.818,31,79.818,27,75.818,31,84.818\" style=\"stroke: #A80036; stroke-width: 1.0;\"/><path d=\"M46.937,84.951 C64.7642,68.046 94.844,45.887 123,55 C139.308,60.278 154.96,71.346 166.817,81.416 \" fill=\"none\" style=\"stroke: #A80036; stroke-width: 1.0;\"/><polygon fill=\"#A80036\" points=\"170.688,84.783,166.5222,75.8585,166.9153,81.5017,161.2721,81.8948,170.688,84.783\" style=\"stroke: #A80036; stroke-width: 1.0;\"/><text fill=\"#000000\" font-family=\"sans-serif\" font-size=\"13\" lengthAdjust=\"spacingAndGlyphs\" textLength=\"26\" x=\"96\" y=\"61.0669\">長男</text><path d=\"M181.786,119.201 C177.726,129.786 172.385,143.711 168.007,155.124 \" fill=\"none\" style=\"stroke: #A80036; stroke-width: 1.0;\"/><polygon fill=\"#A80036\" points=\"166.197,159.844,173.1558,152.8744,167.9883,155.1759,165.6868,150.0084,166.197,159.844\" style=\"stroke: #A80036; stroke-width: 1.0;\"/><path d=\"M56.1394,102 C69.3842,102 85.5564,102 98.6777,102 \" fill=\"none\" style=\"stroke: #A80036; stroke-width: 1.0;\"/><polygon fill=\"#A80036\" points=\"103.7278,102,94.7278,98,98.7278,102,94.7278,106,103.7278,102\" style=\"stroke: #A80036; stroke-width: 1.0;\"/><text fill=\"#000000\" font-family=\"sans-serif\" font-size=\"13\" lengthAdjust=\"spacingAndGlyphs\" textLength=\"26\" x=\"67\" y=\"95.0669\">次男</text><path d=\"M131.211,119.201 C136.577,129.786 143.634,143.711 149.419,155.124 \" fill=\"none\" style=\"stroke: #A80036; stroke-width: 1.0;\"/><polygon fill=\"#A80036\" points=\"151.811,159.844,151.3085,150.008,149.5498,155.3845,144.1733,153.6258,151.811,159.844\" style=\"stroke: #A80036; stroke-width: 1.0;\"/><path d=\"M160,194.079 C160,205.469 160,220.299 160,229.482 \" fill=\"none\" style=\"stroke: #A80036; stroke-width: 1.0;\"/><polygon fill=\"#A80036\" points=\"160,234.608,164,225.608,160,229.608,156,225.608,160,234.608\" style=\"stroke: #A80036; stroke-width: 1.0;\"/><path d=\"M157.329,243.052 C153.782,247.26 147.551,255.21 144,263 C133.621,285.77 127.418,313.966 124.115,332.886 \" fill=\"none\" style=\"stroke: #A80036; stroke-width: 1.0;\"/><polygon fill=\"#A80036\" points=\"123.26,337.964,128.701,329.7545,124.0915,333.0336,120.8124,328.4241,123.26,337.964\" style=\"stroke: #A80036; stroke-width: 1.0;\"/><path d=\"M160.115,243.206 C160.742,260.789 163.793,346.192 165.238,386.655 \" fill=\"none\" style=\"stroke: #A80036; stroke-width: 1.0;\"/><polygon fill=\"#A80036\" points=\"165.422,391.824,169.098,382.6869,165.2434,386.8272,161.1031,382.9726,165.422,391.824\" style=\"stroke: #A80036; stroke-width: 1.0;\"/><path d=\"M163.333,243.226 C170.874,250.524 189.7,268.742 204.009,282.589 \" fill=\"none\" style=\"stroke: #A80036; stroke-width: 1.0;\"/><polygon fill=\"#A80036\" points=\"207.912,286.366,204.2265,277.2327,204.3191,282.8888,198.663,282.9814,207.912,286.366\" style=\"stroke: #A80036; stroke-width: 1.0;\"/><path d=\"M125.141,372.054 C128.994,386.378 135.159,407.8328 142,426 C147.159,439.7021 154.246,454.8631 159.38,465.3554 \" fill=\"none\" style=\"stroke: #A80036; stroke-width: 1.0;\"/><polygon fill=\"#A80036\" points=\"161.727,470.1044,161.3263,460.2637,159.5121,465.6217,154.1541,463.8075,161.727,470.1044\" style=\"stroke: #A80036; stroke-width: 1.0;\"/><path d=\"M166,426.2335 C166,437.7934 166,453.1812 166,464.2631 \" fill=\"none\" style=\"stroke: #A80036; stroke-width: 1.0;\"/><polygon fill=\"#A80036\" points=\"166,469.3218,170,460.3218,166,464.3218,162,460.3218,166,469.3218\" style=\"stroke: #A80036; stroke-width: 1.0;\"/><path d=\"M225.328,318.126 C227.676,332.497 229.658,353.981 225,372 C215.296,409.5431 189.201,447.9699 175.191,466.7341 \" fill=\"none\" style=\"stroke: #A80036; stroke-width: 1.0;\"/><polygon fill=\"#A80036\" points=\"171.907,471.0686,180.531,466.3118,174.927,467.0837,174.1551,461.4798,171.907,471.0686\" style=\"stroke: #A80036; stroke-width: 1.0;\"/></g></svg>"
      ],
      "text/plain": [
       "<IPython.core.display.SVG object>"
      ]
     },
     "execution_count": 17,
     "metadata": {},
     "output_type": "execute_result"
    }
   ],
   "source": [
    "%%plantuml xx\n",
    "@startuml\n",
    "\n",
    "(*) --> MORI\n",
    "\n",
    "MORI -> [長男]TAKO \n",
    "TAKO--> JOIN\n",
    "\n",
    "MORI -> [次男]IKA \n",
    "IKA    -->JOIN\n",
    "    \n",
    "JOIN --> ==XX==\n",
    "==XX== --> A\n",
    "note left : 借金\n",
    "==XX== -->B\n",
    "==XX== --> C\n",
    "\n",
    "A-->(*)\n",
    "B-->(*)\n",
    "C--->(*)\n",
    "\n",
    "note right : 一番早い人が勝利\n",
    "\n",
    "@enduml\n"
   ]
  },
  {
   "cell_type": "code",
   "execution_count": 18,
   "metadata": {
    "collapsed": false
   },
   "outputs": [
    {
     "data": {
      "image/svg+xml": [
       "<svg height=\"635px\" style=\"width:312px;height:635px;\" version=\"1.1\" viewBox=\"0 0 312 635\" width=\"312px\" xmlns=\"http://www.w3.org/2000/svg\" xmlns:xlink=\"http://www.w3.org/1999/xlink\"><defs><filter height=\"300%\" id=\"f1\" width=\"300%\" x=\"-1\" y=\"-1\"><feGaussianBlur result=\"blurOut\" stdDeviation=\"2.0\"/><feColorMatrix in=\"blurOut\" result=\"blurOut2\" type=\"matrix\" values=\"0 0 0 0 0 0 0 0 0 0 0 0 0 0 0 0 0 0 .4 0\"/><feOffset dx=\"4.0\" dy=\"4.0\" in=\"blurOut2\" result=\"blurOut3\"/><feBlend in=\"SourceGraphic\" in2=\"blurOut3\" mode=\"normal\"/></filter></defs><g><polygon fill=\"#FFFFFF\" filter=\"url(#f1)\" points=\"22,231,88,231,95,253.2969,222,253.2969,222,564,22,564,22,231\" style=\"stroke: #000000; stroke-width: 2.0;\"/><line style=\"stroke: #000000; stroke-width: 2.0;\" x1=\"22\" x2=\"95\" y1=\"253.2969\" y2=\"253.2969\"/><text fill=\"#000000\" font-family=\"sans-serif\" font-size=\"14\" font-weight=\"bold\" lengthAdjust=\"spacingAndGlyphs\" textLength=\"60\" x=\"26\" y=\"245.9951\">出勤準備</text><rect fill=\"#FEFECE\" filter=\"url(#f1)\" height=\"33.9688\" rx=\"12.5\" ry=\"12.5\" style=\"stroke: #A80036; stroke-width: 1.5;\" width=\"68\" x=\"129\" y=\"266\"/><text fill=\"#000000\" font-family=\"sans-serif\" font-size=\"12\" lengthAdjust=\"spacingAndGlyphs\" textLength=\"48\" x=\"139\" y=\"287.1387\">顔を洗う</text><rect fill=\"#000000\" filter=\"url(#f1)\" height=\"8\" style=\"stroke: none; stroke-width: 1.0;\" width=\"80\" x=\"123\" y=\"341\"/><rect fill=\"#FEFECE\" filter=\"url(#f1)\" height=\"33.9688\" rx=\"12.5\" ry=\"12.5\" style=\"stroke: #A80036; stroke-width: 1.5;\" width=\"80\" x=\"38\" y=\"390\"/><text fill=\"#000000\" font-family=\"sans-serif\" font-size=\"12\" lengthAdjust=\"spacingAndGlyphs\" textLength=\"60\" x=\"48\" y=\"411.1387\">新聞を読む</text><rect fill=\"#000000\" filter=\"url(#f1)\" height=\"8\" style=\"stroke: none; stroke-width: 1.0;\" width=\"80\" x=\"67\" y=\"465\"/><rect fill=\"#FEFECE\" filter=\"url(#f1)\" height=\"33.9688\" rx=\"12.5\" ry=\"12.5\" style=\"stroke: #A80036; stroke-width: 1.5;\" width=\"68\" x=\"138\" y=\"390\"/><text fill=\"#000000\" font-family=\"sans-serif\" font-size=\"12\" lengthAdjust=\"spacingAndGlyphs\" textLength=\"48\" x=\"148\" y=\"411.1387\">歯を磨く</text><rect fill=\"#FEFECE\" filter=\"url(#f1)\" height=\"33.9688\" rx=\"12.5\" ry=\"12.5\" style=\"stroke: #A80036; stroke-width: 1.5;\" width=\"92\" x=\"61\" y=\"514\"/><text fill=\"#000000\" font-family=\"sans-serif\" font-size=\"12\" lengthAdjust=\"spacingAndGlyphs\" textLength=\"72\" x=\"71\" y=\"535.1387\">服を着替える</text><ellipse cx=\"163\" cy=\"18\" fill=\"#000000\" filter=\"url(#f1)\" rx=\"10\" ry=\"10\" style=\"stroke: none; stroke-width: 1.0;\"/><rect fill=\"#FEFECE\" filter=\"url(#f1)\" height=\"33.9688\" rx=\"12.5\" ry=\"12.5\" style=\"stroke: #A80036; stroke-width: 1.5;\" width=\"116\" x=\"105\" y=\"69\"/><text fill=\"#000000\" font-family=\"sans-serif\" font-size=\"12\" lengthAdjust=\"spacingAndGlyphs\" textLength=\"96\" x=\"115\" y=\"90.1387\">目覚ましを止める</text><polygon fill=\"#FEFECE\" filter=\"url(#f1)\" points=\"163,149,175,161,163,173,151,161,163,149\" style=\"stroke: #A80036; stroke-width: 1.5;\"/><rect fill=\"#FEFECE\" filter=\"url(#f1)\" height=\"33.9688\" rx=\"12.5\" ry=\"12.5\" style=\"stroke: #A80036; stroke-width: 1.5;\" width=\"80\" x=\"223\" y=\"144\"/><text fill=\"#000000\" font-family=\"sans-serif\" font-size=\"12\" lengthAdjust=\"spacingAndGlyphs\" textLength=\"60\" x=\"233\" y=\"165.1387\">病気の報告</text><rect fill=\"#FEFECE\" filter=\"url(#f1)\" height=\"33.9688\" rx=\"12.5\" ry=\"12.5\" style=\"stroke: #A80036; stroke-width: 1.5;\" width=\"44\" x=\"241\" y=\"266\"/><text fill=\"#000000\" font-family=\"sans-serif\" font-size=\"12\" lengthAdjust=\"spacingAndGlyphs\" textLength=\"24\" x=\"251\" y=\"287.1387\">寝る</text><ellipse cx=\"107\" cy=\"613.5\" fill=\"none\" filter=\"url(#f1)\" rx=\"10\" ry=\"10\" style=\"stroke: #000000; stroke-width: 1.0;\"/><ellipse cx=\"107.5\" cy=\"614\" fill=\"#000000\" rx=\"6\" ry=\"6\" style=\"stroke: none; stroke-width: 1.0;\"/><polygon fill=\"#FBFB77\" filter=\"url(#f1)\" points=\"156.5,601,156.5,626.1328,229.5,626.1328,229.5,611,219.5,601,156.5,601\" style=\"stroke: #A80036; stroke-width: 1.0;\"/><polygon fill=\"#FBFB77\" points=\"156.5,601,156.5,609.5,117.078,613.5,156.5,617.5,156.5,626.1328,229.5,626.1328,229.5,611,219.5,601,156.5,601\" style=\"stroke: #A80036; stroke-width: 1.0;\"/><line style=\"stroke: #A80036; stroke-width: 1.0;\" x1=\"219.5\" x2=\"219.5\" y1=\"601\" y2=\"611\"/><line style=\"stroke: #A80036; stroke-width: 1.0;\" x1=\"229.5\" x2=\"219.5\" y1=\"611\" y2=\"611\"/><text fill=\"#000000\" font-family=\"sans-serif\" font-size=\"13\" lengthAdjust=\"spacingAndGlyphs\" textLength=\"52\" x=\"162.5\" y=\"618.0669\">家を出る</text><path d=\"M163,28.177 C163,37.269 163,51.527 163,63.485 \" fill=\"none\" style=\"stroke: #A80036; stroke-width: 1.0;\"/><polygon fill=\"#A80036\" points=\"163,68.791,167,59.791,163,63.791,159,59.791,163,68.791\" style=\"stroke: #A80036; stroke-width: 1.0;\"/><path d=\"M163,103.201 C163,115.149 163,131.351 163,143.394 \" fill=\"none\" style=\"stroke: #A80036; stroke-width: 1.0;\"/><polygon fill=\"#A80036\" points=\"163,148.604,167,139.604,163,143.604,159,139.604,163,148.604\" style=\"stroke: #A80036; stroke-width: 1.0;\"/><text fill=\"#000000\" font-family=\"sans-serif\" font-size=\"13\" lengthAdjust=\"spacingAndGlyphs\" textLength=\"52\" x=\"100.7625\" y=\"137.863\">体調状態</text><path d=\"M163,173.074 C163,192.9 163,234.778 163,260.443 \" fill=\"none\" style=\"stroke: #A80036; stroke-width: 1.0;\"/><polygon fill=\"#A80036\" points=\"163,265.66,167,256.66,163,260.66,159,256.66,163,265.66\" style=\"stroke: #A80036; stroke-width: 1.0;\"/><text fill=\"#000000\" font-family=\"sans-serif\" font-size=\"13\" lengthAdjust=\"spacingAndGlyphs\" textLength=\"26\" x=\"164\" y=\"211.0669\">健康</text><path d=\"M175.262,161 C185.945,161 202.124,161 217.691,161 \" fill=\"none\" style=\"stroke: #A80036; stroke-width: 1.0;\"/><polygon fill=\"#A80036\" points=\"222.938,161,213.938,157,217.938,161,213.938,165,222.938,161\" style=\"stroke: #A80036; stroke-width: 1.0;\"/><text fill=\"#000000\" font-family=\"sans-serif\" font-size=\"13\" lengthAdjust=\"spacingAndGlyphs\" textLength=\"26\" x=\"186\" y=\"154.0669\">病気</text><path d=\"M263,178.184 C263,199.476 263,236.956 263,260.58 \" fill=\"none\" style=\"stroke: #A80036; stroke-width: 1.0;\"/><polygon fill=\"#A80036\" points=\"263,265.689,267,256.689,263,260.689,259,256.689,263,265.689\" style=\"stroke: #A80036; stroke-width: 1.0;\"/><path d=\"M163,300.079 C163,311.469 163,326.299 163,335.482 \" fill=\"none\" style=\"stroke: #A80036; stroke-width: 1.0;\"/><polygon fill=\"#A80036\" points=\"163,340.608,167,331.608,163,335.608,159,331.608,163,340.608\" style=\"stroke: #A80036; stroke-width: 1.0;\"/><path d=\"M158.43,349.226 C148.492,356.241 124.258,373.348 104.9705,386.962 \" fill=\"none\" style=\"stroke: #A80036; stroke-width: 1.0;\"/><polygon fill=\"#A80036\" points=\"100.6877,389.985,110.347,388.0621,104.7723,387.1013,105.7331,381.5266,100.6877,389.985\" style=\"stroke: #A80036; stroke-width: 1.0;\"/><path d=\"M85.7715,424.079 C91.3815,435.686 98.7181,450.865 103.1334,460 \" fill=\"none\" style=\"stroke: #A80036; stroke-width: 1.0;\"/><polygon fill=\"#A80036\" points=\"105.3604,464.608,105.0455,454.7642,103.1846,460.1062,97.8426,458.2454,105.3604,464.608\" style=\"stroke: #A80036; stroke-width: 1.0;\"/><path d=\"M163.484,349.226 C164.483,355.887 166.847,371.648 168.832,384.878 \" fill=\"none\" style=\"stroke: #A80036; stroke-width: 1.0;\"/><polygon fill=\"#A80036\" points=\"169.598,389.985,172.2195,380.4914,168.8567,385.0403,164.3079,381.6775,169.598,389.985\" style=\"stroke: #A80036; stroke-width: 1.0;\"/><path d=\"M154.581,424.079 C141.537,436.12 124.328,452.005 114.585,460.999 \" fill=\"none\" style=\"stroke: #A80036; stroke-width: 1.0;\"/><polygon fill=\"#A80036\" points=\"110.675,464.608,120.0015,461.443,114.3491,461.2167,114.5754,455.5644,110.675,464.608\" style=\"stroke: #A80036; stroke-width: 1.0;\"/><path d=\"M107,473.226 C107,479.887 107,495.648 107,508.878 \" fill=\"none\" style=\"stroke: #A80036; stroke-width: 1.0;\"/><polygon fill=\"#A80036\" points=\"107,513.985,111,504.985,107,508.985,103,504.985,107,513.985\" style=\"stroke: #A80036; stroke-width: 1.0;\"/><path d=\"M107,548.2904 C107,562.8913 107,584.106 107,598.098 \" fill=\"none\" style=\"stroke: #A80036; stroke-width: 1.0;\"/><polygon fill=\"#A80036\" points=\"107,603.2558,111,594.2558,107,598.2558,103,594.2558,107,603.2558\" style=\"stroke: #A80036; stroke-width: 1.0;\"/></g></svg>"
      ],
      "text/plain": [
       "<IPython.core.display.SVG object>"
      ]
     },
     "execution_count": 18,
     "metadata": {},
     "output_type": "execute_result"
    }
   ],
   "source": [
    "%%plantuml xx\n",
    "\n",
    "@startuml\n",
    "(*) --> \"目覚ましを止める\"\n",
    "\n",
    "if \"体調状態\" then\n",
    "    partition \"出勤準備\"\n",
    "        --> [健康] \"顔を洗う\" as wash\n",
    "    end partition\n",
    "else\n",
    "    -> [病気] \"病気の報告\"\n",
    "    --> \"寝る\"\n",
    "endif\n",
    "\n",
    "partition \"出勤準備\" {\n",
    "    wash --> ===fork===\n",
    "\n",
    "    ===fork=== --> \"新聞を読む\"\n",
    "    --> ===join===\n",
    "\n",
    "    ===fork=== --> \"歯を磨く\"\n",
    "    --> ===join===\n",
    "\n",
    "    ===join=== --> \"服を着替える\"\n",
    "}\n",
    "-->(*)\n",
    "note right : 家を出る\n",
    "\n",
    "@enduml\n"
   ]
  },
  {
   "cell_type": "code",
   "execution_count": null,
   "metadata": {
    "collapsed": true
   },
   "outputs": [],
   "source": []
  }
 ],
 "metadata": {
  "kernelspec": {
   "display_name": "Python 3",
   "language": "python",
   "name": "python3"
  },
  "language_info": {
   "codemirror_mode": {
    "name": "ipython",
    "version": 3
   },
   "file_extension": ".py",
   "mimetype": "text/x-python",
   "name": "python",
   "nbconvert_exporter": "python",
   "pygments_lexer": "ipython3",
   "version": "3.4.4"
  }
 },
 "nbformat": 4,
 "nbformat_minor": 0
}
