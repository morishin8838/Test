{
 "cells": [
  {
   "cell_type": "markdown",
   "metadata": {
    "collapsed": true
   },
   "source": [
    "# Jupyter Download as PDF"
   ]
  },
  {
   "cell_type": "markdown",
   "metadata": {},
   "source": [
    "## 内容\n",
    "Jupyterのdlownload as pdfは、デフォルトのままでは動作しません。修正手順を記載します。  \n",
    "\n",
    "## 解決策\n",
    "* xelatexを使うことで解決できます。\n",
    "\n",
    "## 動作しない理由\n",
    "* pdflatexは、日本語をサポートしていない\n",
    "* When exporting an ipython notebook to PDF(in the File/Download as  menu on a browser),  the default tex compiler is pdflatex, but it cannot support Chinese-Japanese-Korean characters."
   ]
  },
  {
   "cell_type": "markdown",
   "metadata": {},
   "source": [
    "## 手順\n",
    "0. texliveインストール\n",
    "1. pdf.py修正\n",
    "2. フォント追加\n",
    "3. テンプレート修正"
   ]
  },
  {
   "cell_type": "markdown",
   "metadata": {},
   "source": [
    "### 1. texliveインストール\n",
    "* texliveをインストールすると、xelatexが使えるようになります。"
   ]
  },
  {
   "cell_type": "markdown",
   "metadata": {},
   "source": [
    "### 2 pdf.pyの修正\n",
    "* pdflatexをxelatexに書き直します。"
   ]
  },
  {
   "cell_type": "code",
   "execution_count": null,
   "metadata": {
    "collapsed": true
   },
   "outputs": [],
   "source": [
    "#latex_command = List([u\"pdflatex\", u\"{filename}\"], config=True, \n",
    "#    help=\"Shell command used to compile latex.\"\n",
    "#latexpdfja /platex /pdflatex\n",
    "latex_command = List([u\"xelatex\", u\"{filename}\"], config=True, \n",
    "help=\"Shell command used to compile latex.\""
   ]
  },
  {
   "cell_type": "markdown",
   "metadata": {},
   "source": [
    "### 3. フォント追加\n",
    "* ttcを選択し、インストールを実行します。"
   ]
  },
  {
   "cell_type": "markdown",
   "metadata": {},
   "source": [
    "http://ipafont.ipa.go.jp/"
   ]
  },
  {
   "cell_type": "markdown",
   "metadata": {
    "collapsed": true
   },
   "source": [
    "### 4. テンプレートを修正します。\n",
    "* 注意事項\n",
    "    * 編集し保存する際には、UTF-8で保存を忘れずに！\n",
    "    * \\\\は必ず二つ入れること"
   ]
  },
  {
   "cell_type": "markdown",
   "metadata": {
    "collapsed": true
   },
   "source": [
    "* C:\\\\Python27\\\\Lib\\\\site-packages\\\\nbconvert\\\\templates\\\\latex\\\\base.tplx\n",
    "* C:\\\\Python27\\\\Lib\\\\site-packages\\\\nbconvert\\\\templates\\\\latex\\\\article.tplx"
   ]
  }
 ],
 "metadata": {
  "kernelspec": {
   "display_name": "Python 2",
   "language": "python",
   "name": "python2"
  },
  "language_info": {
   "codemirror_mode": {
    "name": "ipython",
    "version": 2
   },
   "file_extension": ".py",
   "mimetype": "text/x-python",
   "name": "python",
   "nbconvert_exporter": "python",
   "pygments_lexer": "ipython2",
   "version": "2.7.6"
  }
 },
 "nbformat": 4,
 "nbformat_minor": 0
}
