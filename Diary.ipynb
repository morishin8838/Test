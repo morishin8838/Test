{
 "cells": [
  {
   "cell_type": "markdown",
   "metadata": {},
   "source": [
    "# 14 Feb\n",
    ">  As long as I will declare \"drop\", I can not move another sectoin. I believe.   \n",
    "> I thougt almost member are same with me as well."
   ]
  },
  {
   "cell_type": "markdown",
   "metadata": {},
   "source": [
    "# 13 Feb 2016\n",
    ">2月かぁ。。。  \n",
    "> I could join new team, which has mission to develop next generation system. it is happy situation for me.   \n",
    "> but... the activity of that project seems like to be not good. I am worry about it. unfortunatry...\n",
    ">\n"
   ]
  },
  {
   "cell_type": "markdown",
   "metadata": {},
   "source": [
    "-------------"
   ]
  },
  {
   "cell_type": "markdown",
   "metadata": {},
   "source": [
    "# 17 Dec\n",
    "> I'm not satisfied my job in these day. I DO NOT have job.  \n",
    "> I start the job, which is new project. and "
   ]
  },
  {
   "cell_type": "markdown",
   "metadata": {},
   "source": [
    "# 23 Nov\n",
    "> I went hinking with wife to low hill, where is near, but it is getting rain on way to goal. so I would be back home, and I eat lunch at home."
   ]
  },
  {
   "cell_type": "markdown",
   "metadata": {},
   "source": [
    "# 21 Nov\n",
    "\n",
    ">気持ちが停滞して、１年長いよぉ。。。\n",
    ">あと一ヶ月で今年も終わりです。長かったなあ、、、\n",
    "\n"
   ]
  },
  {
   "cell_type": "markdown",
   "metadata": {},
   "source": [
    "# 2 Sep \n",
    "\n",
    ">やる気がでない。。。困ったなぁ、、、\n"
   ]
  },
  {
   "cell_type": "markdown",
   "metadata": {},
   "source": [
    "# 31th Aug 2015\n",
    "\n",
    "> 今日は集中して3Dプロット資料作成に専念  \n",
    "> しかし、完了せず。。。実力不足です。。とほほ。  \n",
    "> 帰宅新幹線の中で、完成の道筋が見つけました。明日、終わらせますよ！"
   ]
  },
  {
   "cell_type": "markdown",
   "metadata": {
    "collapsed": true
   },
   "source": [
    "# 30th Aug\n",
    "\n",
    ">今日のBBTはさぼり。SphinxでePub作りに励む。フォントがおかしい。フォントの設定方法が全く分からず。。ギブアップ。。。\n",
    ">今日も何もせずにおわっちゃったなぁ。。残り時間　夜に、三次元表示で動画作りやってみようかな。。。\n",
    ">\n"
   ]
  },
  {
   "cell_type": "markdown",
   "metadata": {},
   "source": [
    "# 29th Aug 2015\n",
    "\n",
    ">今日はのんびり家ですごしています。午前中は掃除、午後はGithubの整理をしました。  \n",
    ">やっぱしnotebookとGithubの組み合わせは便利だぁ〜。。この日記を始めることも、この便利具合から決めました。  \n",
    ">明日から通勤電車の中で日記を綴り、定期的に更新してみたいと思います。  \n",
    "> "
   ]
  }
 ],
 "metadata": {
  "kernelspec": {
   "display_name": "Python 3",
   "language": "python",
   "name": "python3"
  },
  "language_info": {
   "codemirror_mode": {
    "name": "ipython",
    "version": 3
   },
   "file_extension": ".py",
   "mimetype": "text/x-python",
   "name": "python",
   "nbconvert_exporter": "python",
   "pygments_lexer": "ipython3",
   "version": "3.4.4"
  }
 },
 "nbformat": 4,
 "nbformat_minor": 0
}
