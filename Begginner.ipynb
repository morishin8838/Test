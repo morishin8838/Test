{
 "metadata": {
  "name": "",
  "signature": "sha256:2c708e19e9203e431af5c60d2c6d4844cddf2997b019e9d24377532b19cbb777"
 },
 "nbformat": 3,
 "nbformat_minor": 0,
 "worksheets": [
  {
   "cells": [
    {
     "cell_type": "heading",
     "level": 1,
     "metadata": {},
     "source": [
      "nbviewer\u3092\u4ecb\u3057\u305fNotebook\u306e\u516c\u958b\u624b\u9806"
     ]
    },
    {
     "cell_type": "markdown",
     "metadata": {},
     "source": [
      "1. ipynb\u30d5\u30a1\u30a4\u30eb\u3092github\u306a\u3069\u306bpush\n",
      "    - (\u4f8b) https://github.com/morishin8838/nbviewer/blob/master/index.ipynb\n",
      "2. nbviewer\u3092\u4ecb\u3057\u3066\u30d6\u30e9\u30a6\u30b8\u30f3\u30b0\u3059\u308b\n",
      "    - (\u4f8b) http://nbviewer.ipython.org/github/morishin8838/nbviewer/blob/master/index.ipynb"
     ]
    }
   ],
   "metadata": {}
  }
 ]
}