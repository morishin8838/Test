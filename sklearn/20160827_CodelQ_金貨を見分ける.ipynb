{
 "cells": [
  {
   "cell_type": "markdown",
   "metadata": {},
   "source": [
    "# 金貨20枚\n",
    "# 体積と重さをはかる\n",
    "# 金貨と真鍮を見分ける"
   ]
  },
  {
   "cell_type": "markdown",
   "metadata": {},
   "source": [
    "# データ読み込み"
   ]
  },
  {
   "cell_type": "code",
   "execution_count": 69,
   "metadata": {
    "collapsed": false
   },
   "outputs": [],
   "source": [
    "import numpy as np\n",
    "from sklearn.svm import LinearSVC\n",
    "import matplotlib.pyplot as plt\n",
    "\n",
    "auth = np.genfromtxt('CodeIQ_auth.txt', delimiter=' ')\n",
    "#print(auth)\n",
    "\n",
    "# 教師データ\n",
    "train_X = np.array([[x[0], x[1]] for x in auth])\n",
    "# 教師データのラベル\n",
    "labels = [int(x[2]) for x in auth]\n",
    "\n",
    "# テストデータ\n",
    "test_X = np.genfromtxt('CodeIQ_mycoins.txt', delimiter=' ')\n",
    "#print(test_X.T[0])"
   ]
  },
  {
   "cell_type": "markdown",
   "metadata": {},
   "source": [
    "# データ可視化"
   ]
  },
  {
   "cell_type": "code",
   "execution_count": 29,
   "metadata": {
    "collapsed": false
   },
   "outputs": [
    {
     "data": {
      "image/png": "[encoded data removed]",
      "text/plain": [
       "<matplotlib.figure.Figure at 0x7f546e0baeb8>"
      ]
     },
     "metadata": {},
     "output_type": "display_data"
    }
   ],
   "source": [
    "%matplotlib inline \n",
    "fig = plt.figure()\n",
    "ax1 = fig.add_subplot(2,1,1)\n",
    "ax2 = fig.add_subplot(2,1,2)\n",
    "\n",
    "# 教師データから正解を抽出\n",
    "correct = np.array([[x[0], x[1]] for x in auth if x[2] == 1]).T\n",
    "# 同じくニセモノを抽出\n",
    "wrong   = np.array([[x[0], x[1]] for x in auth if x[2] == 0]).T\n",
    "\n",
    "# これらを散布図にプロッティングする\n",
    "ax1.scatter(correct[0], correct[1], color='g')\n",
    "ax1.scatter(wrong[0],   wrong[1],   color='r')\n",
    "ax2.scatter(train_X.T[0], train_X.T[1], color='b')\n",
    "ax2.scatter(test_X.T[0],  test_X.T[1],  color='r')\n",
    "\n",
    "#plt.legend(loc='best')\n",
    "plt.show()\n",
    "#plt.savefig(\"image.png\")"
   ]
  },
  {
   "cell_type": "markdown",
   "metadata": {},
   "source": [
    "* 上図の緑が正解、赤がニセモノの金貨です。\n",
    "* 下図は真贋データ (青) に対する、手に入れた金貨 (赤) の分布となります。"
   ]
  },
  {
   "cell_type": "markdown",
   "metadata": {},
   "source": [
    "# 解法"
   ]
  },
  {
   "cell_type": "markdown",
   "metadata": {},
   "source": [
    "* 線形分離問題なので LinearSVC を使います。"
   ]
  },
  {
   "cell_type": "code",
   "execution_count": 67,
   "metadata": {
    "collapsed": false
   },
   "outputs": [
    {
     "data": {
      "image/png": "[encoded data removed]",
      "text/plain": [
       "<matplotlib.figure.Figure at 0x7f546df3b208>"
      ]
     },
     "metadata": {},
     "output_type": "display_data"
    }
   ],
   "source": [
    "clf = LinearSVC(C=1)\n",
    "\n",
    "# 訓練\n",
    "clf.fit(train_X, labels)\n",
    "# 分類\n",
    "results = clf.predict(test_X)\n",
    "#for result, feature in zip(results, test_X):\n",
    "#    print(result, feature)\n",
    "\n",
    "#プロット\n",
    "fig = plt.figure()\n",
    "ax1 = fig.add_subplot(2,1,1)\n",
    "ax2 = fig.add_subplot(2,1,2)\n",
    "\n",
    "# 結果から正解を抽出\n",
    "correct=np.array([[feature[0], feature[1]] for (result, feature) in zip(results, test_X) if result == 1]).T\n",
    "# 結果から不正解を抽出\n",
    "wrong=np.array([[feature[0], feature[1]] for (result, feature) in zip(results, test_X) if result == 0]).T\n",
    "\n",
    "\n",
    "# これらを散布図にプロッティングする\n",
    "ax1.scatter(train_X.T[0], train_X.T[1], color='c')      #データ群\n",
    "ax1.scatter(test_X.T[0],  test_X.T[1],  color='k')      #手に入れたコイン\n",
    "ax2.scatter(wrong[0],  wrong[1],  color='r')               #不正解\n",
    "ax2.scatter(correct[0],  correct[1],  color='b')           #正解\n",
    "\n",
    "plt.xlim(0.1,1.4)\n",
    "plt.ylim(0,25)\n",
    "plt.show()\n",
    "#plt.savefig(\"image.png\")"
   ]
  },
  {
   "cell_type": "code",
   "execution_count": null,
   "metadata": {
    "collapsed": true
   },
   "outputs": [],
   "source": []
  }
 ],
 "metadata": {
  "kernelspec": {
   "display_name": "Python 3",
   "language": "python",
   "name": "python3"
  },
  "language_info": {
   "codemirror_mode": {
    "name": "ipython",
    "version": 3
   },
   "file_extension": ".py",
   "mimetype": "text/x-python",
   "name": "python",
   "nbconvert_exporter": "python",
   "pygments_lexer": "ipython3",
   "version": "3.4.4"
  }
 },
 "nbformat": 4,
 "nbformat_minor": 0
}
