{
 "cells": [
  {
   "cell_type": "code",
   "execution_count": 27,
   "metadata": {
    "collapsed": false
   },
   "outputs": [
    {
     "name": "stdout",
     "output_type": "stream",
     "text": [
      "00_Dockerからバージョンアップ方法.ipynb    CodeIQ_mycoins\r\n",
      "20150816.ipynb\t\t\t\t   gcc\r\n",
      "20150822_Pythonによるデータ分析入門.ipynb  pylib_20140228_morishita\r\n",
      "20150829_brokh.ipynb\t\t\t   Pythonによるデータ分析入門\r\n",
      "20160205_gcc使い方.ipynb\t\t   satellite_position\r\n",
      "CodeIQ_auth\r\n"
     ]
    }
   ],
   "source": [
    "!ls"
   ]
  },
  {
   "cell_type": "markdown",
   "metadata": {},
   "source": [
    "## 仮ディレクトリ作成"
   ]
  },
  {
   "cell_type": "code",
   "execution_count": 28,
   "metadata": {
    "collapsed": false
   },
   "outputs": [
    {
     "name": "stdout",
     "output_type": "stream",
     "text": [
      "mkdir: cannot create directory ‘gcc’: File exists\r\n"
     ]
    }
   ],
   "source": [
    "! mkdir gcc"
   ]
  },
  {
   "cell_type": "markdown",
   "metadata": {},
   "source": [
    "## gcc ターゲットファイル -o 出力ファイル名"
   ]
  },
  {
   "cell_type": "code",
   "execution_count": 1,
   "metadata": {
    "collapsed": false
   },
   "outputs": [],
   "source": [
    "#!gcc ./gcc/hello.c ./gcc/hello.out\n",
    "!gcc ./gcc/hello.c -o ./gcc/hello.out"
   ]
  },
  {
   "cell_type": "code",
   "execution_count": 40,
   "metadata": {
    "collapsed": false
   },
   "outputs": [
    {
     "name": "stdout",
     "output_type": "stream",
     "text": [
      "こんにちわ\r\n",
      "こんにちわ\r\n",
      "こんにちわ\r\n",
      "こんにちわ\r\n",
      "こんにちわ\r\n",
      "こんにちわ\r\n",
      "こんにちわ\r\n",
      "こんにちわ\r\n",
      "こんにちわ\r\n",
      "こんにちわ\r\n",
      "こんにちわ\r\n",
      "Hello world\r\n"
     ]
    }
   ],
   "source": [
    "! ./gcc/hello.out"
   ]
  },
  {
   "cell_type": "code",
   "execution_count": null,
   "metadata": {
    "collapsed": true
   },
   "outputs": [],
   "source": []
  }
 ],
 "metadata": {
  "kernelspec": {
   "display_name": "Python 3",
   "language": "python",
   "name": "python3"
  },
  "language_info": {
   "codemirror_mode": {
    "name": "ipython",
    "version": 3
   },
   "file_extension": ".py",
   "mimetype": "text/x-python",
   "name": "python",
   "nbconvert_exporter": "python",
   "pygments_lexer": "ipython3",
   "version": "3.4.4"
  }
 },
 "nbformat": 4,
 "nbformat_minor": 0
}
