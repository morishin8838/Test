{
 "cells": [
  {
   "cell_type": "markdown",
   "metadata": {},
   "source": [
    "# 3D Plotを連続描画するサンプル"
   ]
  },
  {
   "cell_type": "markdown",
   "metadata": {},
   "source": [
    "0. **作図条件**\n",
    "    * pandas\n",
    "    * 3D\n",
    "    * columは3列\n",
    "    * 複数ファイルがあって、ファイルリードする毎に描画を更新する\n",
    "\n",
    "1.   方法\n",
    "    * pngを連続で出力\n",
    "    * gifでまとめて\n",
    "    * gifで表示"
   ]
  },
  {
   "cell_type": "code",
   "execution_count": 2,
   "metadata": {
    "collapsed": false
   },
   "outputs": [],
   "source": [
    "%matplotlib inline"
   ]
  },
  {
   "cell_type": "code",
   "execution_count": 15,
   "metadata": {
    "collapsed": false
   },
   "outputs": [
    {
     "data": {
      "text/html": [
       "<div>\n",
       "<table border=\"1\" class=\"dataframe\">\n",
       "  <thead>\n",
       "    <tr style=\"text-align: right;\">\n",
       "      <th></th>\n",
       "      <th>X</th>\n",
       "      <th>Y</th>\n",
       "      <th>Z</th>\n",
       "      <th>No</th>\n",
       "    </tr>\n",
       "  </thead>\n",
       "  <tbody>\n",
       "    <tr>\n",
       "      <th>0</th>\n",
       "      <td>0.365675</td>\n",
       "      <td>0.033991</td>\n",
       "      <td>1.532027</td>\n",
       "      <td>0</td>\n",
       "    </tr>\n",
       "    <tr>\n",
       "      <th>1</th>\n",
       "      <td>-0.826872</td>\n",
       "      <td>-0.039965</td>\n",
       "      <td>-0.486477</td>\n",
       "      <td>0</td>\n",
       "    </tr>\n",
       "    <tr>\n",
       "      <th>2</th>\n",
       "      <td>-0.428759</td>\n",
       "      <td>-1.109924</td>\n",
       "      <td>1.435256</td>\n",
       "      <td>0</td>\n",
       "    </tr>\n",
       "    <tr>\n",
       "      <th>3</th>\n",
       "      <td>-0.437898</td>\n",
       "      <td>2.005175</td>\n",
       "      <td>-0.261637</td>\n",
       "      <td>0</td>\n",
       "    </tr>\n",
       "    <tr>\n",
       "      <th>4</th>\n",
       "      <td>-0.554192</td>\n",
       "      <td>0.685553</td>\n",
       "      <td>1.016490</td>\n",
       "      <td>0</td>\n",
       "    </tr>\n",
       "  </tbody>\n",
       "</table>\n",
       "</div>"
      ],
      "text/plain": [
       "          X         Y         Z  No\n",
       "0  0.365675  0.033991  1.532027   0\n",
       "1 -0.826872 -0.039965 -0.486477   0\n",
       "2 -0.428759 -1.109924  1.435256   0\n",
       "3 -0.437898  2.005175 -0.261637   0\n",
       "4 -0.554192  0.685553  1.016490   0"
      ]
     },
     "execution_count": 15,
     "metadata": {},
     "output_type": "execute_result"
    }
   ],
   "source": [
    "import pandas as pd\n",
    "from pandas import DataFrame\n",
    "import matplotlib.pyplot as plt\n",
    "from mpl_toolkits.mplot3d import Axes3D\n",
    "import numpy as np\n",
    "import IPython.display as IPdisplay\n",
    "import glob\n",
    "from PIL import Image as PIL_Image\n",
    "from images2gif import writeGif\n",
    "\n",
    "pieces=[]\n",
    "x=range(10)\n",
    "for n in x:\n",
    "    data = np.random.randn(6, 3)\n",
    "    dft = pd.DataFrame(data, columns=list(\"XYZ\"))\n",
    "    dft['No']=n\n",
    "    pieces.append(dft)\n",
    "    \n",
    "df = pd.concat(pieces, ignore_index=True)    \n",
    "df.head()"
   ]
  },
  {
   "cell_type": "code",
   "execution_count": 52,
   "metadata": {
    "collapsed": false
   },
   "outputs": [
    {
     "ename": "TypeError",
     "evalue": "must be string or buffer, not None",
     "output_type": "error",
     "traceback": [
      "\u001b[0;31m---------------------------------------------------------------------------\u001b[0m",
      "\u001b[0;31mTypeError\u001b[0m                                 Traceback (most recent call last)",
      "\u001b[0;32m<ipython-input-52-f2b31fea3b24>\u001b[0m in \u001b[0;36m<module>\u001b[0;34m()\u001b[0m\n\u001b[1;32m     17\u001b[0m \u001b[0mfile_path_name\u001b[0m \u001b[0;34m=\u001b[0m \u001b[0;34m'./images/'\u001b[0m \u001b[0;34m+\u001b[0m \u001b[0mgif_filename\u001b[0m \u001b[0;34m+\u001b[0m \u001b[0;34m'.gif'\u001b[0m\u001b[0;34m\u001b[0m\u001b[0m\n\u001b[1;32m     18\u001b[0m \u001b[0;31m#writeGif(file_path_name, gif_images, duration=0.1)\u001b[0m\u001b[0;34m\u001b[0m\u001b[0;34m\u001b[0m\u001b[0m\n\u001b[0;32m---> 19\u001b[0;31m \u001b[0mwriteGif\u001b[0m\u001b[0;34m(\u001b[0m\u001b[0mfile_path_name\u001b[0m\u001b[0;34m,\u001b[0m \u001b[0mgif_images\u001b[0m\u001b[0;34m)\u001b[0m\u001b[0;34m\u001b[0m\u001b[0m\n\u001b[0m\u001b[1;32m     20\u001b[0m \u001b[0;31m#IPdisplay.Image(url=file_path_name)\u001b[0m\u001b[0;34m\u001b[0m\u001b[0;34m\u001b[0m\u001b[0m\n",
      "\u001b[0;32m/usr/local/lib/python2.7/site-packages/images2gif/images2gif.pyc\u001b[0m in \u001b[0;36mwriteGif\u001b[0;34m(filename, images, duration, repeat, dither, nq, subRectangles, dispose)\u001b[0m\n\u001b[1;32m    591\u001b[0m     \u001b[0mfp\u001b[0m \u001b[0;34m=\u001b[0m \u001b[0mopen\u001b[0m\u001b[0;34m(\u001b[0m\u001b[0mfilename\u001b[0m\u001b[0;34m,\u001b[0m \u001b[0;34m'wb'\u001b[0m\u001b[0;34m)\u001b[0m\u001b[0;34m\u001b[0m\u001b[0m\n\u001b[1;32m    592\u001b[0m     \u001b[0;32mtry\u001b[0m\u001b[0;34m:\u001b[0m\u001b[0;34m\u001b[0m\u001b[0m\n\u001b[0;32m--> 593\u001b[0;31m         \u001b[0mgifWriter\u001b[0m\u001b[0;34m.\u001b[0m\u001b[0mwriteGifToFile\u001b[0m\u001b[0;34m(\u001b[0m\u001b[0mfp\u001b[0m\u001b[0;34m,\u001b[0m \u001b[0mimages\u001b[0m\u001b[0;34m,\u001b[0m \u001b[0mduration\u001b[0m\u001b[0;34m,\u001b[0m \u001b[0mloops\u001b[0m\u001b[0;34m,\u001b[0m \u001b[0mxy\u001b[0m\u001b[0;34m,\u001b[0m \u001b[0mdispose\u001b[0m\u001b[0;34m)\u001b[0m\u001b[0;34m\u001b[0m\u001b[0m\n\u001b[0m\u001b[1;32m    594\u001b[0m     \u001b[0;32mfinally\u001b[0m\u001b[0;34m:\u001b[0m\u001b[0;34m\u001b[0m\u001b[0m\n\u001b[1;32m    595\u001b[0m         \u001b[0mfp\u001b[0m\u001b[0;34m.\u001b[0m\u001b[0mclose\u001b[0m\u001b[0;34m(\u001b[0m\u001b[0;34m)\u001b[0m\u001b[0;34m\u001b[0m\u001b[0m\n",
      "\u001b[0;32m/usr/local/lib/python2.7/site-packages/images2gif/images2gif.pyc\u001b[0m in \u001b[0;36mwriteGifToFile\u001b[0;34m(self, fp, images, durations, loops, xys, disposes)\u001b[0m\n\u001b[1;32m    447\u001b[0m                 \u001b[0;31m# Write\u001b[0m\u001b[0;34m\u001b[0m\u001b[0;34m\u001b[0m\u001b[0m\n\u001b[1;32m    448\u001b[0m                 \u001b[0mfp\u001b[0m\u001b[0;34m.\u001b[0m\u001b[0mwrite\u001b[0m\u001b[0;34m(\u001b[0m\u001b[0mheader\u001b[0m\u001b[0;34m)\u001b[0m\u001b[0;34m\u001b[0m\u001b[0m\n\u001b[0;32m--> 449\u001b[0;31m                 \u001b[0mfp\u001b[0m\u001b[0;34m.\u001b[0m\u001b[0mwrite\u001b[0m\u001b[0;34m(\u001b[0m\u001b[0mglobalPalette\u001b[0m\u001b[0;34m)\u001b[0m\u001b[0;34m\u001b[0m\u001b[0m\n\u001b[0m\u001b[1;32m    450\u001b[0m                 \u001b[0mfp\u001b[0m\u001b[0;34m.\u001b[0m\u001b[0mwrite\u001b[0m\u001b[0;34m(\u001b[0m\u001b[0mappext\u001b[0m\u001b[0;34m)\u001b[0m\u001b[0;34m\u001b[0m\u001b[0m\n\u001b[1;32m    451\u001b[0m \u001b[0;34m\u001b[0m\u001b[0m\n",
      "\u001b[0;31mTypeError\u001b[0m: must be string or buffer, not None"
     ]
    }
   ],
   "source": [
    "#animation.ArtistAnimation\n",
    "#事前に用意してあるデータを描画\n",
    "#animation.FuncAnimation\n",
    "#随時データを更新する\n",
    "\n",
    "#fig = plt.figure()\n",
    "gif_filename='xx'\n",
    "for n in x:\n",
    "    dfp=df[df.No==n]\n",
    "    fig = plt.figure().gca(projection='3d')\n",
    "    fig.scatter(dfp['X'], dfp['Y'], dfp['Z'])\n",
    "    fig = plt.gcf()\n",
    "    fig.savefig('./images/' + gif_filename + '/img' + str(n).zfill(3) + '.png', bbox_inches='tight')\n",
    "    plt.close(fig) \n",
    "gif_images= [PIL_Image.open(image_fn) for image_fn in glob.glob('./images/'+gif_filename+'/*.png')]\n",
    "#print gif_images\n",
    "file_path_name = './images/' + gif_filename + '.gif'\n",
    "#writeGif(file_path_name, gif_images, duration=0.1)\n",
    "#writeGif(file_path_name, gif_images)\n",
    "#IPdisplay.Image(url=file_path_name)\n"
   ]
  },
  {
   "cell_type": "code",
   "execution_count": 27,
   "metadata": {
    "collapsed": false
   },
   "outputs": [
    {
     "name": "stdout",
     "output_type": "stream",
     "text": [
      "20141026_OverShoot_Simulation.ipynb  20150830_MP4.ipynb\r\n",
      "20150830_3D_PlotView.ipynb           \u001b[30m\u001b[43mimages\u001b[m\u001b[m/\r\n"
     ]
    }
   ],
   "source": [
    "%ls"
   ]
  },
  {
   "cell_type": "code",
   "execution_count": null,
   "metadata": {
    "collapsed": true
   },
   "outputs": [],
   "source": []
  }
 ],
 "metadata": {
  "kernelspec": {
   "display_name": "Python 2",
   "language": "python",
   "name": "python2"
  },
  "language_info": {
   "codemirror_mode": {
    "name": "ipython",
    "version": 2
   },
   "file_extension": ".py",
   "mimetype": "text/x-python",
   "name": "python",
   "nbconvert_exporter": "python",
   "pygments_lexer": "ipython2",
   "version": "2.7.10"
  }
 },
 "nbformat": 4,
 "nbformat_minor": 0
}
