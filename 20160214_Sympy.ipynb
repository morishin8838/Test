{
 "cells": [
  {
   "cell_type": "markdown",
   "metadata": {},
   "source": [
    "# ライブラリのsympy\n",
    "## 因数分解とか微分とか、mathematica風の機能がpythonでも使えるようになる。"
   ]
  },
  {
   "cell_type": "code",
   "execution_count": 1,
   "metadata": {
    "collapsed": true
   },
   "outputs": [],
   "source": [
    "from sympy import *\n",
    "# 数式の表示をするためのメソッド\n",
    "init_printing()\n",
    "# 使用する変数の定義\n",
    "x, y, z = symbols('x y z')"
   ]
  },
  {
   "cell_type": "code",
   "execution_count": 5,
   "metadata": {
    "collapsed": false
   },
   "outputs": [
    {
     "data": {
      "image/png": "[encoded data removed]",
      "text/latex": [
       "$$z^{2} + \\frac{e^{x}}{y}$$"
      ],
      "text/plain": [
       "      x\n",
       " 2   ℯ \n",
       "z  + ──\n",
       "     y "
      ]
     },
     "execution_count": 5,
     "metadata": {},
     "output_type": "execute_result"
    }
   ],
   "source": [
    "# 方程式をつくる\n",
    "expr = exp(x)/y + z**2\n",
    "expr\n",
    "\n",
    "# 展開\n",
    "#expand((x + y)**3)\n",
    "\n",
    "# 因数分解\n",
    "#factor(x**2 + 2*x*y + y**2)\n",
    "\n",
    "# 方程式を簡単にする\n",
    "#sympify((x + 2*x + x**3)*4 + 3 + x + 4*x)\n",
    "#expr = x * y + 2/y\n",
    "#solve(expr, x)\n",
    "\n",
    "# 極限\n",
    "# 1/x を x について無限大の極限をとる\n",
    "#limit(1/x, x, oo)\n",
    "\n",
    "# 微分\n",
    "#diff(sin(x), x)\n",
    "\n",
    "# 積分\n",
    "#integrate(cos(x), x)"
   ]
  },
  {
   "cell_type": "code",
   "execution_count": 8,
   "metadata": {
    "collapsed": false
   },
   "outputs": [
    {
     "data": {
      "image/png": "[encoded data removed]",
      "text/latex": [
       "$$x y + \\frac{2}{y}$$"
      ],
      "text/plain": [
       "      2\n",
       "x⋅y + ─\n",
       "      y"
      ]
     },
     "execution_count": 8,
     "metadata": {},
     "output_type": "execute_result"
    }
   ],
   "source": [
    "# 方程式を解く\n",
    "expr = x * y + 2/y\n",
    "expr"
   ]
  },
  {
   "cell_type": "code",
   "execution_count": 9,
   "metadata": {
    "collapsed": false
   },
   "outputs": [
    {
     "data": {
      "image/png": "[encoded data removed]",
      "text/latex": [
       "$$\\left [ - \\frac{2}{y^{2}}\\right ]$$"
      ],
      "text/plain": [
       "⎡-2 ⎤\n",
       "⎢───⎥\n",
       "⎢  2⎥\n",
       "⎣ y ⎦"
      ]
     },
     "execution_count": 9,
     "metadata": {},
     "output_type": "execute_result"
    }
   ],
   "source": [
    "solve(expr, x)"
   ]
  },
  {
   "cell_type": "markdown",
   "metadata": {},
   "source": [
    "# 因数分解"
   ]
  },
  {
   "cell_type": "code",
   "execution_count": 10,
   "metadata": {
    "collapsed": false
   },
   "outputs": [
    {
     "data": {
      "image/png": "[encoded data removed]",
      "text/latex": [
       "$$\\left(x + y\\right)^{2}$$"
      ],
      "text/plain": [
       "       2\n",
       "(x + y) "
      ]
     },
     "execution_count": 10,
     "metadata": {},
     "output_type": "execute_result"
    }
   ],
   "source": [
    "# 因数分解\n",
    "factor(x**2 + 2*x*y + y**2)"
   ]
  },
  {
   "cell_type": "code",
   "execution_count": null,
   "metadata": {
    "collapsed": true
   },
   "outputs": [],
   "source": []
  }
 ],
 "metadata": {
  "kernelspec": {
   "display_name": "Python 3",
   "language": "python",
   "name": "python3"
  },
  "language_info": {
   "codemirror_mode": {
    "name": "ipython",
    "version": 3
   },
   "file_extension": ".py",
   "mimetype": "text/x-python",
   "name": "python",
   "nbconvert_exporter": "python",
   "pygments_lexer": "ipython3",
   "version": "3.4.4"
  }
 },
 "nbformat": 4,
 "nbformat_minor": 0
}
