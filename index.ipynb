{
 "metadata": {
  "name": "index"
 },
 "nbformat": 3,
 "nbformat_minor": 0,
 "worksheets": [
  {
   "cells": [
    {
     "cell_type": "heading",
     "level": 1,
     "metadata": {},
     "source": "IPYTHON NOTEBOOK "
    },
    {
     "cell_type": "markdown",
     "metadata": {},
     "source": "# \u4e00\u4eba\u307d\u3063\u3061\u306e\u30a8\u30f3\u30b8\u30cb\u30a2\u5411\u3051\u3078\npython notebook\u3067\u89e3\u6790\u3059\u308b\u305f\u3081\u306e\u53c2\u8003\u8cc7\u6599\u3092\u8a18\u8f09\u3059\u308b\uff08\u4e00\u4eba\u3067Ipython Notebook\u3092\u4f7f\u3063\u3066\u3044\u308b\u4eba\u3092\u5fdc\u63f4\u3057\u307e\u3059\u3088\u3049\uff09"
    },
    {
     "cell_type": "markdown",
     "metadata": {},
     "source": "* [\u4e00\u4eba\u307d\u3063\u3061\u306eIPYTHOON NOTEBOOK](http://nbviewer.ipython.org/github/morishin8838/nbviewer/blob/master/index.ipynb)\n* [\u30db\u30fc\u30e0\u30da\u30fc\u30b8 morishin8838](http://morishin8838.bitbucket.org/)\n* [NoteBook\u3092\u516c\u958b\u3059\u308b\u65b9\u6cd5](http://nbviewer.ipython.org/github/morishin8838/nbviewer/blob/master/ABC.ipynb)\n* [Pyramid\u306e\u7814\u7a76](http://nbviewer.ipython.org/github/morishin8838/nbviewer/blob/master/PyramidPractice.ipynb)\n* [\u30b7\u30e5\u30df\u30ec\u30fc\u30b7\u30e7\u30f3 \u30aa\u30fc\u30d0\u30fc\u30b7\u30e5\u30fc\u30c8\u72b6\u614b\u3092\u8868\u73fe](http://nbviewer.ipython.org/github/morishin8838/nbviewer/blob/master/OverShoot_Simulation_20141026.ipynb)\n"
    }
   ],
   "metadata": {}
  }
 ]
}