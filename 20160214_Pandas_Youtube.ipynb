{
 "cells": [
  {
   "cell_type": "markdown",
   "metadata": {},
   "source": [
    "# pandas practice"
   ]
  },
  {
   "cell_type": "code",
   "execution_count": 1,
   "metadata": {
    "collapsed": true
   },
   "outputs": [],
   "source": [
    "import pandas as pd\n",
    "import numpy as np"
   ]
  },
  {
   "cell_type": "markdown",
   "metadata": {},
   "source": [
    "First Header  | Second Header\n",
    "------------- | -------------\n",
    "Content Cell  | Content Cell\n",
    "Content Cell  | Content Cell"
   ]
  },
  {
   "cell_type": "markdown",
   "metadata": {},
   "source": [
    "|No|項目|内容|備考|\n",
    "|:---|------|-----|----|\n",
    "|1| 内容1|まる|まる|\n",
    "|2|test||||\n"
   ]
  },
  {
   "cell_type": "code",
   "execution_count": 2,
   "metadata": {
    "collapsed": false
   },
   "outputs": [
    {
     "data": {
      "text/html": [
       "<div>\n",
       "<table border=\"1\" class=\"dataframe\">\n",
       "  <thead>\n",
       "    <tr style=\"text-align: right;\">\n",
       "      <th></th>\n",
       "      <th>A</th>\n",
       "      <th>B</th>\n",
       "      <th>C</th>\n",
       "      <th>D</th>\n",
       "    </tr>\n",
       "  </thead>\n",
       "  <tbody>\n",
       "    <tr>\n",
       "      <th>2013-01-01</th>\n",
       "      <td>-0.524448</td>\n",
       "      <td>-0.579920</td>\n",
       "      <td>0.352990</td>\n",
       "      <td>-0.284151</td>\n",
       "    </tr>\n",
       "    <tr>\n",
       "      <th>2013-01-02</th>\n",
       "      <td>0.927342</td>\n",
       "      <td>0.322560</td>\n",
       "      <td>-0.206513</td>\n",
       "      <td>0.023907</td>\n",
       "    </tr>\n",
       "    <tr>\n",
       "      <th>2013-01-03</th>\n",
       "      <td>-0.283596</td>\n",
       "      <td>1.446661</td>\n",
       "      <td>-0.160580</td>\n",
       "      <td>-0.612171</td>\n",
       "    </tr>\n",
       "    <tr>\n",
       "      <th>2013-01-04</th>\n",
       "      <td>0.465523</td>\n",
       "      <td>2.034972</td>\n",
       "      <td>0.464610</td>\n",
       "      <td>0.604286</td>\n",
       "    </tr>\n",
       "    <tr>\n",
       "      <th>2013-01-05</th>\n",
       "      <td>0.762791</td>\n",
       "      <td>0.006703</td>\n",
       "      <td>-0.641209</td>\n",
       "      <td>-3.197321</td>\n",
       "    </tr>\n",
       "    <tr>\n",
       "      <th>2013-01-06</th>\n",
       "      <td>-0.097263</td>\n",
       "      <td>-0.727186</td>\n",
       "      <td>-0.099361</td>\n",
       "      <td>-0.921739</td>\n",
       "    </tr>\n",
       "  </tbody>\n",
       "</table>\n",
       "</div>"
      ],
      "text/plain": [
       "                   A         B         C         D\n",
       "2013-01-01 -0.524448 -0.579920  0.352990 -0.284151\n",
       "2013-01-02  0.927342  0.322560 -0.206513  0.023907\n",
       "2013-01-03 -0.283596  1.446661 -0.160580 -0.612171\n",
       "2013-01-04  0.465523  2.034972  0.464610  0.604286\n",
       "2013-01-05  0.762791  0.006703 -0.641209 -3.197321\n",
       "2013-01-06 -0.097263 -0.727186 -0.099361 -0.921739"
      ]
     },
     "execution_count": 2,
     "metadata": {},
     "output_type": "execute_result"
    }
   ],
   "source": [
    "#DataFrameをnumpyで行列を作り、インデックスとラベルを貼り付けるパターン\n",
    "#Create a index\n",
    "dates = pd.date_range(\"20130101\", periods=6)\n",
    "dates\n",
    "#Create a DatFrame\n",
    "df = pd.DataFrame(np.random.randn(6,4),index = dates, columns = list(\"ABCD\"))\n",
    "df"
   ]
  },
  {
   "cell_type": "code",
   "execution_count": 18,
   "metadata": {
    "collapsed": true
   },
   "outputs": [],
   "source": [
    "#import matplotlib\n",
    "%matplotlib inline"
   ]
  },
  {
   "cell_type": "code",
   "execution_count": 20,
   "metadata": {
    "collapsed": false
   },
   "outputs": [
    {
     "data": {
      "image/png": "[encoded data removed]",
      "text/plain": [
       "<matplotlib.figure.Figure at 0x7f89f3e0a390>"
      ]
     },
     "metadata": {},
     "output_type": "display_data"
    }
   ],
   "source": [
    "x=df['A']/df['A'].sum()\n",
    "x.plot().grid()"
   ]
  },
  {
   "cell_type": "code",
   "execution_count": 39,
   "metadata": {
    "collapsed": false
   },
   "outputs": [
    {
     "data": {
      "text/html": [
       "<div>\n",
       "<table border=\"1\" class=\"dataframe\">\n",
       "  <thead>\n",
       "    <tr style=\"text-align: right;\">\n",
       "      <th></th>\n",
       "      <th>A</th>\n",
       "      <th>B</th>\n",
       "      <th>C</th>\n",
       "      <th>D</th>\n",
       "      <th>Z</th>\n",
       "    </tr>\n",
       "  </thead>\n",
       "  <tbody>\n",
       "    <tr>\n",
       "      <th>2013-01-01</th>\n",
       "      <td>-0.564995</td>\n",
       "      <td>0.488751</td>\n",
       "      <td>-0.826338</td>\n",
       "      <td>1.652820</td>\n",
       "      <td>foo</td>\n",
       "    </tr>\n",
       "    <tr>\n",
       "      <th>2013-01-02</th>\n",
       "      <td>-0.235842</td>\n",
       "      <td>0.238453</td>\n",
       "      <td>-0.949845</td>\n",
       "      <td>-0.606036</td>\n",
       "      <td>foo</td>\n",
       "    </tr>\n",
       "    <tr>\n",
       "      <th>2013-01-03</th>\n",
       "      <td>0.396327</td>\n",
       "      <td>-1.658735</td>\n",
       "      <td>-0.958302</td>\n",
       "      <td>-1.243180</td>\n",
       "      <td>foo</td>\n",
       "    </tr>\n",
       "    <tr>\n",
       "      <th>2013-01-04</th>\n",
       "      <td>0.159820</td>\n",
       "      <td>1.670279</td>\n",
       "      <td>-0.549448</td>\n",
       "      <td>-0.678881</td>\n",
       "      <td>fox</td>\n",
       "    </tr>\n",
       "    <tr>\n",
       "      <th>2013-01-05</th>\n",
       "      <td>-1.558506</td>\n",
       "      <td>0.328290</td>\n",
       "      <td>0.696914</td>\n",
       "      <td>0.707140</td>\n",
       "      <td>fox</td>\n",
       "    </tr>\n",
       "    <tr>\n",
       "      <th>2013-01-06</th>\n",
       "      <td>-1.234625</td>\n",
       "      <td>-0.954436</td>\n",
       "      <td>2.159748</td>\n",
       "      <td>1.031941</td>\n",
       "      <td>fox</td>\n",
       "    </tr>\n",
       "  </tbody>\n",
       "</table>\n",
       "</div>"
      ],
      "text/plain": [
       "                   A         B         C         D    Z\n",
       "2013-01-01 -0.564995  0.488751 -0.826338  1.652820  foo\n",
       "2013-01-02 -0.235842  0.238453 -0.949845 -0.606036  foo\n",
       "2013-01-03  0.396327 -1.658735 -0.958302 -1.243180  foo\n",
       "2013-01-04  0.159820  1.670279 -0.549448 -0.678881  fox\n",
       "2013-01-05 -1.558506  0.328290  0.696914  0.707140  fox\n",
       "2013-01-06 -1.234625 -0.954436  2.159748  1.031941  fox"
      ]
     },
     "execution_count": 39,
     "metadata": {},
     "output_type": "execute_result"
    }
   ],
   "source": [
    "x=pd.DataFrame(['foo','foo','foo','fox','fox','fox'],index = dates,columns=[\"Z\"])\n",
    "dx=pd.concat([df,x],axis=1)\n",
    "dx"
   ]
  },
  {
   "cell_type": "code",
   "execution_count": 44,
   "metadata": {
    "collapsed": false
   },
   "outputs": [
    {
     "data": {
      "text/html": [
       "<div>\n",
       "<table border=\"1\" class=\"dataframe\">\n",
       "  <thead>\n",
       "    <tr style=\"text-align: right;\">\n",
       "      <th></th>\n",
       "      <th>A</th>\n",
       "      <th>B</th>\n",
       "    </tr>\n",
       "    <tr>\n",
       "      <th>Z</th>\n",
       "      <th></th>\n",
       "      <th></th>\n",
       "    </tr>\n",
       "  </thead>\n",
       "  <tbody>\n",
       "    <tr>\n",
       "      <th>foo</th>\n",
       "      <td>-0.134837</td>\n",
       "      <td>-0.310510</td>\n",
       "    </tr>\n",
       "    <tr>\n",
       "      <th>fox</th>\n",
       "      <td>-0.877771</td>\n",
       "      <td>0.348044</td>\n",
       "    </tr>\n",
       "  </tbody>\n",
       "</table>\n",
       "</div>"
      ],
      "text/plain": [
       "            A         B\n",
       "Z                      \n",
       "foo -0.134837 -0.310510\n",
       "fox -0.877771  0.348044"
      ]
     },
     "execution_count": 44,
     "metadata": {},
     "output_type": "execute_result"
    }
   ],
   "source": [
    "#xx=dx.groupby('Z')[['A','B']].sum()\n",
    "xx=dx.groupby('Z')[['A','B']].mean()\n",
    "#xx=pd.pivot_table(dx, values=[u'A', u'B'], index=['Z'],aggfunc=pd.np.mean)\n",
    "xx           "
   ]
  },
  {
   "cell_type": "code",
   "execution_count": 15,
   "metadata": {
    "collapsed": true
   },
   "outputs": [],
   "source": [
    "%matplotlib inline"
   ]
  },
  {
   "cell_type": "code",
   "execution_count": 28,
   "metadata": {
    "collapsed": false
   },
   "outputs": [
    {
     "data": {
      "text/plain": [
       "<matplotlib.text.Text at 0x7fe5bc502908>"
      ]
     },
     "execution_count": 28,
     "metadata": {},
     "output_type": "execute_result"
    },
    {
     "data": {
      "image/png": "[encoded data removed]",
      "text/plain": [
       "<matplotlib.figure.Figure at 0x7fe5bc392710>"
      ]
     },
     "metadata": {},
     "output_type": "display_data"
    }
   ],
   "source": [
    "#x=df.ix[:,1]\n",
    "axes=df.plot()\n",
    "#axes=x.plot(grid='on',legend='True',title='ts')\n",
    "axes.set_title('XXX')\n",
    "axes.set_xlabel('test')\n",
    "axes.set_ylabel('Heeo')\n",
    "\n",
    "dx=df.groupby((df['A'],df2['F']))\n",
    "dx.mean()"
   ]
  },
  {
   "cell_type": "code",
   "execution_count": null,
   "metadata": {
    "collapsed": false
   },
   "outputs": [],
   "source": [
    "xx=df.ix[:,0]\n",
    "xx.index=df.index"
   ]
  },
  {
   "cell_type": "code",
   "execution_count": null,
   "metadata": {
    "collapsed": true
   },
   "outputs": [],
   "source": [
    "%matplotlib inline"
   ]
  },
  {
   "cell_type": "code",
   "execution_count": null,
   "metadata": {
    "collapsed": false
   },
   "outputs": [],
   "source": [
    "# 列の追加\n",
    "# core3の列を追加することを考えます。\n",
    "# 追加したいデータを適当に作ります。データフレーム同士の結合を考えます。\n",
    "\n",
    "df_addition_col = pd.DataFrame([[120,160,100,180,110,80]]).T #dfと同じ行数を持つDFを作成\n",
    "df_addition_col.columns =[\"Z\"] #列名は結合後にもそのまま使われる\n",
    "df_addition_col.index =df.index\n",
    "df2=pd.concat([df,df_addition_col],axis=1) #axis=1は横方向の結合を指定します。\n",
    "\n",
    "df=df.ix[:,0:4]\n",
    "df2\n",
    "x=df2.ix[:,[\"A\",\"B\"]]\n",
    "x.plot(title=\"TEST\").grid()"
   ]
  },
  {
   "cell_type": "code",
   "execution_count": null,
   "metadata": {
    "collapsed": false
   },
   "outputs": [],
   "source": [
    "df3=df2.ix[:,[0:2]]"
   ]
  },
  {
   "cell_type": "code",
   "execution_count": null,
   "metadata": {
    "collapsed": false
   },
   "outputs": [],
   "source": [
    "df.index=df.ix[:,0]\n",
    "x=df.ix[:,1]\n",
    "x.plot()"
   ]
  },
  {
   "cell_type": "code",
   "execution_count": null,
   "metadata": {
    "collapsed": false
   },
   "outputs": [],
   "source": [
    "import timeit\n",
    "#ラベル別にSeriesを作るイメージでDataFrameを作成。\n",
    "df2 = pd.DataFrame({ 'A' : np.random.randn(),\n",
    "                     'B' : pd.Timestamp('20130102'),\n",
    "                     'C' : pd.Series(1,index=list(range(4)),dtype='float32'),\n",
    "                     'D' : np.array([3] * 4,dtype='int32'),\n",
    "                     'E' : pd.Categorical([\"test\",\"train\",\"test\",\"train\"]),\n",
    "                     'F' : ['foo','foo','foo','fox'] })\n",
    "df2"
   ]
  },
  {
   "cell_type": "code",
   "execution_count": null,
   "metadata": {
    "collapsed": false
   },
   "outputs": [],
   "source": [
    "ss=df2.ix[:,0]\n",
    "ss.index=df2.\n",
    "ss.plot(kind=\"bar\")"
   ]
  },
  {
   "cell_type": "code",
   "execution_count": null,
   "metadata": {
    "collapsed": false
   },
   "outputs": [],
   "source": [
    "%timeit df2"
   ]
  },
  {
   "cell_type": "code",
   "execution_count": null,
   "metadata": {
    "collapsed": false
   },
   "outputs": [],
   "source": [
    "dx=df2['A'].groupby((df2['E'],df2['F']))\n",
    "dx.mean()"
   ]
  },
  {
   "cell_type": "code",
   "execution_count": null,
   "metadata": {
    "collapsed": false
   },
   "outputs": [],
   "source": [
    "#df2.iloc[:,1]\n",
    "#df2.index=df2.iloc[:,1]\n",
    "#df2.plot(df2.index,df2.A)"
   ]
  },
  {
   "cell_type": "code",
   "execution_count": null,
   "metadata": {
    "collapsed": false
   },
   "outputs": [],
   "source": [
    "#次は欲しい形でデータを見る方法。\n",
    "df.index\n",
    "#df.columns\n",
    "#df.values"
   ]
  },
  {
   "cell_type": "code",
   "execution_count": null,
   "metadata": {
    "collapsed": false
   },
   "outputs": [],
   "source": [
    "#統計料をまとめて表示\n",
    "df.describe()\n",
    "#DataFrameの行列を反転。\n",
    "#df.T"
   ]
  },
  {
   "cell_type": "code",
   "execution_count": null,
   "metadata": {
    "collapsed": false
   },
   "outputs": [],
   "source": [
    "#任意の軸でソートをかける。\n",
    "df.sort(columns='B')"
   ]
  },
  {
   "cell_type": "code",
   "execution_count": null,
   "metadata": {
    "collapsed": false
   },
   "outputs": [],
   "source": [
    "#データを選び出す\n",
    "#df.loc['20130102':'20130104',['A','B']]"
   ]
  },
  {
   "cell_type": "code",
   "execution_count": null,
   "metadata": {
    "collapsed": false
   },
   "outputs": [],
   "source": [
    "x=df.groupby('A')"
   ]
  },
  {
   "cell_type": "code",
   "execution_count": 3,
   "metadata": {
    "collapsed": false
   },
   "outputs": [
    {
     "data": {
      "text/html": [
       "<div>\n",
       "<table border=\"1\" class=\"dataframe\">\n",
       "  <thead>\n",
       "    <tr style=\"text-align: right;\">\n",
       "      <th></th>\n",
       "      <th>A</th>\n",
       "      <th>B</th>\n",
       "      <th>C</th>\n",
       "      <th>D</th>\n",
       "      <th>E</th>\n",
       "    </tr>\n",
       "  </thead>\n",
       "  <tbody>\n",
       "    <tr>\n",
       "      <th>0</th>\n",
       "      <td>one</td>\n",
       "      <td>A</td>\n",
       "      <td>foo</td>\n",
       "      <td>1.255447</td>\n",
       "      <td>0.055158</td>\n",
       "    </tr>\n",
       "    <tr>\n",
       "      <th>1</th>\n",
       "      <td>one</td>\n",
       "      <td>B</td>\n",
       "      <td>foo</td>\n",
       "      <td>1.572471</td>\n",
       "      <td>-0.715407</td>\n",
       "    </tr>\n",
       "    <tr>\n",
       "      <th>2</th>\n",
       "      <td>two</td>\n",
       "      <td>C</td>\n",
       "      <td>foo</td>\n",
       "      <td>0.174462</td>\n",
       "      <td>0.779293</td>\n",
       "    </tr>\n",
       "    <tr>\n",
       "      <th>3</th>\n",
       "      <td>three</td>\n",
       "      <td>A</td>\n",
       "      <td>bar</td>\n",
       "      <td>0.667890</td>\n",
       "      <td>-2.881973</td>\n",
       "    </tr>\n",
       "    <tr>\n",
       "      <th>4</th>\n",
       "      <td>one</td>\n",
       "      <td>B</td>\n",
       "      <td>bar</td>\n",
       "      <td>-1.202953</td>\n",
       "      <td>-0.305780</td>\n",
       "    </tr>\n",
       "    <tr>\n",
       "      <th>5</th>\n",
       "      <td>one</td>\n",
       "      <td>C</td>\n",
       "      <td>bar</td>\n",
       "      <td>-0.642657</td>\n",
       "      <td>-2.571099</td>\n",
       "    </tr>\n",
       "    <tr>\n",
       "      <th>6</th>\n",
       "      <td>two</td>\n",
       "      <td>A</td>\n",
       "      <td>foo</td>\n",
       "      <td>-2.024670</td>\n",
       "      <td>-1.562473</td>\n",
       "    </tr>\n",
       "    <tr>\n",
       "      <th>7</th>\n",
       "      <td>three</td>\n",
       "      <td>B</td>\n",
       "      <td>foo</td>\n",
       "      <td>-1.460282</td>\n",
       "      <td>0.534272</td>\n",
       "    </tr>\n",
       "    <tr>\n",
       "      <th>8</th>\n",
       "      <td>one</td>\n",
       "      <td>C</td>\n",
       "      <td>foo</td>\n",
       "      <td>0.331680</td>\n",
       "      <td>0.741945</td>\n",
       "    </tr>\n",
       "    <tr>\n",
       "      <th>9</th>\n",
       "      <td>one</td>\n",
       "      <td>A</td>\n",
       "      <td>bar</td>\n",
       "      <td>-0.591999</td>\n",
       "      <td>0.843470</td>\n",
       "    </tr>\n",
       "    <tr>\n",
       "      <th>10</th>\n",
       "      <td>two</td>\n",
       "      <td>B</td>\n",
       "      <td>bar</td>\n",
       "      <td>0.284068</td>\n",
       "      <td>-1.510669</td>\n",
       "    </tr>\n",
       "    <tr>\n",
       "      <th>11</th>\n",
       "      <td>three</td>\n",
       "      <td>C</td>\n",
       "      <td>bar</td>\n",
       "      <td>0.505617</td>\n",
       "      <td>-0.409554</td>\n",
       "    </tr>\n",
       "  </tbody>\n",
       "</table>\n",
       "</div>"
      ],
      "text/plain": [
       "        A  B    C         D         E\n",
       "0     one  A  foo  1.255447  0.055158\n",
       "1     one  B  foo  1.572471 -0.715407\n",
       "2     two  C  foo  0.174462  0.779293\n",
       "3   three  A  bar  0.667890 -2.881973\n",
       "4     one  B  bar -1.202953 -0.305780\n",
       "5     one  C  bar -0.642657 -2.571099\n",
       "6     two  A  foo -2.024670 -1.562473\n",
       "7   three  B  foo -1.460282  0.534272\n",
       "8     one  C  foo  0.331680  0.741945\n",
       "9     one  A  bar -0.591999  0.843470\n",
       "10    two  B  bar  0.284068 -1.510669\n",
       "11  three  C  bar  0.505617 -0.409554"
      ]
     },
     "execution_count": 3,
     "metadata": {},
     "output_type": "execute_result"
    }
   ],
   "source": [
    "#Create a DataFrame\n",
    "df = pd.DataFrame({'A' : ['one', 'one', 'two', 'three'] * 3,\n",
    "                   'B' : ['A', 'B', 'C'] * 4,\n",
    "                   'C' : ['foo', 'foo', 'foo', 'bar', 'bar', 'bar'] *2,\n",
    "                   'D' : np.random.randn(12),\n",
    "                   'E' : np.random.randn(12)})\n",
    "df"
   ]
  },
  {
   "cell_type": "code",
   "execution_count": 8,
   "metadata": {
    "collapsed": false
   },
   "outputs": [
    {
     "data": {
      "text/html": [
       "<div>\n",
       "<table border=\"1\" class=\"dataframe\">\n",
       "  <thead>\n",
       "    <tr style=\"text-align: right;\">\n",
       "      <th></th>\n",
       "      <th>A</th>\n",
       "      <th>one</th>\n",
       "      <th>three</th>\n",
       "      <th>two</th>\n",
       "    </tr>\n",
       "    <tr>\n",
       "      <th>C</th>\n",
       "      <th>B</th>\n",
       "      <th></th>\n",
       "      <th></th>\n",
       "      <th></th>\n",
       "    </tr>\n",
       "  </thead>\n",
       "  <tbody>\n",
       "    <tr>\n",
       "      <th rowspan=\"3\" valign=\"top\">bar</th>\n",
       "      <th>A</th>\n",
       "      <td>-0.591999</td>\n",
       "      <td>0.667890</td>\n",
       "      <td>NaN</td>\n",
       "    </tr>\n",
       "    <tr>\n",
       "      <th>B</th>\n",
       "      <td>-1.202953</td>\n",
       "      <td>NaN</td>\n",
       "      <td>0.284068</td>\n",
       "    </tr>\n",
       "    <tr>\n",
       "      <th>C</th>\n",
       "      <td>-0.642657</td>\n",
       "      <td>0.505617</td>\n",
       "      <td>NaN</td>\n",
       "    </tr>\n",
       "    <tr>\n",
       "      <th rowspan=\"3\" valign=\"top\">foo</th>\n",
       "      <th>A</th>\n",
       "      <td>1.255447</td>\n",
       "      <td>NaN</td>\n",
       "      <td>-2.024670</td>\n",
       "    </tr>\n",
       "    <tr>\n",
       "      <th>B</th>\n",
       "      <td>1.572471</td>\n",
       "      <td>-1.460282</td>\n",
       "      <td>NaN</td>\n",
       "    </tr>\n",
       "    <tr>\n",
       "      <th>C</th>\n",
       "      <td>0.331680</td>\n",
       "      <td>NaN</td>\n",
       "      <td>0.174462</td>\n",
       "    </tr>\n",
       "  </tbody>\n",
       "</table>\n",
       "</div>"
      ],
      "text/plain": [
       "A           one     three       two\n",
       "C   B                              \n",
       "bar A -0.591999  0.667890       NaN\n",
       "    B -1.202953       NaN  0.284068\n",
       "    C -0.642657  0.505617       NaN\n",
       "foo A  1.255447       NaN -2.024670\n",
       "    B  1.572471 -1.460282       NaN\n",
       "    C  0.331680       NaN  0.174462"
      ]
     },
     "execution_count": 8,
     "metadata": {},
     "output_type": "execute_result"
    }
   ],
   "source": [
    "#pd.pivot_table(df, values='D', index=['A', 'B'], columns=['C'],aggfunc=pd.np.median)\n",
    "pd.pivot_table(df, values='D', index=['C','B'], columns=['A'],aggfunc=pd.np.median)"
   ]
  },
  {
   "cell_type": "code",
   "execution_count": 9,
   "metadata": {
    "collapsed": false
   },
   "outputs": [],
   "source": [
    "xf = pd.DataFrame({\n",
    "    u'Name': ['yamada', 'suzuki', 'sato', 'kimura','suzuki','suzuki'],\n",
    "    u'Sex': [u'man', u'man', u'woman', u'woman',u'woman','woman'] ,\n",
    "    u'Length': [181, 173, 159, 164, 164,163],\n",
    "    u'Weight': [79, 71, 51, 52 ,52,55]})"
   ]
  },
  {
   "cell_type": "code",
   "execution_count": 10,
   "metadata": {
    "collapsed": false
   },
   "outputs": [
    {
     "data": {
      "text/html": [
       "<div>\n",
       "<table border=\"1\" class=\"dataframe\">\n",
       "  <thead>\n",
       "    <tr style=\"text-align: right;\">\n",
       "      <th></th>\n",
       "      <th>Length</th>\n",
       "      <th>Name</th>\n",
       "      <th>Sex</th>\n",
       "      <th>Weight</th>\n",
       "    </tr>\n",
       "  </thead>\n",
       "  <tbody>\n",
       "    <tr>\n",
       "      <th>0</th>\n",
       "      <td>181</td>\n",
       "      <td>yamada</td>\n",
       "      <td>man</td>\n",
       "      <td>79</td>\n",
       "    </tr>\n",
       "    <tr>\n",
       "      <th>1</th>\n",
       "      <td>173</td>\n",
       "      <td>suzuki</td>\n",
       "      <td>man</td>\n",
       "      <td>71</td>\n",
       "    </tr>\n",
       "    <tr>\n",
       "      <th>2</th>\n",
       "      <td>159</td>\n",
       "      <td>sato</td>\n",
       "      <td>woman</td>\n",
       "      <td>51</td>\n",
       "    </tr>\n",
       "    <tr>\n",
       "      <th>3</th>\n",
       "      <td>164</td>\n",
       "      <td>kimura</td>\n",
       "      <td>woman</td>\n",
       "      <td>52</td>\n",
       "    </tr>\n",
       "    <tr>\n",
       "      <th>4</th>\n",
       "      <td>164</td>\n",
       "      <td>suzuki</td>\n",
       "      <td>woman</td>\n",
       "      <td>52</td>\n",
       "    </tr>\n",
       "    <tr>\n",
       "      <th>5</th>\n",
       "      <td>163</td>\n",
       "      <td>suzuki</td>\n",
       "      <td>woman</td>\n",
       "      <td>55</td>\n",
       "    </tr>\n",
       "  </tbody>\n",
       "</table>\n",
       "</div>"
      ],
      "text/plain": [
       "   Length    Name    Sex  Weight\n",
       "0     181  yamada    man      79\n",
       "1     173  suzuki    man      71\n",
       "2     159    sato  woman      51\n",
       "3     164  kimura  woman      52\n",
       "4     164  suzuki  woman      52\n",
       "5     163  suzuki  woman      55"
      ]
     },
     "execution_count": 10,
     "metadata": {},
     "output_type": "execute_result"
    }
   ],
   "source": [
    "xf"
   ]
  },
  {
   "cell_type": "code",
   "execution_count": 11,
   "metadata": {
    "collapsed": false
   },
   "outputs": [
    {
     "data": {
      "text/html": [
       "<div>\n",
       "<table border=\"1\" class=\"dataframe\">\n",
       "  <thead>\n",
       "    <tr style=\"text-align: right;\">\n",
       "      <th></th>\n",
       "      <th></th>\n",
       "      <th>Length</th>\n",
       "      <th>Weight</th>\n",
       "    </tr>\n",
       "    <tr>\n",
       "      <th>Sex</th>\n",
       "      <th>Name</th>\n",
       "      <th></th>\n",
       "      <th></th>\n",
       "    </tr>\n",
       "  </thead>\n",
       "  <tbody>\n",
       "    <tr>\n",
       "      <th rowspan=\"2\" valign=\"top\">man</th>\n",
       "      <th>suzuki</th>\n",
       "      <td>173.0</td>\n",
       "      <td>71.0</td>\n",
       "    </tr>\n",
       "    <tr>\n",
       "      <th>yamada</th>\n",
       "      <td>181.0</td>\n",
       "      <td>79.0</td>\n",
       "    </tr>\n",
       "    <tr>\n",
       "      <th rowspan=\"3\" valign=\"top\">woman</th>\n",
       "      <th>kimura</th>\n",
       "      <td>164.0</td>\n",
       "      <td>52.0</td>\n",
       "    </tr>\n",
       "    <tr>\n",
       "      <th>sato</th>\n",
       "      <td>159.0</td>\n",
       "      <td>51.0</td>\n",
       "    </tr>\n",
       "    <tr>\n",
       "      <th>suzuki</th>\n",
       "      <td>163.5</td>\n",
       "      <td>53.5</td>\n",
       "    </tr>\n",
       "  </tbody>\n",
       "</table>\n",
       "</div>"
      ],
      "text/plain": [
       "              Length  Weight\n",
       "Sex   Name                  \n",
       "man   suzuki   173.0    71.0\n",
       "      yamada   181.0    79.0\n",
       "woman kimura   164.0    52.0\n",
       "      sato     159.0    51.0\n",
       "      suzuki   163.5    53.5"
      ]
     },
     "execution_count": 11,
     "metadata": {},
     "output_type": "execute_result"
    }
   ],
   "source": [
    "#pd.pivot_table(df, values='D', index=['A', 'B'], columns=['C'],aggfunc=pd.np.median)\n",
    "#df.pivot_table(values=[u'体重', u'身長'], rows=u'性別',aggfunc=pd.np.mean)\n",
    "xx=pd.pivot_table(xf, values=[u'Length', u'Weight'], index=['Sex','Name'],aggfunc=pd.np.mean)\n",
    "xx"
   ]
  },
  {
   "cell_type": "code",
   "execution_count": null,
   "metadata": {
    "collapsed": false
   },
   "outputs": [],
   "source": [
    "xx.plot()"
   ]
  },
  {
   "cell_type": "code",
   "execution_count": null,
   "metadata": {
    "collapsed": true
   },
   "outputs": [],
   "source": []
  }
 ],
 "metadata": {
  "kernelspec": {
   "display_name": "Python 3",
   "language": "python",
   "name": "python3"
  },
  "language_info": {
   "codemirror_mode": {
    "name": "ipython",
    "version": 3
   },
   "file_extension": ".py",
   "mimetype": "text/x-python",
   "name": "python",
   "nbconvert_exporter": "python",
   "pygments_lexer": "ipython3",
   "version": "3.4.4"
  }
 },
 "nbformat": 4,
 "nbformat_minor": 0
}
