{
 "cells": [
  {
   "cell_type": "markdown",
   "metadata": {},
   "source": [
    "# MPIをつかった並列プログラム"
   ]
  },
  {
   "cell_type": "markdown",
   "metadata": {},
   "source": [
    "* MPI(Message Passing Interface)は、 並列処理アプリケーション用メッセージパッシングライブラリです。\n",
    "* メッセージパッシングとは、メッセージと呼ばれる特定の データ形式の受け渡しとこれらの一元的な管理に基づく、通信手段の一つで す。 \n",
    "\n",
    "\n",
    "* MPI では実行されるプロセス全てにプロセスIDが割り当てられます。\n",
    "* プロセスIDは0以上の整数であり、一番最初に実行されるプロセスにはID 0が割り当てられ、\n",
    "* それ以降実行される順に1, 2, 3, ...と割り当てられます。\n",
    "* プロセスIDが0であるプロセスは親プロセスと呼ばれます。\n",
    "* また、プロセスIDが1以上のプロセスを子プロセスと呼びます。 \n",
    "* 通常親プロセスを実行すると、子プロセスはrsh,ssh等によって親プロセスと同じプログラムがリモートホストで実行されます。\n",
    "* なので、上の例のように、自分のプロセスID(上の例ではmyid)を取得し、実行するコードを分ける必要があります。 "
   ]
  },
  {
   "cell_type": "markdown",
   "metadata": {},
   "source": [
    "##  MPI通信関数 - MPI_Send,MPI_Recv\n",
    "\n",
    "* MPI でのメッセージの送受信の代表として MPI_Send、MPI_Recvがあります。\n",
    "* これらは、ブロッキング(同期)send/recvを行う関数で、ブロッキングとは、sendの場合は相手\n",
    "* にメッセージの送信が完了するまで、あるいは通信バッファにメッセージを格納し終わるまで、\n",
    "* このルーチンからは戻ってこないということで、recvの場合は目的のメッセージの受信が完了するまでルーチンから戻ってこないということです。\n",
    "* また、ノンブロッキング(非同期 )send/recv(MPI_Isend/MPI_Irecv)というのもありますが、ここでは省略します。"
   ]
  },
  {
   "cell_type": "markdown",
   "metadata": {},
   "source": [
    "# Hello, World!"
   ]
  },
  {
   "cell_type": "code",
   "execution_count": 3,
   "metadata": {
    "collapsed": false
   },
   "outputs": [
    {
     "data": {
      "text/plain": [
       "[0, 1]"
      ]
     },
     "execution_count": 3,
     "metadata": {},
     "output_type": "execute_result"
    }
   ],
   "source": [
    "import ipyparallel as ipp\n",
    "rc = ipp.Client(profile='mpi')\n",
    "rc.ids"
   ]
  },
  {
   "cell_type": "code",
   "execution_count": 4,
   "metadata": {
    "collapsed": false
   },
   "outputs": [
    {
     "name": "stdout",
     "output_type": "stream",
     "text": [
      "[stdout:0] rank:0 size:1\n",
      "[stdout:1] rank:0 size:1\n"
     ]
    }
   ],
   "source": [
    "%%px\n",
    "from mpi4py import MPI\n",
    "print(\"rank:{} size:{}\".format(MPI.COMM_WORLD.Get_rank(),MPI.COMM_WORLD.Get_size()))"
   ]
  },
  {
   "cell_type": "code",
   "execution_count": 5,
   "metadata": {
    "collapsed": false
   },
   "outputs": [
    {
     "name": "stdout",
     "output_type": "stream",
     "text": [
      "[stdout:0] Hello, World! I am process 0 of 1 on 7da4744449ba(name) \n",
      "[stdout:1] Hello, World! I am process 0 of 1 on 7da4744449ba(name) \n"
     ]
    }
   ],
   "source": [
    "%%px\n",
    "from mpi4py import MPI\n",
    "import sys\n",
    "\n",
    "size = MPI.COMM_WORLD.Get_size()\n",
    "rank = MPI.COMM_WORLD.Get_rank()\n",
    "name = MPI.Get_processor_name()\n",
    "\n",
    "sys.stdout.write( \"Hello, World! I am process {} of {} on {}(name) \".format(rank, size, name))"
   ]
  },
  {
   "cell_type": "code",
   "execution_count": 6,
   "metadata": {
    "collapsed": false
   },
   "outputs": [
    {
     "name": "stdout",
     "output_type": "stream",
     "text": [
      "[stdout:0] Hello world: rank 0 of 1 running on 7da4744449ba\n",
      "[stdout:1] Hello world: rank 0 of 1 running on 7da4744449ba\n"
     ]
    }
   ],
   "source": [
    "%%px\n",
    "\n",
    "from mpi4py import MPI\n",
    "import time\n",
    "\n",
    "comm = MPI.COMM_WORLD\n",
    "rank = comm.rank\n",
    "size = comm.size\n",
    "name = MPI.Get_processor_name()\n",
    "\n",
    "shared = (rank+1)*5\n",
    "\n",
    "if rank == 0:\n",
    "    data = shared\n",
    "    print(\"Hello world: rank {} of {} running on {}\".format (rank, size, name))\n",
    "    for i in range(1, size):\n",
    "        rank, size, name = comm.recv(source=i, tag=1)\n",
    "        print(\"Hello world: rank {} of {} running on {}\".format (rank, size, name))\n",
    "else:\n",
    "    comm.send((rank, size, name), dest=0, tag=1)\n"
   ]
  },
  {
   "cell_type": "markdown",
   "metadata": {},
   "source": [
    "# Installing MPI Module"
   ]
  },
  {
   "cell_type": "code",
   "execution_count": 5,
   "metadata": {
    "collapsed": false
   },
   "outputs": [
    {
     "name": "stdout",
     "output_type": "stream",
     "text": [
      "Requirement already satisfied: mpi4py in /opt/conda/lib/python3.4/site-packages\r\n"
     ]
    }
   ],
   "source": [
    "!pip install mpi4py"
   ]
  },
  {
   "cell_type": "code",
   "execution_count": 1,
   "metadata": {
    "collapsed": false
   },
   "outputs": [
    {
     "name": "stdout",
     "output_type": "stream",
     "text": [
      "Hit http://security.debian.org jessie/updates InRelease\n",
      "Get:1 http://security.debian.org jessie/updates/main amd64 Packages [418 kB]\n",
      "Ign http://httpredir.debian.org jessie InRelease\n",
      "Hit http://httpredir.debian.org jessie-updates InRelease\n",
      "Hit http://httpredir.debian.org jessie Release.gpg\n",
      "Hit http://httpredir.debian.org jessie Release\n",
      "Get:2 http://httpredir.debian.org jessie-updates/main amd64 Packages [17.6 kB]\n",
      "Get:3 http://httpredir.debian.org jessie/main amd64 Packages [9,064 kB]\n",
      "Fetched 9,499 kB in 25s (378 kB/s)\n",
      "Reading package lists... Done\n",
      "Reading package lists... Done\n",
      "Building dependency tree       \n",
      "Reading state information... Done\n",
      "The following extra packages will be installed:\n",
      "  libcr0 libgfortran3 libhwloc-plugins libhwloc5 libibverbs1 libnuma1\n",
      "  libopenmpi1.6 mpi-default-bin ocl-icd-libopencl1 openmpi-bin openmpi-common\n",
      "Suggested packages:\n",
      "  blcr-dkms libhwloc-contrib-plugins opencl-icd gfortran openmpi-checkpoint\n",
      "  python-numpy\n",
      "The following NEW packages will be installed:\n",
      "  libcr0 libgfortran3 libhwloc-plugins libhwloc5 libibverbs1 libnuma1\n",
      "  libopenmpi1.6 mpi-default-bin ocl-icd-libopencl1 openmpi-bin openmpi-common\n",
      "  python-mpi4py\n",
      "0 upgraded, 12 newly installed, 0 to remove and 101 not upgraded.\n",
      "Need to get 2,533 kB of archives.\n",
      "After this operation, 10.3 MB of additional disk space will be used.\n",
      "Get:1 http://httpredir.debian.org/debian/ jessie/main libgfortran3 amd64 4.9.2-10 [255 kB]\n",
      "Get:2 http://httpredir.debian.org/debian/ jessie/main libnuma1 amd64 2.0.10-1 [32.5 kB]\n",
      "Get:3 http://httpredir.debian.org/debian/ jessie/main libhwloc5 amd64 1.10.0-3 [86.9 kB]\n",
      "Get:4 http://httpredir.debian.org/debian/ jessie/main ocl-icd-libopencl1 amd64 2.2.3-1+deb8u1 [33.6 kB]\n",
      "Get:5 http://httpredir.debian.org/debian/ jessie/main libcr0 amd64 0.8.5-2.2 [32.7 kB]\n",
      "Get:6 http://httpredir.debian.org/debian/ jessie/main libhwloc-plugins amd64 1.10.0-3 [15.2 kB]\n",
      "Get:7 http://httpredir.debian.org/debian/ jessie/main libibverbs1 amd64 1.1.8-1.1 [32.2 kB]\n",
      "Get:8 http://httpredir.debian.org/debian/ jessie/main libopenmpi1.6 amd64 1.6.5-9.1 [1,460 kB]\n",
      "Get:9 http://httpredir.debian.org/debian/ jessie/main openmpi-common all 1.6.5-9.1 [110 kB]\n",
      "Get:10 http://httpredir.debian.org/debian/ jessie/main openmpi-bin amd64 1.6.5-9.1 [154 kB]\n",
      "Get:11 http://httpredir.debian.org/debian/ jessie/main mpi-default-bin amd64 1.0.2+nmu2 [3,356 B]\n",
      "Get:12 http://httpredir.debian.org/debian/ jessie/main python-mpi4py amd64 1.3.1+hg20131106-2 [318 kB]\n",
      "Fetched 2,533 kB in 8s (305 kB/s)\n",
      "debconf: delaying package configuration, since apt-utils is not installed\n",
      "Selecting previously unselected package libgfortran3:amd64.\n",
      "(Reading database ... 105470 files and directories currently installed.)\n",
      "Preparing to unpack .../libgfortran3_4.9.2-10_amd64.deb ...\n",
      "Unpacking libgfortran3:amd64 (4.9.2-10) ...\n",
      "Selecting previously unselected package libnuma1:amd64.\n",
      "Preparing to unpack .../libnuma1_2.0.10-1_amd64.deb ...\n",
      "Unpacking libnuma1:amd64 (2.0.10-1) ...\n",
      "Selecting previously unselected package libhwloc5:amd64.\n",
      "Preparing to unpack .../libhwloc5_1.10.0-3_amd64.deb ...\n",
      "Unpacking libhwloc5:amd64 (1.10.0-3) ...\n",
      "Selecting previously unselected package ocl-icd-libopencl1:amd64.\n",
      "Preparing to unpack .../ocl-icd-libopencl1_2.2.3-1+deb8u1_amd64.deb ...\n",
      "Unpacking ocl-icd-libopencl1:amd64 (2.2.3-1+deb8u1) ...\n",
      "Selecting previously unselected package libcr0.\n",
      "Preparing to unpack .../libcr0_0.8.5-2.2_amd64.deb ...\n",
      "Unpacking libcr0 (0.8.5-2.2) ...\n",
      "Selecting previously unselected package libhwloc-plugins.\n",
      "Preparing to unpack .../libhwloc-plugins_1.10.0-3_amd64.deb ...\n",
      "Unpacking libhwloc-plugins (1.10.0-3) ...\n",
      "Selecting previously unselected package libibverbs1.\n",
      "Preparing to unpack .../libibverbs1_1.1.8-1.1_amd64.deb ...\n",
      "Unpacking libibverbs1 (1.1.8-1.1) ...\n",
      "Selecting previously unselected package libopenmpi1.6.\n",
      "Preparing to unpack .../libopenmpi1.6_1.6.5-9.1_amd64.deb ...\n",
      "Unpacking libopenmpi1.6 (1.6.5-9.1) ...\n",
      "Selecting previously unselected package openmpi-common.\n",
      "Preparing to unpack .../openmpi-common_1.6.5-9.1_all.deb ...\n",
      "Unpacking openmpi-common (1.6.5-9.1) ...\n",
      "Selecting previously unselected package openmpi-bin.\n",
      "Preparing to unpack .../openmpi-bin_1.6.5-9.1_amd64.deb ...\n",
      "Unpacking openmpi-bin (1.6.5-9.1) ...\n",
      "Selecting previously unselected package mpi-default-bin.\n",
      "Preparing to unpack .../mpi-default-bin_1.0.2+nmu2_amd64.deb ...\n",
      "Unpacking mpi-default-bin (1.0.2+nmu2) ...\n",
      "Selecting previously unselected package python-mpi4py.\n",
      "Preparing to unpack .../python-mpi4py_1.3.1+hg20131106-2_amd64.deb ...\n",
      "Unpacking python-mpi4py (1.3.1+hg20131106-2) ...\n",
      "Setting up libgfortran3:amd64 (4.9.2-10) ...\n",
      "Setting up libnuma1:amd64 (2.0.10-1) ...\n",
      "Setting up libhwloc5:amd64 (1.10.0-3) ...\n",
      "Setting up ocl-icd-libopencl1:amd64 (2.2.3-1+deb8u1) ...\n",
      "Setting up libcr0 (0.8.5-2.2) ...\n",
      "Setting up libhwloc-plugins (1.10.0-3) ...\n",
      "Setting up libibverbs1 (1.1.8-1.1) ...\n",
      "Setting up libopenmpi1.6 (1.6.5-9.1) ...\n",
      "Setting up openmpi-common (1.6.5-9.1) ...\n",
      "Setting up openmpi-bin (1.6.5-9.1) ...\n",
      "update-alternatives: using /usr/bin/mpirun.openmpi to provide /usr/bin/mpirun (mpirun) in auto mode\n",
      "Setting up mpi-default-bin (1.0.2+nmu2) ...\n",
      "Setting up python-mpi4py (1.3.1+hg20131106-2) ...\n",
      "Processing triggers for libc-bin (2.19-18+deb8u1) ...\n"
     ]
    }
   ],
   "source": [
    "!sudo apt-get update -y\n",
    "!sudo apt-get install python-mpi4py -y"
   ]
  },
  {
   "cell_type": "code",
   "execution_count": null,
   "metadata": {
    "collapsed": true
   },
   "outputs": [],
   "source": []
  }
 ],
 "metadata": {
  "kernelspec": {
   "display_name": "Python 3",
   "language": "python",
   "name": "python3"
  },
  "language_info": {
   "codemirror_mode": {
    "name": "ipython",
    "version": 3
   },
   "file_extension": ".py",
   "mimetype": "text/x-python",
   "name": "python",
   "nbconvert_exporter": "python",
   "pygments_lexer": "ipython3",
   "version": "3.4.5"
  }
 },
 "nbformat": 4,
 "nbformat_minor": 0
}
