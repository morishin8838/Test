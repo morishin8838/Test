{
 "cells": [
  {
   "cell_type": "markdown",
   "metadata": {},
   "source": [
    "[http://docs.continuum.io/anaconda/pkg-docs]"
   ]
  },
  {
   "cell_type": "markdown",
   "metadata": {},
   "source": [
    "# Upgrade方法"
   ]
  },
  {
   "cell_type": "markdown",
   "metadata": {},
   "source": [
    "1. docker runで起動\n",
    "2. !pip installを用いて、upgradeを行う\n",
    "3. docker commitで登録\n",
    "\n",
    "*comminすることを忘れないこと*"
   ]
  },
  {
   "cell_type": "code",
   "execution_count": 1,
   "metadata": {
    "collapsed": false
   },
   "outputs": [
    {
     "name": "stdout",
     "output_type": "stream",
     "text": [
      "pip 8.0.2 from /opt/conda/lib/python3.4/site-packages (python 3.4)\n"
     ]
    }
   ],
   "source": [
    "!pip --version"
   ]
  },
  {
   "cell_type": "markdown",
   "metadata": {},
   "source": [
    "# conda で python 環境を管理する"
   ]
  },
  {
   "cell_type": "markdown",
   "metadata": {},
   "source": [
    "https://gist.github.com/aphlysia/d5fcee79ff81b8272faf"
   ]
  },
  {
   "cell_type": "markdown",
   "metadata": {},
   "source": [
    "# 環境に入っている packages を表示"
   ]
  },
  {
   "cell_type": "code",
   "execution_count": 2,
   "metadata": {
    "collapsed": false
   },
   "outputs": [
    {
     "name": "stdout",
     "output_type": "stream",
     "text": [
      "Installed diagmagic.py. To use it, type:\n",
      "  %load_ext diagmagic\n"
     ]
    },
    {
     "name": "stderr",
     "output_type": "stream",
     "text": [
      "/opt/conda/lib/python3.4/site-packages/IPython/core/magics/extension.py:47: UserWarning: %install_ext` is deprecated, please distribute your extension(s)as a python packages.\n",
      "  \"as a python packages.\", UserWarning)\n"
     ]
    }
   ],
   "source": [
    "%install_ext https://bitbucket.org/vladf/ipython-diags/raw/default/diagmagic.py"
   ]
  },
  {
   "cell_type": "code",
   "execution_count": 2,
   "metadata": {
    "collapsed": false
   },
   "outputs": [
    {
     "name": "stdout",
     "output_type": "stream",
     "text": [
      "Fetching package metadata: ......\n",
      "Solving package specifications: .........\n",
      "Error: Unsatisfiable package specifications.\n",
      "Generating hint: \n",
      "[      COMPLETE      ]|###################################################| 100%\n",
      "\n",
      "\n",
      "Hint: the following packages conflict with each other:\n",
      "  - blockdiag\n",
      "  - python 3.4*\n",
      "\n",
      "Use 'conda info blockdiag' etc. to see the dependencies for each package.\n"
     ]
    }
   ],
   "source": [
    "!conda install -c https://conda.anaconda.org/auto blockdiag"
   ]
  },
  {
   "cell_type": "code",
   "execution_count": 7,
   "metadata": {
    "collapsed": false
   },
   "outputs": [
    {
     "name": "stdout",
     "output_type": "stream",
     "text": [
      "# packages in environment at /opt/conda:\n",
      "#\n",
      "backports-abc             0.4                       <pip>\n",
      "backports_abc             0.4                      py34_0    defaults\n",
      "conda                     3.19.1                   py34_0    defaults\n",
      "conda-env                 2.4.5                    py34_0    http://repo.continuum.io/pkgs/free/linux-64/conda-env-2.4.5-py34_0.tar.bz2\n",
      "cycler                    0.9.0                    py34_0    defaults\n",
      "decorator                 4.0.6                    py34_0    defaults\n",
      "fontconfig                2.11.1                        5    defaults\n",
      "freetype                  2.5.5                         0    defaults\n",
      "ipykernel                 4.2.2                    py34_0    defaults\n",
      "ipython                   4.0.3                    py34_0    defaults\n",
      "ipython-genutils          0.1.0                     <pip>\n",
      "ipython_genutils          0.1.0                    py34_0    defaults\n",
      "jinja2                    2.8                      py34_0    defaults\n",
      "jsonschema                2.4.0                    py34_0    defaults\n",
      "jupyter-client            4.1.1                     <pip>\n",
      "jupyter-core              4.0.6                     <pip>\n",
      "jupyter_client            4.1.1                    py34_0    defaults\n",
      "jupyter_core              4.0.6                    py34_0    defaults\n",
      "libgfortran               1.0                           0    defaults\n",
      "libpng                    1.6.17                        0    defaults\n",
      "libsodium                 1.0.3                         0    defaults\n",
      "libxml2                   2.9.2                         0    defaults\n",
      "markupsafe                0.23                     py34_0    defaults\n",
      "matplotlib                1.5.1               np110py34_0    defaults\n",
      "mistune                   0.7.1                    py34_0    defaults\n",
      "mkl                       11.3.1                        0    defaults\n",
      "nbconvert                 4.1.0                    py34_0    defaults\n",
      "nbformat                  4.0.1                    py34_0    defaults\n",
      "notebook                  4.1.0                    py34_0    defaults\n",
      "numpy                     1.10.4                   py34_0    defaults\n",
      "openssl                   1.0.2f                        0    defaults\n",
      "pandas                    0.17.1              np110py34_0    defaults\n",
      "path.py                   8.1.2                    py34_1    defaults\n",
      "pexpect                   3.3                      py34_0    defaults\n",
      "pickleshare               0.5                      py34_0    defaults\n",
      "pip                       8.0.2                    py34_0    defaults\n",
      "ptyprocess                0.5                      py34_0    defaults\n",
      "pycosat                   0.6.1                    py34_0    <unknown>\n",
      "pygments                  2.0.2                    py34_0    defaults\n",
      "pyparsing                 2.0.3                    py34_0    defaults\n",
      "pyqt                      4.11.4                   py34_1    defaults\n",
      "python                    3.4.4                         0    defaults\n",
      "python-dateutil           2.4.2                    py34_0    defaults\n",
      "pytz                      2015.7                   py34_0    defaults\n",
      "pyyaml                    3.11                     py34_1    http://repo.continuum.io/pkgs/free/linux-64/pyyaml-3.11-py34_1.tar.bz2\n",
      "pyzmq                     15.2.0                   py34_0    defaults\n",
      "qt                        4.8.7                         1    defaults\n",
      "readline                  6.2                           2    <unknown>\n",
      "requests                  2.9.1                    py34_0    defaults\n",
      "scikit-learn              0.17                np110py34_2    defaults\n",
      "scipy                     0.17.0              np110py34_1    defaults\n",
      "setuptools                19.6.2                   py34_0    defaults\n",
      "simplegeneric             0.8.1                    py34_0    defaults\n",
      "sip                       4.16.9                   py34_0    defaults\n",
      "six                       1.10.0                   py34_0    defaults\n",
      "sqlite                    3.9.2                         0    defaults\n",
      "system                    5.8                           1    <unknown>\n",
      "terminado                 0.5                      py34_1    defaults\n",
      "tk                        8.5.18                        0    http://repo.continuum.io/pkgs/free/linux-64/tk-8.5.18-0.tar.bz2\n",
      "tornado                   4.3                      py34_0    defaults\n",
      "traitlets                 4.1.0                    py34_0    defaults\n",
      "wheel                     0.26.0                   py34_1    http://repo.continuum.io/pkgs/free/linux-64/wheel-0.26.0-py34_1.tar.bz2\n",
      "xz                        5.0.5                         0    <unknown>\n",
      "yaml                      0.1.6                         0    http://repo.continuum.io/pkgs/free/linux-64/yaml-0.1.6-0.tar.bz2\n",
      "zeromq                    4.1.3                         0    defaults\n",
      "zlib                      1.2.8                         0    <unknown>\n"
     ]
    }
   ],
   "source": [
    "!/opt/conda/bin/conda list "
   ]
  },
  {
   "cell_type": "markdown",
   "metadata": {},
   "source": [
    "# ライブラリ Version "
   ]
  },
  {
   "cell_type": "code",
   "execution_count": 3,
   "metadata": {
    "collapsed": false
   },
   "outputs": [
    {
     "name": "stdout",
     "output_type": "stream",
     "text": [
      "Fetching package metadata: ....\n",
      "Solving package specifications: ..................\n",
      "Package plan for installation in environment /opt/conda:\n",
      "\n",
      "The following packages will be downloaded:\n",
      "\n",
      "    package                    |            build\n",
      "    ---------------------------|-----------------\n",
      "    openssl-1.0.2g             |                0         3.2 MB\n",
      "    xz-5.0.5                   |                1         572 KB\n",
      "    setuptools-20.7.0          |           py34_0         459 KB\n",
      "    conda-4.0.5                |           py34_0         189 KB\n",
      "    pip-8.1.1                  |           py34_1         1.6 MB\n",
      "    ------------------------------------------------------------\n",
      "                                           Total:         5.9 MB\n",
      "\n",
      "The following packages will be UPDATED:\n",
      "\n",
      "    conda:      3.19.1-py34_0 --> 4.0.5-py34_0 \n",
      "    openssl:    1.0.2f-0      --> 1.0.2g-0     \n",
      "    pip:        8.0.2-py34_0  --> 8.1.1-py34_1 \n",
      "    setuptools: 19.6.2-py34_0 --> 20.7.0-py34_0\n",
      "    xz:         5.0.5-0       --> 5.0.5-1      \n",
      "\n",
      "Fetching packages ...\n",
      "openssl-1.0.2g 100% |################################| Time: 0:00:13 241.23 kB/s\n",
      "xz-5.0.5-1.tar 100% |################################| Time: 0:00:03 155.28 kB/s\n",
      "setuptools-20. 100% |################################| Time: 0:00:03 137.33 kB/s\n",
      "conda-4.0.5-py 100% |################################| Time: 0:00:01 112.98 kB/s\n",
      "pip-8.1.1-py34 100% |################################| Time: 0:00:07 226.25 kB/s\n",
      "Extracting packages ...\n",
      "[      COMPLETE      ]|###################################################| 100%\n",
      "Unlinking packages ...\n",
      "[      COMPLETE      ]|###################################################| 100%\n",
      "Linking packages ...\n",
      "[      COMPLETE      ]|###################################################| 100%\n"
     ]
    }
   ],
   "source": [
    "!/opt/conda/bin/conda update conda -y"
   ]
  },
  {
   "cell_type": "code",
   "execution_count": 1,
   "metadata": {
    "collapsed": false
   },
   "outputs": [
    {
     "name": "stdout",
     "output_type": "stream",
     "text": [
      "Fetching package metadata: ....\n",
      "Solving package specifications: ....................\n",
      "Package plan for installation in environment /opt/conda:\n",
      "\n",
      "The following packages will be downloaded:\n",
      "\n",
      "    package                    |            build\n",
      "    ---------------------------|-----------------\n",
      "    mkl-11.3.1                 |                0       121.2 MB\n",
      "    openssl-1.0.2f             |                0         3.2 MB\n",
      "    numpy-1.10.4               |           py34_0         5.9 MB\n",
      "    setuptools-19.6.2          |           py34_0         369 KB\n",
      "    conda-3.19.1               |           py34_0         180 KB\n",
      "    pip-8.0.2                  |           py34_0         1.6 MB\n",
      "    ------------------------------------------------------------\n",
      "                                           Total:       132.3 MB\n",
      "\n",
      "The following NEW packages will be INSTALLED:\n",
      "\n",
      "    mkl:        11.3.1-0     \n",
      "    numpy:      1.10.4-py34_0\n",
      "\n",
      "The following packages will be UPDATED:\n",
      "\n",
      "    conda:      3.19.0-py34_0 --> 3.19.1-py34_0\n",
      "    openssl:    1.0.2e-0      --> 1.0.2f-0     \n",
      "    pip:        7.1.2-py34_0  --> 8.0.2-py34_0 \n",
      "    setuptools: 19.2-py34_0   --> 19.6.2-py34_0\n",
      "\n",
      "Fetching packages ...\n",
      "mkl-11.3.1-0.t 100% |################################| Time: 0:03:37 585.25 kB/s\n",
      "openssl-1.0.2f 100% |################################| Time: 0:00:08 385.76 kB/s\n",
      "numpy-1.10.4-p 100% |################################| Time: 0:00:10 580.82 kB/s\n",
      "setuptools-19. 100% |################################| Time: 0:00:02 185.01 kB/s\n",
      "conda-3.19.1-p 100% |################################| Time: 0:00:01 110.29 kB/s\n",
      "pip-8.0.2-py34 100% |################################| Time: 0:00:05 310.71 kB/s\n",
      "Extracting packages ...\n",
      "[      COMPLETE      ]|###################################################| 100%\n",
      "Unlinking packages ...\n",
      "[      COMPLETE      ]|###################################################| 100%\n",
      "Linking packages ...\n",
      "[      COMPLETE      ]|###################################################| 100%\n"
     ]
    }
   ],
   "source": [
    "!/opt/conda/bin/conda install -y numpy "
   ]
  },
  {
   "cell_type": "code",
   "execution_count": 2,
   "metadata": {
    "collapsed": false
   },
   "outputs": [
    {
     "name": "stdout",
     "output_type": "stream",
     "text": [
      "Fetching package metadata: ....\n",
      "Solving package specifications: ...................\n",
      "Package plan for installation in environment /opt/conda:\n",
      "\n",
      "The following packages will be downloaded:\n",
      "\n",
      "    package                    |            build\n",
      "    ---------------------------|-----------------\n",
      "    libgfortran-1.0            |                0         170 KB\n",
      "    scipy-0.17.0               |      np110py34_1        29.3 MB\n",
      "    ------------------------------------------------------------\n",
      "                                           Total:        29.5 MB\n",
      "\n",
      "The following NEW packages will be INSTALLED:\n",
      "\n",
      "    libgfortran: 1.0-0             \n",
      "    scipy:       0.17.0-np110py34_1\n",
      "\n",
      "Fetching packages ...\n",
      "\n",
      "scipy-0.17.0-n 100% |################################| Time: 0:00:55 554.11 kB/s\n",
      "Extracting packages ...\n",
      "[      COMPLETE      ]|###################################################| 100%\n",
      "Linking packages ...\n",
      "[      COMPLETE      ]|###################################################| 100%\n"
     ]
    }
   ],
   "source": [
    "!/opt/conda/bin/conda install -y scipy "
   ]
  },
  {
   "cell_type": "code",
   "execution_count": 4,
   "metadata": {
    "collapsed": false
   },
   "outputs": [
    {
     "name": "stdout",
     "output_type": "stream",
     "text": [
      "Fetching package metadata: ....\n",
      "Solving package specifications: .........\n",
      "\n",
      "# All requested packages already installed.\n",
      "# packages in environment at /opt/conda:\n",
      "#\n",
      "matplotlib                1.5.1               np110py34_0  \n"
     ]
    }
   ],
   "source": [
    "!/opt/conda/bin/conda install -y matplotlib"
   ]
  },
  {
   "cell_type": "code",
   "execution_count": 1,
   "metadata": {
    "collapsed": false
   },
   "outputs": [
    {
     "name": "stdout",
     "output_type": "stream",
     "text": [
      "Fetching package metadata: ....\n",
      "Solving package specifications: .........................\n",
      "Package plan for installation in environment /opt/conda:\n",
      "\n",
      "The following packages will be downloaded:\n",
      "\n",
      "    package                    |            build\n",
      "    ---------------------------|-----------------\n",
      "    pandas-0.17.1              |      np110py34_0        13.3 MB\n",
      "\n",
      "The following NEW packages will be INSTALLED:\n",
      "\n",
      "    pandas: 0.17.1-np110py34_0\n",
      "\n",
      "Fetching packages ...\n",
      "pandas-0.17.1- 100% |################################| Time: 0:00:25 549.74 kB/s\n",
      "Extracting packages ...\n",
      "[      COMPLETE      ]|###################################################| 100%\n",
      "Linking packages ...\n",
      "[      COMPLETE      ]|###################################################| 100%\n"
     ]
    }
   ],
   "source": [
    "!/opt/conda/bin/conda install -y pandas"
   ]
  },
  {
   "cell_type": "code",
   "execution_count": 1,
   "metadata": {
    "collapsed": false
   },
   "outputs": [
    {
     "name": "stdout",
     "output_type": "stream",
     "text": [
      "Fetching package metadata: ......\n",
      "Solving package specifications: .........\n",
      "\n",
      "Package plan for installation in environment /opt/conda:\n",
      "\n",
      "The following packages will be downloaded:\n",
      "\n",
      "    package                    |            build\n",
      "    ---------------------------|-----------------\n",
      "    beautiful-soup-4.3.2       |           py34_0         114 KB\n",
      "\n",
      "The following NEW packages will be INSTALLED:\n",
      "\n",
      "    beautiful-soup: 4.3.2-py34_0\n",
      "\n",
      "Fetching packages ...\n",
      "beautiful-soup 100% |################################| Time: 0:00:04  23.52 kB/s\n",
      "Extracting packages ...\n",
      "[      COMPLETE      ]|###################################################| 100%\n",
      "Linking packages ...\n",
      "[      COMPLETE      ]|###################################################| 100%\n"
     ]
    }
   ],
   "source": [
    "#!/opt/conda/bin/conda install -y Beautiful Soup\n",
    "!/opt/conda/bin/conda install -c https://conda.anaconda.org/asmeurer -y beautiful-soup"
   ]
  },
  {
   "cell_type": "code",
   "execution_count": 3,
   "metadata": {
    "collapsed": false
   },
   "outputs": [
    {
     "name": "stdout",
     "output_type": "stream",
     "text": [
      "Fetching package metadata: ....\n",
      "Solving package specifications: ..................\n",
      "Package plan for installation in environment /opt/conda:\n",
      "\n",
      "The following packages will be downloaded:\n",
      "\n",
      "    package                    |            build\n",
      "    ---------------------------|-----------------\n",
      "    scikit-learn-0.17          |      np110py34_2         8.8 MB\n",
      "\n",
      "The following NEW packages will be INSTALLED:\n",
      "\n",
      "    scikit-learn: 0.17-np110py34_2\n",
      "\n",
      "Fetching packages ...\n",
      "scikit-learn-0 100% |################################| Time: 0:00:20 443.69 kB/s\n",
      "Extracting packages ...\n",
      "[      COMPLETE      ]|###################################################| 100%\n",
      "Linking packages ...\n",
      "[      COMPLETE      ]|###################################################| 100%\n"
     ]
    }
   ],
   "source": [
    "!/opt/conda/bin/conda install -y scikit-learn"
   ]
  },
  {
   "cell_type": "code",
   "execution_count": 9,
   "metadata": {
    "collapsed": false
   },
   "outputs": [
    {
     "name": "stdout",
     "output_type": "stream",
     "text": [
      "/bin/sh: 1: /opt/conda/binconda: not found\r\n"
     ]
    }
   ],
   "source": [
    "#!/opt/conda/bin/conda install -y lxml"
   ]
  },
  {
   "cell_type": "code",
   "execution_count": 6,
   "metadata": {
    "collapsed": false
   },
   "outputs": [],
   "source": [
    "from sklearn import svm\n",
    "#!/opt/conda/bin/conda install -y scikit-learn"
   ]
  },
  {
   "cell_type": "markdown",
   "metadata": {
    "collapsed": false
   },
   "source": [
    "# 今度↓こちらを行う"
   ]
  },
  {
   "cell_type": "code",
   "execution_count": null,
   "metadata": {
    "collapsed": true
   },
   "outputs": [],
   "source": [
    "!pip install blockdiag"
   ]
  },
  {
   "cell_type": "code",
   "execution_count": 7,
   "metadata": {
    "collapsed": false
   },
   "outputs": [
    {
     "ename": "SyntaxError",
     "evalue": "invalid syntax (<ipython-input-7-e5555d6c8fe4>, line 1)",
     "output_type": "error",
     "traceback": [
      "\u001b[1;36m  File \u001b[1;32m\"<ipython-input-7-e5555d6c8fe4>\"\u001b[1;36m, line \u001b[1;32m1\u001b[0m\n\u001b[1;33m    blockdiag {\u001b[0m\n\u001b[1;37m              ^\u001b[0m\n\u001b[1;31mSyntaxError\u001b[0m\u001b[1;31m:\u001b[0m invalid syntax\n"
     ]
    }
   ],
   "source": [
    "blockdiag {\n",
    "   A -> B -> C -> D;\n",
    "   A -> E -> F -> G;\n",
    "}"
   ]
  },
  {
   "cell_type": "markdown",
   "metadata": {
    "collapsed": false
   },
   "source": [
    "# pandocインストール"
   ]
  },
  {
   "cell_type": "code",
   "execution_count": null,
   "metadata": {
    "collapsed": true
   },
   "outputs": [],
   "source": [
    "pip install  pandoc"
   ]
  },
  {
   "cell_type": "markdown",
   "metadata": {},
   "source": [
    "# nbviewer"
   ]
  },
  {
   "cell_type": "code",
   "execution_count": null,
   "metadata": {
    "collapsed": true
   },
   "outputs": [],
   "source": [
    "docker pull jupyter/nbviewer\n",
    "docker run -p 8080:8080 jupyter/nbviewer"
   ]
  },
  {
   "cell_type": "code",
   "execution_count": 1,
   "metadata": {
    "collapsed": false
   },
   "outputs": [
    {
     "name": "stdout",
     "output_type": "stream",
     "text": [
      "Collecting sympy\n",
      "  Downloading sympy-0.7.6.1.tar.gz (6.4MB)\n",
      "\u001b[K    100% |████████████████████████████████| 6.4MB 54kB/s \n",
      "\u001b[?25hBuilding wheels for collected packages: sympy\n",
      "  Running setup.py bdist_wheel for sympy ... \u001b[?25l-\b \b\\\b \b|\b \b/\b \b-\b \b\\\b \b|\b \b/\b \b-\b \b\\\b \b|\b \b/\b \b-\b \bdone\n",
      "\u001b[?25h  Stored in directory: /home/jovyan/.cache/pip/wheels/82/37/7b/b947658ec742c634d3c4793ce476a46304173861dff7986e2b\n",
      "Successfully built sympy\n",
      "Installing collected packages: sympy\n",
      "Successfully installed sympy-0.7.6.1\n"
     ]
    }
   ],
   "source": [
    "!pip install sympy"
   ]
  },
  {
   "cell_type": "code",
   "execution_count": null,
   "metadata": {
    "collapsed": true
   },
   "outputs": [],
   "source": []
  }
 ],
 "metadata": {
  "kernelspec": {
   "display_name": "Python 3",
   "language": "python",
   "name": "python3"
  },
  "language_info": {
   "codemirror_mode": {
    "name": "ipython",
    "version": 3
   },
   "file_extension": ".py",
   "mimetype": "text/x-python",
   "name": "python",
   "nbconvert_exporter": "python",
   "pygments_lexer": "ipython3",
   "version": "3.4.4"
  }
 },
 "nbformat": 4,
 "nbformat_minor": 0
}
