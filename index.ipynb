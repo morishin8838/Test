{
 "metadata": {
  "name": "",
  "signature": "sha256:1f3260c76f748518d7e809b9110555205549c2a40a7b895c733ba58a37dcd206"
 },
 "nbformat": 3,
 "nbformat_minor": 0,
 "worksheets": [
  {
   "cells": [
    {
     "cell_type": "markdown",
     "metadata": {},
     "source": [
      "# IPYTHON NOTEBOOK "
     ]
    },
    {
     "cell_type": "heading",
     "level": 1,
     "metadata": {},
     "source": [
      "\u4e00\u4eba\u307d\u3063\u3061\u306e\u30a8\u30f3\u30b8\u30cb\u30a2\u306e\u65b9\u3078"
     ]
    },
    {
     "cell_type": "markdown",
     "metadata": {},
     "source": [
      "python notebook\u3067\u89e3\u6790\u3059\u308b\u305f\u3081\u306e\u53c2\u8003\u8cc7\u6599\u3092\u8a18\u8f09\u3059\u308b\uff08\u4e00\u4eba\u3067python\u3001Ipython Notebook\u3092\u5229\u7528\u3057\u3066\u3044\u4ef2\u9593\u3092\u5fdc\u63f4\u3057\u307e\u3059\u3088\u3049\uff09  \n",
      "[\u304a\u524d\u3060\u308c\u3088\uff1f][MORISHIN]\n",
      "[MORISHIN]:http://morishin8838.bitbucket.org/"
     ]
    },
    {
     "cell_type": "heading",
     "level": 2,
     "metadata": {},
     "source": [
      "Topic "
     ]
    },
    {
     "cell_type": "markdown",
     "metadata": {},
     "source": [
      "* [SphinxJP2014\u306e\u30bb\u30df\u30ca\u30fc\u306b\u884c\u3063\u3066\u304d\u307e\u3057\u305f](http://nbviewer.ipython.org/github/morishin8838/nbviewer/blob/master/SphinxJP2014.ipynb)"
     ]
    },
    {
     "cell_type": "heading",
     "level": 2,
     "metadata": {},
     "source": [
      "\u77e5\u8b58\u7de8 (now-how)"
     ]
    },
    {
     "cell_type": "markdown",
     "metadata": {},
     "source": [
      "* [NoteBook\u3092\u516c\u958b\u3059\u308b\u65b9\u6cd5](http://nbviewer.ipython.org/github/morishin8838/nbviewer/blob/master/Begginner.ipynb)\n",
      "* [Pyramid\u306e\u7814\u7a76](http://nbviewer.ipython.org/github/morishin8838/nbviewer/blob/master/PyramidPractice.ipynb)"
     ]
    },
    {
     "cell_type": "heading",
     "level": 1,
     "metadata": {},
     "source": [
      "\u6210\u679c\u7269"
     ]
    },
    {
     "cell_type": "heading",
     "level": 2,
     "metadata": {},
     "source": [
      "\u89e3\u6790\u7de8"
     ]
    },
    {
     "cell_type": "markdown",
     "metadata": {},
     "source": [
      "* \u5de5\u4e8b\u4e2d"
     ]
    },
    {
     "cell_type": "heading",
     "level": 2,
     "metadata": {},
     "source": [
      "\u5236\u5fa1\u7de8"
     ]
    },
    {
     "cell_type": "markdown",
     "metadata": {},
     "source": [
      "* [\u30b7\u30e5\u30df\u30ec\u30fc\u30b7\u30e7\u30f3 \u30aa\u30fc\u30d0\u30fc\u30b7\u30e5\u30fc\u30c8\u72b6\u614b\u3092\u8868\u73fe](http://nbviewer.ipython.org/github/morishin8838/nbviewer/blob/master/OverShoot_Simulation_20141026.ipynb)"
     ]
    }
   ],
   "metadata": {}
  }
 ]
}