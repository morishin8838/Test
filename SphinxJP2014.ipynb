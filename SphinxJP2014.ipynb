{
 "metadata": {
  "name": "",
  "signature": "sha256:4162323a5d2f5e4b207954f5796fd32ad451044f9a92e18b0a3186b911f114f3"
 },
 "nbformat": 3,
 "nbformat_minor": 0,
 "worksheets": [
  {
   "cells": [
    {
     "cell_type": "heading",
     "level": 1,
     "metadata": {},
     "source": [
      "Sphinx-JP 2014"
     ]
    },
    {
     "cell_type": "markdown",
     "metadata": {},
     "source": [
      "\u306f\u3058\u3081\u3066\u53c2\u52a0\u3057\u307e\u3057\u305f\u3002latex\u51fa\u529b\u7b49\u3001\u79c1\u3082\u82e6\u52b4\u3057\u305f\u3053\u3068\u3002\u307f\uff5e\u3093\u306a\u82e6\u52b4\u3057\u3066\u3044\u308b\u3088\u3046\u3067\u3057\u305f\u3002\u3002\u3002"
     ]
    },
    {
     "cell_type": "markdown",
     "metadata": {},
     "source": [
      "[\u3053\u3053\u306b\u8cc7\u6599\u304c\u3042\u308a\u307e\u3059\u3088](http://sphinxjp.connpass.com/event/8448/)"
     ]
    },
    {
     "cell_type": "heading",
     "level": 2,
     "metadata": {},
     "source": [
      "\u30e1\u30e2"
     ]
    },
    {
     "cell_type": "markdown",
     "metadata": {},
     "source": [
      "1. 1.3b1\u304c\u30ea\u30ea\u30fc\u30b9\n",
      "    - easy_install -U sphinx\u3067\u30a2\u30c3\u30d7\u30c7\u30fc\u30c8\u3067\u304d\u307e\u3059\n",
      "1. shinx-build -j\n",
      "    - \u4e26\u5217\u8aad\u307f\u8fbc\u307f\u3057\u3066\u9ad8\u901f\u5316\n",
      "1. pip color amr \n",
      "    - \u30ab\u30e9\u30fc\u3067\u51fa\u529b\u3059\u308b\n",
      "1. \u30ca\u30dd\u30ec\u30aa\u30f3\u62e1\u5f35\n",
      "    - autodoc\n",
      "1. \u63a1\u756a\u306e\u4ed5\u7d44\u307f\u5c0e\u5165 \n",
      "    - numfig = \n",
      "1. diff\u30e2\u30fc\u30c9\u3082\u3042\u308b\u3088\u3046\u3067\u3059\n",
      "1. \u56f3\u63cf\u753b\u5bfe\u5fdc\n",
      "    - mcsgen\u3092\u8a66\u3057\u3066\u307f\u305f\u3044\n",
      "1. \u30c6\u30fc\u30de\u5909\u66f4\u306e\u8a73\u7d30\u624b\u9806\u306e\u8aac\u660e\u304c\u3042\u308b\u3088\n",
      "    "
     ]
    }
   ],
   "metadata": {}
  }
 ]
}