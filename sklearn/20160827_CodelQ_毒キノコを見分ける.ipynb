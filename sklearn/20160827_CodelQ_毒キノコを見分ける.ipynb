{
 "cells": [
  {
   "cell_type": "markdown",
   "metadata": {},
   "source": [
    "# この島のキノコは見たところ3種類あるようだ。\n",
    "# そのうち2種類は毒キノコらしい。\n",
    "# 3種類とも金色なので色では区別がつかない。」\n",
    "# 食べても大丈夫なキノコを教えてほしい」"
   ]
  },
  {
   "cell_type": "markdown",
   "metadata": {},
   "source": [
    "# データ読み込み"
   ]
  },
  {
   "cell_type": "code",
   "execution_count": 18,
   "metadata": {
    "collapsed": false
   },
   "outputs": [],
   "source": [
    "#○ と × だと扱いづらいので 1 と 0 にあらかじめ変換しておきます。\n",
    "import numpy as np\n",
    "from sklearn.cluster import KMeans\n",
    "import matplotlib.pyplot as plt\n",
    "\n",
    "# 採ってきたキノコ\n",
    "# キノコの傘の大きさと柄の長さが記されたデータ\n",
    "data = np.genfromtxt('CodeIQ_data.txt', delimiter=' ')\n",
    "\n",
    "# 隊員が食べたキノコ\n",
    "# 0 毒キノコ\n",
    "eaten = np.genfromtxt('CodeIQ_eaten.txt', delimiter=' ')\n",
    "#print(eaten)"
   ]
  },
  {
   "cell_type": "markdown",
   "metadata": {},
   "source": [
    "# データ可視化"
   ]
  },
  {
   "cell_type": "code",
   "execution_count": 19,
   "metadata": {
    "collapsed": false
   },
   "outputs": [
    {
     "data": {
      "image/png": "[encoded data removed]",
      "text/plain": [
       "<matplotlib.figure.Figure at 0x7f1137d06eb8>"
      ]
     },
     "metadata": {},
     "output_type": "display_data"
    }
   ],
   "source": [
    "%matplotlib inline \n",
    "# 散布図にプロットのための関数\n",
    "# キャンバスを描く\n",
    "fig = plt.figure()\n",
    "ax = fig.add_subplot(1,1,1)\n",
    "\n",
    "# 採ってきたキノコを青で描画する\n",
    "x1, y1 = np.array([[x[0], x[1]] for x in data]).T\n",
    "ax.scatter(x1, y1, color='b')\n",
    "\n",
    "# 食べても大丈夫なキノコを赤で描画する\n",
    "x2, y2= np.array([[x[0], x[1]] for x in eaten if x[2] == 1]).T\n",
    "ax.scatter(x2, y2, color='r')\n",
    "\n",
    "# 食べてはいけないキノコを緑で描画する\n",
    "x3, y3 = np.array([[x[0], x[1]] for x in eaten if x[2] == 0]).T\n",
    "ax.scatter(x3, y3, color='g')\n",
    "plt.show()"
   ]
  },
  {
   "cell_type": "markdown",
   "metadata": {},
   "source": [
    "* 上の図で赤い点が属しているクラスタが食べられるキノコです\n",
    "* K-Means クラスタリングは k 個のクラスタにデータをわけるアルゴリズムです。\n",
    "* 今回は 3 つのクラスタに分けますから k=3 となります。"
   ]
  },
  {
   "cell_type": "markdown",
   "metadata": {},
   "source": [
    "# 解法"
   ]
  },
  {
   "cell_type": "markdown",
   "metadata": {},
   "source": [
    "* 線形分離問題なので LinearSVC を使います。"
   ]
  },
  {
   "cell_type": "code",
   "execution_count": 22,
   "metadata": {
    "collapsed": false
   },
   "outputs": [],
   "source": [
    "def kmeans(features):\n",
    "    # k=3, ランダマイズを 10 回実施する\n",
    "    kmeans_model = KMeans(n_clusters=3, random_state=10).fit(features)\n",
    "    # ラベルを取り出す\n",
    "    labels = kmeans_model.labels_\n",
    "    return labels\n",
    "# K-Means クラスタリングをする\n",
    "labels = kmeans(data)"
   ]
  },
  {
   "cell_type": "markdown",
   "metadata": {},
   "source": [
    "* あとは内容を調べて青に所属するクラスタを表示すれば OK です。"
   ]
  },
  {
   "cell_type": "code",
   "execution_count": 34,
   "metadata": {
    "collapsed": false
   },
   "outputs": [
    {
     "data": {
      "image/png": "[encoded data removed]",
      "text/plain": [
       "<matplotlib.figure.Figure at 0x7f113a0b53c8>"
      ]
     },
     "metadata": {},
     "output_type": "display_data"
    }
   ],
   "source": [
    "for label, feature in zip(labels, data):\n",
    "    if label == 0:\n",
    "        #print(label, feature)\n",
    "        pass\n",
    "\n",
    "fig = plt.figure()\n",
    "ax = fig.add_subplot(1,1,1)\n",
    "\n",
    "# 結果から正解を抽出\n",
    "x1,y1=np.array([[feature[0], feature[1]] for (label, feature) in zip(labels, data) if label == 0]).T\n",
    "ax.scatter(x1, y1, color='b')\n",
    "\n",
    "# 結果から不正解を抽出\n",
    "x2, y2=np.array([[feature[0], feature[1]] for (label, feature) in zip(labels, data) if label == 1]).T\n",
    "ax.scatter(x2, y2, color='r')\n",
    "\n",
    "# 結果から不正解を抽出\n",
    "x3, y3=np.array([[feature[0], feature[1]] for (label, feature) in zip(labels, data) if label == 2]).T\n",
    "ax.scatter(x3, y3, color='k')\n",
    "\n",
    "plt.xlim(0,20)\n",
    "plt.ylim(0,20)\n",
    "\n",
    "plt.show()"
   ]
  }
 ],
 "metadata": {
  "kernelspec": {
   "display_name": "Python 3",
   "language": "python",
   "name": "python3"
  },
  "language_info": {
   "codemirror_mode": {
    "name": "ipython",
    "version": 3
   },
   "file_extension": ".py",
   "mimetype": "text/x-python",
   "name": "python",
   "nbconvert_exporter": "python",
   "pygments_lexer": "ipython3",
   "version": "3.4.4"
  }
 },
 "nbformat": 4,
 "nbformat_minor": 0
}
