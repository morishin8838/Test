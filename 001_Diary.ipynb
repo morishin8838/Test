{
 "cells": [
  {
   "cell_type": "markdown",
   "metadata": {},
   "source": [
    "#  10 Sep 2017\n",
    ">   \n",
    "> 日光白根山登頂。奥日光温泉からロングコース  \n",
    "> 長かったです。前日光からの景色は最高でした！\n",
    ">  "
   ]
  },
  {
   "cell_type": "markdown",
   "metadata": {},
   "source": [
    "# 4 Aug 2017\n",
    "> \n",
    "> 男体山　夜間登拝　\n",
    "> 思ったよりも楽に登頂できました\n",
    "> "
   ]
  },
  {
   "cell_type": "markdown",
   "metadata": {},
   "source": [
    "# July 2017\n",
    "> 帰省   \n",
    "> 会社休暇を利用し、両親と一緒に道東旅行. 少しは親孝行できたかな。\n",
    ">    \n",
    "> 同級生とは会えず。。。飛行機に乗り遅れて、飲み会参加できなかった（笑）\n",
    "> \n"
   ]
  },
  {
   "cell_type": "markdown",
   "metadata": {},
   "source": [
    "# 4 May 2017\n",
    "> \n",
    "> 至仏山　バックカントリー\n",
    "> ホッチさん、マルちゃん\n",
    "> \n",
    "> 兄貴、兄貴の同僚、今年は２回登頂\n",
    "> "
   ]
  },
  {
   "cell_type": "markdown",
   "metadata": {},
   "source": [
    "# 6 Nov 2016\n",
    "> 釈迦ヶ岳、鶏頂山に登頂できました。  \n",
    "> 登山靴が壊れている。。ん〜〜、買おうかな。修理かな・・・"
   ]
  },
  {
   "cell_type": "markdown",
   "metadata": {},
   "source": [
    "# 16 Oct 2016\n",
    "> あっこと一緒に、男体山登頂！  \n",
    "> 景色最高だし、登って、ほんと最高でした。  "
   ]
  },
  {
   "cell_type": "markdown",
   "metadata": {},
   "source": [
    "# 21 Aug 2016\n",
    "> 北海道帰省から戻って、約一ヶ月たちました。少し落ち着き、あ〜、たのしかったなぁ〜と振り返る今日このごろ  \n",
    "> あっことの山登りも再会。あっこの仕事も新しい仕事もいよいよ始まる。今日はこれからカーナビをつけにいってくる！  "
   ]
  },
  {
   "cell_type": "markdown",
   "metadata": {},
   "source": [
    "# 20 July 2016\n",
    "> 親と一緒に稚内旅行です。 和子さんご希望で、健一さん、和子さん、いとこの、恵子ちゃんと　稚内へ！\n",
    "> 朝、９時に出発し、５時に宗谷岬に到着。途中、羽幌で、甘エビ丼を食べてました。  \n",
    "> 稚内の　ホテル　おかべに宿泊。　最上階８階、海側の部屋でした。夕日も見えて、とってもよかったです。\n",
    "> 翌日も、９時に出発し、またまた、先日と同じ店によって、甘エビ丼を食べました。  \n",
    "> キンキンを買うことが目的でしたが、結局、食事もしました。食欲豊富で、親が元気なことがよくわかりました。安心です。  "
   ]
  },
  {
   "cell_type": "markdown",
   "metadata": {},
   "source": [
    "# 18 July 2016\n",
    "> 本日は、子安健太郎と羊蹄山に上りました。朝、３時頃に伊達の実家を出発。健太郎の宿の有珠に３時半に待ち合わせ  \n",
    "> 羊蹄山の真狩登山口に５時に到着しました。ゆっちとも合流。ゆっちは彼氏？と一緒だった（笑）。\n",
    "> 羊蹄山は初めてのチャレンジだったけど、のぼり５時間、下り３時間の標準的な時間でした。\n",
    ">\n",
    "> 登山後、まっかり温泉によりましたよ。露天風呂に入って思い出したのが、”そうだ”ここは大学生の時に来たぞ！  \n",
    "> もう 25年も前に記憶が急に蘇り、楽しくなりました。\n",
    ">\n",
    "> さて、お風呂は早々に上がり、すぐに、東室蘭に向かいました。\n",
    "> 実は、高校１年の時の飲み会があった。 久しぶりの再会。すごく楽しい飲み会だったよ。\n",
    "> 今度、いつ、会えるか分からないけど、再会を約束しました。"
   ]
  },
  {
   "cell_type": "markdown",
   "metadata": {},
   "source": [
    "# 16 July 2016\n",
    "> 本日、本室蘭中学校　３年３組同窓会\n",
    "> 山田も名古屋から参戦。全然、変わっていませんでしたね。\n",
    "> 会場に行って、最初に出会ったのが多田。彼とは、小学校５−６年も同じクラスでした。中学校も３年で転校した。\n",
    "> 本当によく、来てくれたとうれしいかったです。"
   ]
  },
  {
   "cell_type": "markdown",
   "metadata": {},
   "source": [
    "# 15 July 2016\n",
    "> 本日、北海道帰省。むっちゃんを千歳空港までお出迎え。久しぶりだけど、元気そう\n",
    "> チムも午後に上陸。夜に、チム、むっちゃんと合流し、雅美の家に行きました。\n",
    "> 港南町　元桜ヶ丘小学校の前に家がありました。とても、大きな家でした。"
   ]
  },
  {
   "cell_type": "markdown",
   "metadata": {},
   "source": [
    "# 10 July 2016\n",
    "> 偶然OpticspyというPython　光学シュミレーションのライブラリを見つけた。\n",
    "> 学生時代、光学研究室だった。もう25年も前。Windowsは 98が出た頃。32bit全盛期に入るところ。\n",
    "> 当時は、自分のパソコンなんか持っていない。光学計算をコンピュータでやる発想なんかなかった。\n",
    "> チャレンジしたことはないけど、おそらく、簡単な計算だけでも 数日要しただろう。また、パソコンなんか占有なんかできないしね。\n",
    "> そんな時代に育った私としては、ちょっとびっくり。会社だと、博士みたいな人が自分で数値計算させて、グラフィカルに光学シュミレーションしている\n",
    ">　まさか、無料でライブラリ配布されているとは。。。"
   ]
  },
  {
   "cell_type": "markdown",
   "metadata": {},
   "source": [
    "# 20 June 2016\n",
    ">  キッチン水栓が破損。本日、修理で会社を休暇。\n",
    ">　 結果、TOTOの水栓を16000円で購入し、無事に交換できました。\n",
    ">  噂によると、業者にキッチン水栓交換を依頼すると、5-6万とられるらしい。DIYで出来てよかった。。！"
   ]
  },
  {
   "cell_type": "markdown",
   "metadata": {},
   "source": [
    "# 22 May 2016\n",
    "\n",
    "> 今日は楓菜の吹奏楽部の保護者会に出席。石橋高校に行って参りました。\n",
    "> 個人レッスン費用に関する件の協議に時間を要した。なかなかまとめることは大変だな。と思いました。\n",
    "> 娘が楽しそうに、演奏している姿をみて、安心しました。"
   ]
  },
  {
   "cell_type": "markdown",
   "metadata": {},
   "source": [
    "# 3 May 2016\n",
    "> 全体集会、期待した内容じゃなかった。。。残念\n",
    "> モチベーション低下しすぎて厳しい。年齢的にも、ここでもう一回、やり遂げたいミッションに出会いたい。\n",
    "> が、、希望しろと言われても、社内のどこにそれがあるかも見つけられない。。。\n",
    "> ん〜厳しい"
   ]
  },
  {
   "cell_type": "markdown",
   "metadata": {},
   "source": [
    "# 16th Apr\n",
    "> 月曜日に全体集会があります。そこで異動に伴う、新しい発表があるといいな。\n",
    "> もう少し我慢かもしれませんが・・・"
   ]
  },
  {
   "cell_type": "markdown",
   "metadata": {},
   "source": [
    "# 4th  Apr\n",
    "> 新年度が始まりました。なんだかんだ、仕事を続けております。 \n",
    "> そろそろ違うことがやりたい。。という気持ちが強いのですが、なかなかチャンスを見つかられず。。\n",
    "> 昔はもっとチャンスを見つけて、そこに入り込めたんだけど、近頃はアンテナ感度がものすごく悪くて、停滞です。\n",
    "> さすがに、会社も変化しないと駄目な時期なので、もう少し様子をみたいと思っています。\n"
   ]
  },
  {
   "cell_type": "markdown",
   "metadata": {},
   "source": [
    "# 19th Feb\n",
    "> \n",
    "> I met my friend, kentaro at Star Backs Cofee of Ohmiya. we talked about the visiting plan in next month.  \n",
    "> we had plan to visit Hokkaido in end of March. but we would decide to canceled. instead of that,   \n",
    "> we have plan to visit in July, to go to Noboribetsu with our high school frineds. \n",
    "> and we also enjoy criming to Mt YOTEI. we have happiness to be able to get good idea at Cofee.\n",
    "> Thanks!"
   ]
  },
  {
   "cell_type": "markdown",
   "metadata": {},
   "source": [
    "# 14 Feb\n",
    ">  As long as I will declare \"drop\", I can not move another sectoin. I believe.   \n",
    "> I thougt almost member are same with me as well.\n",
    ">\n",
    "\n",
    "* Table testing\n",
    "\n",
    "|No| ITEMs|Contents|\n",
    "|---|--------|------------|\n",
    "|1| Welcome| This is Mori|\n",
    "|2| Name | Mori shinichi|"
   ]
  },
  {
   "cell_type": "markdown",
   "metadata": {},
   "source": [
    "# 13 Feb 2016\n",
    ">2月かぁ。。。  \n",
    "> I could join new team, which has mission to develop next generation system. it is happy situation for me.   \n",
    "> but... the activity of that project seems like to be not good. I am worry about it. unfortunatry...\n",
    ">\n"
   ]
  },
  {
   "cell_type": "markdown",
   "metadata": {},
   "source": [
    "-------------"
   ]
  },
  {
   "cell_type": "markdown",
   "metadata": {},
   "source": [
    "# 17 Dec\n",
    "> I'm not satisfied my job in these day. I DO NOT have job.  \n",
    "> I start the job, which is new project. and "
   ]
  },
  {
   "cell_type": "markdown",
   "metadata": {},
   "source": [
    "# 23 Nov\n",
    "> I went hinking with wife to low hill, where is near, but it is getting rain on way to goal. so I would be back home, and I eat lunch at home."
   ]
  },
  {
   "cell_type": "markdown",
   "metadata": {},
   "source": [
    "# 21 Nov\n",
    "\n",
    ">気持ちが停滞して、１年長いよぉ。。。\n",
    ">あと一ヶ月で今年も終わりです。長かったなあ、、、\n",
    "\n"
   ]
  },
  {
   "cell_type": "markdown",
   "metadata": {},
   "source": [
    "# 2 Sep \n",
    "\n",
    ">やる気がでない。。。困ったなぁ、、、\n"
   ]
  },
  {
   "cell_type": "markdown",
   "metadata": {},
   "source": [
    "# 31th Aug 2015\n",
    "\n",
    "> 今日は集中して3Dプロット資料作成に専念  \n",
    "> しかし、完了せず。。。実力不足です。。とほほ。  \n",
    "> 帰宅新幹線の中で、完成の道筋が見つけました。明日、終わらせますよ！"
   ]
  },
  {
   "cell_type": "markdown",
   "metadata": {
    "collapsed": true
   },
   "source": [
    "# 30th Aug\n",
    "\n",
    ">今日のBBTはさぼり。SphinxでePub作りに励む。フォントがおかしい。フォントの設定方法が全く分からず。。ギブアップ。。。\n",
    ">今日も何もせずにおわっちゃったなぁ。。残り時間　夜に、三次元表示で動画作りやってみようかな。。。\n",
    ">\n"
   ]
  },
  {
   "cell_type": "markdown",
   "metadata": {},
   "source": [
    "# 29th Aug 2015\n",
    "\n",
    ">今日はのんびり家ですごしています。午前中は掃除、午後はGithubの整理をしました。  \n",
    ">やっぱしnotebookとGithubの組み合わせは便利だぁ〜。。この日記を始めることも、この便利具合から決めました。  \n",
    ">明日から通勤電車の中で日記を綴り、定期的に更新してみたいと思います。  \n",
    "> "
   ]
  }
 ],
 "metadata": {
  "kernelspec": {
   "display_name": "Python 2",
   "language": "python",
   "name": "python2"
  },
  "language_info": {
   "codemirror_mode": {
    "name": "ipython",
    "version": 2
   },
   "file_extension": ".py",
   "mimetype": "text/x-python",
   "name": "python",
   "nbconvert_exporter": "python",
   "pygments_lexer": "ipython2",
   "version": "2.7.13"
  }
 },
 "nbformat": 4,
 "nbformat_minor": 1
}
