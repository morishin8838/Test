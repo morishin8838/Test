{
 "cells": [
  {
   "cell_type": "markdown",
   "metadata": {},
   "source": [
    "# 22 May 2016\n",
    "\n",
    "> 今日は楓菜の吹奏楽部の保護者会に出席。石橋高校に行って参りました。\n",
    "> 個人レッスン費用に関する件の協議に時間を要した。なかなかまとめることは大変だな。と思いました。\n",
    "> 娘が楽しそうに、演奏している姿をみて、安心しました。"
   ]
  },
  {
   "cell_type": "markdown",
   "metadata": {},
   "source": [
    "# 3 May 2016\n",
    "> 全体集会、期待した内容じゃなかった。。。残念\n",
    "> モチベーション低下しすぎて厳しい。年齢的にも、ここでもう一回、やり遂げたいミッションに出会いたい。\n",
    "> が、、希望しろと言われても、社内のどこにそれがあるかも見つけられない。。。\n",
    "> ん〜厳しい"
   ]
  },
  {
   "cell_type": "markdown",
   "metadata": {},
   "source": [
    "# 16th Apr\n",
    "> 月曜日に全体集会があります。そこで異動に伴う、新しい発表があるといいな。\n",
    "> もう少し我慢かもしれませんが・・・"
   ]
  },
  {
   "cell_type": "markdown",
   "metadata": {},
   "source": [
    "# 4th  Apr\n",
    "> 新年度が始まりました。なんだかんだ、仕事を続けております。 \n",
    "> そろそろ違うことがやりたい。。という気持ちが強いのですが、なかなかチャンスを見つかられず。。\n",
    "> 昔はもっとチャンスを見つけて、そこに入り込めたんだけど、近頃はアンテナ感度がものすごく悪くて、停滞です。\n",
    "> さすがに、会社も変化しないと駄目な時期なので、もう少し様子をみたいと思っています。\n"
   ]
  },
  {
   "cell_type": "markdown",
   "metadata": {},
   "source": [
    "# 19th Feb\n",
    "> \n",
    "> I met my friend, kentaro at Star Backs Cofee of Ohmiya. we talked about the visiting plan in next month.  \n",
    "> we had plan to visit Hokkaido in end of March. but we would decide to canceled. instead of that,   \n",
    "> we have plan to visit in July, to go to Noboribetsu with our high school frineds. \n",
    "> and we also enjoy criming to Mt YOTEI. we have happiness to be able to get good idea at Cofee.\n",
    "> Thanks!"
   ]
  },
  {
   "cell_type": "markdown",
   "metadata": {},
   "source": [
    "# 14 Feb\n",
    ">  As long as I will declare \"drop\", I can not move another sectoin. I believe.   \n",
    "> I thougt almost member are same with me as well.\n",
    ">\n",
    "\n",
    "* Table testing\n",
    "\n",
    "|No| ITEMs|Contents|\n",
    "|---|--------|------------|\n",
    "|1| Welcome| This is Mori|\n",
    "|2| Name | Mori shinichi|"
   ]
  },
  {
   "cell_type": "markdown",
   "metadata": {},
   "source": [
    "# 13 Feb 2016\n",
    ">2月かぁ。。。  \n",
    "> I could join new team, which has mission to develop next generation system. it is happy situation for me.   \n",
    "> but... the activity of that project seems like to be not good. I am worry about it. unfortunatry...\n",
    ">\n"
   ]
  },
  {
   "cell_type": "markdown",
   "metadata": {},
   "source": [
    "-------------"
   ]
  },
  {
   "cell_type": "markdown",
   "metadata": {},
   "source": [
    "# 17 Dec\n",
    "> I'm not satisfied my job in these day. I DO NOT have job.  \n",
    "> I start the job, which is new project. and "
   ]
  },
  {
   "cell_type": "markdown",
   "metadata": {},
   "source": [
    "# 23 Nov\n",
    "> I went hinking with wife to low hill, where is near, but it is getting rain on way to goal. so I would be back home, and I eat lunch at home."
   ]
  },
  {
   "cell_type": "markdown",
   "metadata": {},
   "source": [
    "# 21 Nov\n",
    "\n",
    ">気持ちが停滞して、１年長いよぉ。。。\n",
    ">あと一ヶ月で今年も終わりです。長かったなあ、、、\n",
    "\n"
   ]
  },
  {
   "cell_type": "markdown",
   "metadata": {},
   "source": [
    "# 2 Sep \n",
    "\n",
    ">やる気がでない。。。困ったなぁ、、、\n"
   ]
  },
  {
   "cell_type": "markdown",
   "metadata": {},
   "source": [
    "# 31th Aug 2015\n",
    "\n",
    "> 今日は集中して3Dプロット資料作成に専念  \n",
    "> しかし、完了せず。。。実力不足です。。とほほ。  \n",
    "> 帰宅新幹線の中で、完成の道筋が見つけました。明日、終わらせますよ！"
   ]
  },
  {
   "cell_type": "markdown",
   "metadata": {
    "collapsed": true
   },
   "source": [
    "# 30th Aug\n",
    "\n",
    ">今日のBBTはさぼり。SphinxでePub作りに励む。フォントがおかしい。フォントの設定方法が全く分からず。。ギブアップ。。。\n",
    ">今日も何もせずにおわっちゃったなぁ。。残り時間　夜に、三次元表示で動画作りやってみようかな。。。\n",
    ">\n"
   ]
  },
  {
   "cell_type": "markdown",
   "metadata": {},
   "source": [
    "# 29th Aug 2015\n",
    "\n",
    ">今日はのんびり家ですごしています。午前中は掃除、午後はGithubの整理をしました。  \n",
    ">やっぱしnotebookとGithubの組み合わせは便利だぁ〜。。この日記を始めることも、この便利具合から決めました。  \n",
    ">明日から通勤電車の中で日記を綴り、定期的に更新してみたいと思います。  \n",
    "> "
   ]
  }
 ],
 "metadata": {
  "kernelspec": {
   "display_name": "Python 3",
   "language": "python",
   "name": "python3"
  },
  "language_info": {
   "codemirror_mode": {
    "name": "ipython",
    "version": 3
   },
   "file_extension": ".py",
   "mimetype": "text/x-python",
   "name": "python",
   "nbconvert_exporter": "python",
   "pygments_lexer": "ipython3",
   "version": "3.4.4"
  }
 },
 "nbformat": 4,
 "nbformat_minor": 0
}
