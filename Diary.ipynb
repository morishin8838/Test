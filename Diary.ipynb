{
 "cells": [
  {
   "cell_type": "markdown",
   "metadata": {},
   "source": [
    "# 21 Nov\n",
    "\n",
    ">気持ちが停滞して、１年長いよぉ。。。\n",
    ">あと一ヶ月で今年も終わりです。長かったなあ、、、\n",
    "\n"
   ]
  },
  {
   "cell_type": "markdown",
   "metadata": {},
   "source": [
    "# 2 Sep \n",
    "\n",
    ">やる気がでない。。。困ったなぁ、、、\n"
   ]
  },
  {
   "cell_type": "markdown",
   "metadata": {},
   "source": [
    "# 31th Aug 2015\n",
    "\n",
    "> 今日は集中して3Dプロット資料作成に専念  \n",
    "> しかし、完了せず。。。実力不足です。。とほほ。  \n",
    "> 帰宅新幹線の中で、完成の道筋が見つけました。明日、終わらせますよ！"
   ]
  },
  {
   "cell_type": "markdown",
   "metadata": {
    "collapsed": true
   },
   "source": [
    "# 30th Aug\n",
    "\n",
    ">今日のBBTはさぼり。SphinxでePub作りに励む。フォントがおかしい。フォントの設定方法が全く分からず。。ギブアップ。。。\n",
    ">今日も何もせずにおわっちゃったなぁ。。残り時間　夜に、三次元表示で動画作りやってみようかな。。。\n",
    ">\n"
   ]
  },
  {
   "cell_type": "markdown",
   "metadata": {},
   "source": [
    "# 29th Aug 2015\n",
    "\n",
    ">今日はのんびり家ですごしています。午前中は掃除、午後はGithubの整理をしました。  \n",
    ">やっぱしnotebookとGithubの組み合わせは便利だぁ〜。。この日記を始めることも、この便利具合から決めました。  \n",
    ">明日から通勤電車の中で日記を綴り、定期的に更新してみたいと思います。  \n",
    "> "
   ]
  }
 ],
 "metadata": {
  "kernelspec": {
   "display_name": "Python 2",
   "language": "python",
   "name": "python2"
  },
  "language_info": {
   "codemirror_mode": {
    "name": "ipython",
    "version": 2
   },
   "file_extension": ".py",
   "mimetype": "text/x-python",
   "name": "python",
   "nbconvert_exporter": "python",
   "pygments_lexer": "ipython2",
   "version": "2.7.10"
  }
 },
 "nbformat": 4,
 "nbformat_minor": 0
}
