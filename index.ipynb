{
 "cells": [
  {
   "cell_type": "markdown",
   "metadata": {},
   "source": [
    "# 自己紹介\n",
    "** 一人学習でpython、Ipython Notebookを利用してい仲間を応援します **\n",
    ">* [自己紹介 お前だれよ？](http://morishin8838.bitbucket.org/)  \n",
    ">* [**まめ知識** github / bitbucket経由でnbviewerの公開方法](http://nbviewer.ipython.org/github/morishin8838/nbviewer/blob/master/Begginner.ipynb)\n",
    ">* [日記](http://nbviewer.ipython.org/github/morishin8838/nbviewer/blob/master/Diary.ipynb)"
   ]
  },
  {
   "cell_type": "markdown",
   "metadata": {},
   "source": [
    "# 倉庫\n",
    "**↑上部にあるディレクトリ構成情報から他データにアクセスできますよ**  \n",
    ">(例)\n",
    ">まじめな資料\n",
    ">* [オーバーシュートを表現](http://nbviewer.ipython.org/github/morishin8838/nbviewer/blob/master/study/20141026_OverShoot_Simulation.ipynb)\n",
    ">* [3D連続描画](http://nbviewer.ipython.org/github/morishin8838/nbviewer/blob/master/study/20150830_3D_PlotView.ipynb)\n",
    ">* [MP4生成](http://nbviewer.ipython.org/github/morishin8838/nbviewer/blob/master/study/20150830_MP4.ipynb)\n",
    ">* [ヒートマップ作成](http://nbviewer.ipython.org/github/morishin8838/nbviewer/blob/master/study/20150831_Create_Heatmap.ipynb)\n"
   ]
  },
  {
   "cell_type": "markdown",
   "metadata": {},
   "source": [
    "# 活動トピック\n",
    ">* [SphinxJP2014のセミナーに行ってきました](http://nbviewer.ipython.org/github/morishin8838/nbviewer/blob/master/SphinxJP2014.ipynb)"
   ]
  }
 ],
 "metadata": {
  "kernelspec": {
   "display_name": "Python 2",
   "language": "python",
   "name": "python2"
  },
  "language_info": {
   "codemirror_mode": {
    "name": "ipython",
    "version": 2
   },
   "file_extension": ".py",
   "mimetype": "text/x-python",
   "name": "python",
   "nbconvert_exporter": "python",
   "pygments_lexer": "ipython2",
   "version": "2.7.10"
  }
 },
 "nbformat": 4,
 "nbformat_minor": 0
}
