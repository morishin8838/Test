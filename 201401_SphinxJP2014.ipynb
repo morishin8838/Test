{
 "cells": [
  {
   "cell_type": "markdown",
   "metadata": {},
   "source": [
    "# Sphinx-JP 2014"
   ]
  },
  {
   "cell_type": "markdown",
   "metadata": {},
   "source": [
    "はじめて参加しました。latex出力等、私も苦労したこと。み～んな苦労しているようでした。。。"
   ]
  },
  {
   "cell_type": "markdown",
   "metadata": {},
   "source": [
    "[ここに資料がありますよ](http://sphinxjp.connpass.com/event/8448/)"
   ]
  },
  {
   "cell_type": "markdown",
   "metadata": {},
   "source": [
    "## メモ"
   ]
  },
  {
   "cell_type": "markdown",
   "metadata": {},
   "source": [
    "1. 1.3b1がリリース\n",
    "    - easy_install -U sphinxでアップデートできます\n",
    "1. shinx-build -j\n",
    "    - 並列読み込みして高速化\n",
    "1. pip color amr \n",
    "    - カラーで出力する\n",
    "1. ナポレオン拡張\n",
    "    - autodoc\n",
    "1. 採番の仕組み導入 \n",
    "    - numfig = \n",
    "1. diffモードもあるようです\n",
    "1. 図描画対応\n",
    "    - mcsgenを試してみたい\n",
    "1. テーマ変更の詳細手順の説明があるよ\n",
    "    "
   ]
  }
 ],
 "metadata": {
  "kernelspec": {
   "display_name": "Python 3",
   "language": "python",
   "name": "python3"
  },
  "language_info": {
   "codemirror_mode": {
    "name": "ipython",
    "version": 3
   },
   "file_extension": ".py",
   "mimetype": "text/x-python",
   "name": "python",
   "nbconvert_exporter": "python",
   "pygments_lexer": "ipython3",
   "version": "3.4.4"
  }
 },
 "nbformat": 4,
 "nbformat_minor": 0
}
