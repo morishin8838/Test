{
 "cells": [
  {
   "cell_type": "code",
   "execution_count": 35,
   "metadata": {
    "collapsed": false
   },
   "outputs": [
    {
     "data": {
      "text/plain": [
       "[<matplotlib.text.Text at 0x7fed73aa5048>,\n",
       " <matplotlib.text.Text at 0x7fed73c36d30>,\n",
       " <matplotlib.text.Text at 0x7fed73a65588>,\n",
       " <matplotlib.text.Text at 0x7fed73a65b38>,\n",
       " <matplotlib.text.Text at 0x7fed73a6b588>,\n",
       " <matplotlib.text.Text at 0x7fed73a6bf98>,\n",
       " <matplotlib.text.Text at 0x7fed73a6d9e8>]"
      ]
     },
     "execution_count": 35,
     "metadata": {},
     "output_type": "execute_result"
    },
    {
     "data": {
      "image/png": "[encoded data removed]",
      "text/plain": [
       "<matplotlib.figure.Figure at 0x7fed73b4e2e8>"
      ]
     },
     "metadata": {},
     "output_type": "display_data"
    }
   ],
   "source": [
    "%matplotlib inline\n",
    "import pandas as pd\n",
    "import numpy as np\n",
    "import matplotlib.pyplot as mpl\n",
    "\n",
    "np.random.seed(1)\n",
    "df = pd.DataFrame({'name': list('abcdefgaabb'),\n",
    "                   'xxxx': list('ababefgaabb'),\n",
    "                   'values1': np.random.randn(11), \n",
    "                   'values2': np.random.randn(11)})\n",
    "#grouped=df.groupby(['name','xxxx'],as_index=False).mean()\n",
    "grouped=df.groupby(['name','xxxx']).mean()\n",
    "grouped=grouped.reset_index()\n",
    "lb=[]\n",
    "for  i in range(len(grouped)):\n",
    "    lb.append(grouped['name'][i]+\" \"+grouped['xxxx'][i])\n",
    "ax=grouped.plot()\n",
    "ax.set_xticks(grouped.index)\n",
    "ax.set_xticklabels(lb, rotation=0)"
   ]
  },
  {
   "cell_type": "code",
   "execution_count": 21,
   "metadata": {
    "collapsed": false
   },
   "outputs": [
    {
     "data": {
      "text/html": [
       "<div>\n",
       "<table border=\"1\" class=\"dataframe\">\n",
       "  <thead>\n",
       "    <tr style=\"text-align: right;\">\n",
       "      <th></th>\n",
       "      <th>name</th>\n",
       "      <th>xxxx</th>\n",
       "      <th>values1</th>\n",
       "      <th>values2</th>\n",
       "    </tr>\n",
       "  </thead>\n",
       "  <tbody>\n",
       "    <tr>\n",
       "      <th>0</th>\n",
       "      <td>a</td>\n",
       "      <td>a</td>\n",
       "      <td>0.394059</td>\n",
       "      <td>-0.478371</td>\n",
       "    </tr>\n",
       "    <tr>\n",
       "      <th>1</th>\n",
       "      <td>b</td>\n",
       "      <td>b</td>\n",
       "      <td>0.200327</td>\n",
       "      <td>-0.092771</td>\n",
       "    </tr>\n",
       "    <tr>\n",
       "      <th>2</th>\n",
       "      <td>c</td>\n",
       "      <td>a</td>\n",
       "      <td>-0.528172</td>\n",
       "      <td>-0.384054</td>\n",
       "    </tr>\n",
       "    <tr>\n",
       "      <th>3</th>\n",
       "      <td>d</td>\n",
       "      <td>b</td>\n",
       "      <td>-1.072969</td>\n",
       "      <td>1.133769</td>\n",
       "    </tr>\n",
       "    <tr>\n",
       "      <th>4</th>\n",
       "      <td>e</td>\n",
       "      <td>e</td>\n",
       "      <td>0.865408</td>\n",
       "      <td>-1.099891</td>\n",
       "    </tr>\n",
       "  </tbody>\n",
       "</table>\n",
       "</div>"
      ],
      "text/plain": [
       "  name xxxx   values1   values2\n",
       "0    a    a  0.394059 -0.478371\n",
       "1    b    b  0.200327 -0.092771\n",
       "2    c    a -0.528172 -0.384054\n",
       "3    d    b -1.072969  1.133769\n",
       "4    e    e  0.865408 -1.099891"
      ]
     },
     "execution_count": 21,
     "metadata": {},
     "output_type": "execute_result"
    }
   ],
   "source": [
    "grouped.head()"
   ]
  },
  {
   "cell_type": "code",
   "execution_count": null,
   "metadata": {
    "collapsed": true
   },
   "outputs": [],
   "source": []
  }
 ],
 "metadata": {
  "kernelspec": {
   "display_name": "Python 3",
   "language": "python",
   "name": "python3"
  },
  "language_info": {
   "codemirror_mode": {
    "name": "ipython",
    "version": 3
   },
   "file_extension": ".py",
   "mimetype": "text/x-python",
   "name": "python",
   "nbconvert_exporter": "python",
   "pygments_lexer": "ipython3",
   "version": "3.4.5"
  }
 },
 "nbformat": 4,
 "nbformat_minor": 0
}
