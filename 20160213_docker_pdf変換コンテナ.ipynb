{
 "cells": [
  {
   "cell_type": "markdown",
   "metadata": {},
   "source": [
    "# notebookとpandocの連携"
   ]
  },
  {
   "cell_type": "markdown",
   "metadata": {},
   "source": [
    "## 目的\n",
    "* notebookの出力(tex or md or markdown)を自動でpdfに変換する"
   ]
  },
  {
   "cell_type": "markdown",
   "metadata": {},
   "source": [
    "## 方法\n",
    "1. vpetersson/pandocをコンテナをpullする [https://github.com/vpetersson/docker-pandoc]\n",
    "2. pdfを変換するファイルディレクトリを用意する。例えば c:¥notebook¥pdf\n",
    "2.  docker コマンドを実行\n",
    "    * docker run --rm  -v /folder/with/markdown:/docs vpetersson/pandoc\n",
    "    * /docsの中にあるファルは自動でpdfにコンバートする\n",
    "    * 実行後、コンテナは自動消滅する"
   ]
  }
 ],
 "metadata": {
  "kernelspec": {
   "display_name": "Python 3",
   "language": "python",
   "name": "python3"
  },
  "language_info": {
   "codemirror_mode": {
    "name": "ipython",
    "version": 3
   },
   "file_extension": ".py",
   "mimetype": "text/x-python",
   "name": "python",
   "nbconvert_exporter": "python",
   "pygments_lexer": "ipython3",
   "version": "3.4.4"
  }
 },
 "nbformat": 4,
 "nbformat_minor": 0
}
