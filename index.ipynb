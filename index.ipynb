{
 "cells": [
  {
   "cell_type": "markdown",
   "metadata": {},
   "source": [
    "** 一人学習でpython、Ipython Notebookを利用してい仲間を応援しますよ **\n",
    "* [自己紹介 お前だれよ？](http://morishin8838.bitbucket.org/)\n",
    "* [日記](http://nbviewer.ipython.org/github/morishin8838/nbviewer/blob/master/Diary.ipynb)"
   ]
  },
  {
   "cell_type": "markdown",
   "metadata": {},
   "source": [
    "-----"
   ]
  },
  {
   "cell_type": "markdown",
   "metadata": {},
   "source": [
    "# 活動トピック\n",
    "* [SphinxJP2014のセミナーに行ってきました](http://nbviewer.ipython.org/github/morishin8838/nbviewer/blob/master/SphinxJP2014.ipynb)"
   ]
  },
  {
   "cell_type": "markdown",
   "metadata": {},
   "source": [
    "# 勉強の倉庫\n",
    "* [シュミレーション オーバーシュート状態を表現](http://nbviewer.ipython.org/github/morishin8838/nbviewer/blob/master/study/OverShoot_Simulation_20141026.ipynb)"
   ]
  },
  {
   "cell_type": "markdown",
   "metadata": {},
   "source": [
    "# まめ知識の倉庫\n",
    "1. [nbviewerから github / bitbucket経由を公開する方法](http://nbviewer.ipython.org/github/morishin8838/nbviewer/blob/master/Begginner.ipynb)\n",
    "2.  [Pyramidの研究](http://nbviewer.ipython.org/github/morishin8838/nbviewer/blob/master/PyramidPractice.ipynb)"
   ]
  },
  {
   "cell_type": "code",
   "execution_count": null,
   "metadata": {
    "collapsed": true
   },
   "outputs": [],
   "source": []
  }
 ],
 "metadata": {
  "kernelspec": {
   "display_name": "Python 2",
   "language": "python",
   "name": "python2"
  },
  "language_info": {
   "codemirror_mode": {
    "name": "ipython",
    "version": 2
   },
   "file_extension": ".py",
   "mimetype": "text/x-python",
   "name": "python",
   "nbconvert_exporter": "python",
   "pygments_lexer": "ipython2",
   "version": "2.7.10"
  }
 },
 "nbformat": 4,
 "nbformat_minor": 0
}
