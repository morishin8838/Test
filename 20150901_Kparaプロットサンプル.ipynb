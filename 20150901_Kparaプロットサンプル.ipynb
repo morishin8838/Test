{
 "cells": [
  {
   "cell_type": "markdown",
   "metadata": {},
   "source": [
    "# 連続描画プロット\n",
    "\n",
    "* kパラメータをこのサンプルを用いてプロットする"
   ]
  },
  {
   "cell_type": "code",
   "execution_count": 3,
   "metadata": {
    "collapsed": true
   },
   "outputs": [],
   "source": [
    "%matplotlib inline"
   ]
  },
  {
   "cell_type": "code",
   "execution_count": 8,
   "metadata": {
    "collapsed": false
   },
   "outputs": [
    {
     "data": {
      "text/plain": [
       "<function matplotlib.pyplot.close>"
      ]
     },
     "execution_count": 8,
     "metadata": {},
     "output_type": "execute_result"
    },
    {
     "data": {
      "image/png": "[encoded data removed]",
      "text/plain": [
       "<matplotlib.figure.Figure at 0x114cb9f50>"
      ]
     },
     "metadata": {},
     "output_type": "display_data"
    }
   ],
   "source": [
    "import pandas as pd\n",
    "import matplotlib.pyplot as plt\n",
    "from matplotlib import animation\n",
    "import numpy as np\n",
    "\n",
    "\n",
    "data = pd.DataFrame(data=0., index=np.arange(0, 30, 1), columns=np.arange(0,1, 0.01))\n",
    "for exp in data.index.values:\n",
    "   data.ix[exp] = np.arange(0,1, 0.01)**(.1*exp)\n",
    "\n",
    "def animate(nframe):\n",
    "   plt.cla()\n",
    "   plt.plot(data.columns.values, data.ix[nframe])\n",
    "   plt.ylim(0,1)\n",
    "   plt.title('Exp: %.2f'%(1.*nframe/10.))\n",
    "\n",
    "fig = plt.figure(figsize=(5,4))  \n",
    "\n",
    "anim = animation.FuncAnimation(fig, animate, frames=30)\n",
    "anim.save('./images/demoanimation.gif', writer='imagemagick', fps=4);\n",
    "plt.close"
   ]
  },
  {
   "cell_type": "markdown",
   "metadata": {},
   "source": [
    "![image](./images/demoanimation.gif)"
   ]
  },
  {
   "cell_type": "code",
   "execution_count": 6,
   "metadata": {
    "collapsed": false
   },
   "outputs": [
    {
     "name": "stdout",
     "output_type": "stream",
     "text": [
      "20141026_OverShoot_Simulation.ipynb  20150901_AnimationPlot.ipynb\r\n",
      "20150830_3D_PlotView.ipynb           demoanimation.gif\r\n",
      "20150830_MP4.ipynb                   \u001b[30m\u001b[43mimages\u001b[m\u001b[m/\r\n",
      "20150831_Create_Heatmap.ipynb\r\n"
     ]
    }
   ],
   "source": [
    "%ls"
   ]
  }
 ],
 "metadata": {
  "kernelspec": {
   "display_name": "Python 2",
   "language": "python",
   "name": "python2"
  },
  "language_info": {
   "codemirror_mode": {
    "name": "ipython",
    "version": 2
   },
   "file_extension": ".py",
   "mimetype": "text/x-python",
   "name": "python",
   "nbconvert_exporter": "python",
   "pygments_lexer": "ipython2",
   "version": "2.7.10"
  }
 },
 "nbformat": 4,
 "nbformat_minor": 0
}
