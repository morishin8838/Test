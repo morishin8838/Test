{
 "cells": [
  {
   "cell_type": "markdown",
   "metadata": {},
   "source": [
    "# GitHubリポジトリディレクト作成方法\n",
    "    1. GitHubにログオンする\n",
    "    2. リポジトリを選択する\n",
    "    3. Create New Fileをおす\n",
    "    4. ディレクトリ名を入力し、/を押して、ファイル名を入れる\n",
    "    5.　この時ファイル名はダミーで的な値で良い。\n",
    "    "
   ]
  },
  {
   "cell_type": "markdown",
   "metadata": {},
   "source": [
    "# nbviewerを介したNotebookの公開手順"
   ]
  },
  {
   "cell_type": "markdown",
   "metadata": {},
   "source": [
    "## github経由\n",
    "1. ipynbファイルをgithubなどにpush\n",
    "    - (例) https://github.com/morishin8838/nbviewer/blob/master/index.ipynb\n",
    "2. nbviewerを介してブラウジングする\n",
    "    - (例) http://nbviewer.ipython.org/github/morishin8838/nbviewer/blob/master/index.ipynb"
   ]
  },
  {
   "cell_type": "markdown",
   "metadata": {},
   "source": [
    "## bitbucket経由\n",
    "\n",
    "1. ipynbファイルをpush\n",
    "    * bitbucket.org/morishin8838/nbviewer\n",
    "2. ブラウジング\n",
    "    * [ここに例] (http://nbviewer.ipython.org/urls/bitbucket.org/morishin8838/nbviewer/raw/master/index.ipynb)\n",
    "\n",
    "**日本語が文字化けしている？** しばらく様子見する\n",
    "\n",
    "* masterはブランチ名\n",
    "* ブランチ名がdefaultだと、defaultにする"
   ]
  },
  {
   "cell_type": "code",
   "execution_count": null,
   "metadata": {
    "collapsed": true
   },
   "outputs": [],
   "source": []
  }
 ],
 "metadata": {
  "kernelspec": {
   "display_name": "Python 2",
   "language": "python",
   "name": "python2"
  },
  "language_info": {
   "codemirror_mode": {
    "name": "ipython",
    "version": 2
   },
   "file_extension": ".py",
   "mimetype": "text/x-python",
   "name": "python",
   "nbconvert_exporter": "python",
   "pygments_lexer": "ipython2",
   "version": "2.7.13"
  }
 },
 "nbformat": 4,
 "nbformat_minor": 1
}
