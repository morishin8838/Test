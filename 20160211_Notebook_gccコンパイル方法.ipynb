{
 "cells": [
  {
   "cell_type": "markdown",
   "metadata": {},
   "source": [
    "# gcc使い方"
   ]
  },
  {
   "cell_type": "code",
   "execution_count": 4,
   "metadata": {
    "collapsed": false
   },
   "outputs": [],
   "source": [
    "!gcc  ./gcc/hello.c "
   ]
  },
  {
   "cell_type": "code",
   "execution_count": 5,
   "metadata": {
    "collapsed": false
   },
   "outputs": [
    {
     "name": "stdout",
     "output_type": "stream",
     "text": [
      "00_exe_recipe.ipynb\t\t\t     hello1.out   testlib.c\r\n",
      "20160221_動的リンクライブラリ呼び出し.ipynb  hello.c\t  testlib.so\r\n",
      "hello1.cpp\t\t\t\t     hello.out\r\n",
      "hello1.exe\t\t\t\t     testlib2.so\r\n"
     ]
    }
   ],
   "source": [
    "!ls ./gcc/"
   ]
  },
  {
   "cell_type": "code",
   "execution_count": 6,
   "metadata": {
    "collapsed": false
   },
   "outputs": [
    {
     "name": "stdout",
     "output_type": "stream",
     "text": [
      "こんにちわ\r\n",
      "こんにちわ\r\n",
      "こんにちわ\r\n",
      "こんにちわ\r\n",
      "こんにちわ\r\n",
      "5以上です\r\n",
      "5以上です\r\n",
      "5以上です\r\n",
      "5以上です\r\n",
      "5以上です\r\n",
      "5以上です\r\n",
      "終了\r\n",
      "[2.200000e+00] 答え"
     ]
    }
   ],
   "source": [
    "!./gcc/hello.out"
   ]
  },
  {
   "cell_type": "code",
   "execution_count": null,
   "metadata": {
    "collapsed": true
   },
   "outputs": [],
   "source": []
  }
 ],
 "metadata": {
  "kernelspec": {
   "display_name": "Python 3",
   "language": "python",
   "name": "python3"
  },
  "language_info": {
   "codemirror_mode": {
    "name": "ipython",
    "version": 3
   },
   "file_extension": ".py",
   "mimetype": "text/x-python",
   "name": "python",
   "nbconvert_exporter": "python",
   "pygments_lexer": "ipython3",
   "version": "3.4.4"
  }
 },
 "nbformat": 4,
 "nbformat_minor": 0
}
