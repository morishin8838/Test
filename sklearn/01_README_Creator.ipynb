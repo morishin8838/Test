{
 "cells": [
  {
   "cell_type": "markdown",
   "metadata": {},
   "source": [
    "# Readme 生成"
   ]
  },
  {
   "cell_type": "code",
   "execution_count": 1,
   "metadata": {
    "collapsed": false
   },
   "outputs": [
    {
     "name": "stdout",
     "output_type": "stream",
     "text": [
      "bitbucket.org/morishin8838/opt/raw/master/01_README_Creator.ipynb\n"
     ]
    }
   ],
   "source": [
    "#!/usr/bin/env python\n",
    "\n",
    "from sys import version_info\n",
    "\n",
    "if version_info[0] < 3:\n",
    "    from urllib import quote\n",
    "else:\n",
    "    from urllib.request import quote\n",
    "\n",
    "from glob import glob\n",
    "import json\n",
    "import os\n",
    "\n",
    "header = '''\n",
    "# 機械学習研究ページ\n",
    "* Python sklearnに関して、理解を深めます。\n",
    "\n",
    "## データ内容\n",
    "    1. iPython Notebook ファイルを参照してください。（以下にファイルリストがあります）\n",
    "    2. XXXXX    \n",
    "\n",
    "# File List　:cry:   \n",
    "--------------------------------------------------\n",
    "'''\n",
    "\n",
    "footer = '''\n",
    "\n",
    "--------------------------------------------------\n",
    "Thanks!\n",
    ":yum:\n",
    "'''\n",
    "\n",
    "format_item = '* [{name}]({url})'.format\n",
    "bb_url = u'bitbucket.org/morishin8838/opt/raw/master/'\n",
    "\n",
    "def notebooks():\n",
    "    for root, dirs, files in os.walk(os.getcwd()):\n",
    "        for filename in files:\n",
    "            if filename.lower().endswith('.' + 'ipynb'):\n",
    "                if \"ipynb_checkpoints\" in os.path.join(root, filename):\n",
    "                    pass\n",
    "                else:\n",
    "                    yield os.path.join(root, filename)\n",
    "            \n",
    "def get_filename(filename):\n",
    "    return (os.path.relpath(filename,os.getcwd()))\n",
    "\n",
    "def nb_url(filename):\n",
    "    raw_url = bb_url+(os.path.relpath(filename,os.getcwd()))   \n",
    "    print (raw_url)\n",
    "    return u'http://nbviewer.jupyter.org/urls/{}'.format(raw_url)\n",
    "\n",
    "def write_readme(nblist, fo):\n",
    "    fo.write('{}\\n'.format(header))\n",
    "    for nb in nblist:\n",
    "        name = get_filename(nb)\n",
    "        url = nb_url(nb)\n",
    "        fo.write('{}\\n'.format(format_item(name=name, url=url)))\n",
    "    fo.write('{}\\n'.format(footer))\n",
    "\n",
    "def main():\n",
    "    nblist = notebooks()\n",
    "    with open('README.md', 'w') as fo:\n",
    "        write_readme(nblist, fo)\n",
    "\n",
    "if __name__ == '__main__':\n",
    "    main()"
   ]
  },
  {
   "cell_type": "code",
   "execution_count": null,
   "metadata": {
    "collapsed": true
   },
   "outputs": [],
   "source": []
  }
 ],
 "metadata": {
  "kernelspec": {
   "display_name": "Python 3",
   "language": "python",
   "name": "python3"
  },
  "language_info": {
   "codemirror_mode": {
    "name": "ipython",
    "version": 3
   },
   "file_extension": ".py",
   "mimetype": "text/x-python",
   "name": "python",
   "nbconvert_exporter": "python",
   "pygments_lexer": "ipython3",
   "version": "3.4.4"
  }
 },
 "nbformat": 4,
 "nbformat_minor": 0
}
