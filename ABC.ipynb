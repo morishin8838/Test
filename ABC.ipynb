{
 "metadata": {
  "name": "ABC"
 },
 "nbformat": 3,
 "nbformat_minor": 0,
 "worksheets": [
  {
   "cells": [
    {
     "cell_type": "heading",
     "level": 1,
     "metadata": {},
     "source": "NoteBook\u52c9\u5f37\u90e8\u5c4b"
    },
    {
     "cell_type": "heading",
     "level": 1,
     "metadata": {},
     "source": "nbviewer\u3092\u4ecb\u3057\u305f\u516c\u958b\u624b\u9806"
    },
    {
     "cell_type": "markdown",
     "metadata": {},
     "source": "1. \u4fdd\u5b58\u3057\u305fipynb\u30d5\u30a1\u30a4\u30eb\u3092github\u306b\u4fdd\u5b58\n    * (\u4f8b) https://github.com/morishin8838/nbviewer/ABC.ipynb \u306e\u3088\u3046\u306bgithub\u306bpush\n1. nbviewer\u3092\u4ecb\u3057\u3066\u30d6\u30e9\u30a6\u30b8\u30f3\u30b0\n    * http://nbviewer.ipython.org/github/morishin8838/nbviewer/blob/master/ABC.ipynb\n1. \u53f3\u4e0a\u306b\u30c0\u30a6\u30f3\u30ed\u30fc\u30c9\u30dc\u30bf\u30f3\u304c\u3064\u3044\u3066\u3044\u307e\u3059\u3002"
    },
    {
     "cell_type": "code",
     "collapsed": false,
     "input": "",
     "language": "python",
     "metadata": {},
     "outputs": []
    }
   ],
   "metadata": {}
  }
 ]
}