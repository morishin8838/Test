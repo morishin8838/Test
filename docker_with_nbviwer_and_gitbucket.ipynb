{
 "cells": [
  {
   "cell_type": "markdown",
   "metadata": {},
   "source": [
    "# 内容\n",
    "Dockerで nbviewerとDocker GitBucketを立ち上げて、 ローカルLANで nbviewer Gitの環境を構築する\n",
    "\n",
    "# Docker マシン構成\n",
    "* nbviwer     : 192.168.98.100:8081\n",
    "* GitBucket  :192.168.99.100:8090\n",
    "        \n",
    "# GitBucket設定事例\n",
    "* リポジトリ名　MacPy\n",
    "* http://192.168.99.100:8090/a8838/MacPy/blob/master/index.ipynb\n",
    "        \n",
    "# アクセス方法\n",
    "* 以下でアクセスできた！\n",
    "* http://192.168.98.100:8081/url/192.168.99.100:8090/a8838/MacPy/raw/master/index.ipynb"
   ]
  }
 ],
 "metadata": {
  "kernelspec": {
   "display_name": "Python 3",
   "language": "python",
   "name": "python3"
  },
  "language_info": {
   "codemirror_mode": {
    "name": "ipython",
    "version": 3
   },
   "file_extension": ".py",
   "mimetype": "text/x-python",
   "name": "python",
   "nbconvert_exporter": "python",
   "pygments_lexer": "ipython3",
   "version": "3.4.4"
  }
 },
 "nbformat": 4,
 "nbformat_minor": 0
}
