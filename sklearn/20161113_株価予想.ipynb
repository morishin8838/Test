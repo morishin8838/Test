{
 "cells": [
  {
   "cell_type": "markdown",
   "metadata": {
    "collapsed": true
   },
   "source": [
    "<http://qiita.com/ynakayama/items/6a472e5ebbe9365186bd>"
   ]
  },
  {
   "cell_type": "markdown",
   "metadata": {},
   "source": [
    "# 決定木で未来の株価を予測する"
   ]
  },
  {
   "cell_type": "markdown",
   "metadata": {},
   "source": [
    "## 概略\n",
    "1. 教師データの数値の配列 (train_X) と結果の配列 (train_y) を学習させる\n",
    "2. テストデータの数値の配列 (test_X) を与えると予測結果 (test_y) が帰ってくる"
   ]
  },
  {
   "cell_type": "markdown",
   "metadata": {},
   "source": [
    "## 使い方"
   ]
  },
  {
   "cell_type": "markdown",
   "metadata": {},
   "source": [
    "1. 教師データをつくる\n",
    "    * train_X (教師データの配列) と train_y (それに対する 1 か 0 かのラベル) が返ってくる\n",
    "2. リターンインデックスを算出する\n",
    "3. リターンインデックスの変化を決定木に学習させる\n",
    "4. リターンインデックスから教師データを抽出し分類器に学習させます。"
   ]
  },
  {
   "cell_type": "markdown",
   "metadata": {},
   "source": [
    "----"
   ]
  },
  {
   "cell_type": "markdown",
   "metadata": {},
   "source": [
    "# ニコン株価データ取得　\n",
    "* http://stocks.finance.yahoo.co.jp/stocks/detail/?code=7731.T"
   ]
  },
  {
   "cell_type": "code",
   "execution_count": null,
   "metadata": {
    "collapsed": false
   },
   "outputs": [],
   "source": [
    "# 第一引数に銘柄コード\n",
    "# 第二引数に日付 (2015-01-01 など) \n",
    "# ニコン 7731\n",
    "# 日立ハイテクノロジー 8036\n",
    "# ディスコ 6146\n",
    "# スクリーン 7735\n",
    "# アドテス 6857\n",
    "#%run JpStock.py 7731 \"2000-01-01\"\n",
    "#%run JpStock.py 8036 \"2000-01-01\"\n",
    "#%run JpStock.py 6146 \"2000-01-01\"\n",
    "%run JpStock.py 7735 \"2000-01-01\"\n",
    "%run JpStock.py 6857 \"2000-01-01\""
   ]
  },
  {
   "cell_type": "markdown",
   "metadata": {},
   "source": [
    "# 株価を予想する\n",
    "    * 10/13 までの 90 営業日のデータをもとに予測するとこうなりました。\n",
    "    * 答えは 0 、つまり株価は下がることになります。"
   ]
  },
  {
   "cell_type": "code",
   "execution_count": 3,
   "metadata": {
    "collapsed": false
   },
   "outputs": [
    {
     "name": "stdout",
     "output_type": "stream",
     "text": [
      "From 2006-01-06 to 2016-11-09 by 30\n",
      "(1/204) False step(30) 2008-4-1 [Predict : Down] Result: ¥80\n",
      "(2/204) True step(30) 2008-5-1 [Predict : Down] Result: ¥0\n",
      "...Retry maybe weekend day\n",
      "...Retry maybe weekend day\n",
      "(3/204) True step(30) 2008-6-2 [Predict : Down] Result: ¥-20\n",
      "(4/204) False step(30) 2008-7-1 [Predict : Down] Result: ¥10\n",
      "(5/204) True step(30) 2008-8-1 [Predict : Down] Result: ¥-150\n",
      "...Retry maybe weekend day\n",
      "...Retry maybe weekend day\n",
      "(6/204) True step(30) 2008-9-1 [Predict : Down] Result: ¥-60\n",
      "(7/204) True step(30) 2008-10-1 [Predict : Down] Result: ¥-85\n",
      "...Retry maybe weekend day\n",
      "...Retry maybe weekend day\n",
      "... Skip calc because of NAN\n",
      "...Retry maybe weekend day\n",
      "...Retry maybe weekend day\n",
      "(9/204) True step(30) 2008-12-1 [Predict : Down] Result: ¥-49\n",
      "... Skip calc because of NAN\n",
      "...Retry maybe weekend day\n",
      "...Retry maybe weekend day\n",
      "(11/204) True step(30) 2009-2-2 [Predict : Down] Result: ¥-45\n",
      "...Retry maybe weekend day\n",
      "...Retry maybe weekend day\n",
      "(12/204) True step(30) 2009-3-2 [Predict : Down] Result: ¥-62\n",
      "(13/204) False step(30) 2009-4-1 [Predict : Down] Result: ¥79\n",
      "(14/204) False step(30) 2009-5-1 [Predict : Down] Result: ¥44\n",
      "...Retry maybe weekend day\n",
      "...Retry maybe weekend day\n",
      "(15/204) False step(30) 2009-6-1 [Predict : Down] Result: ¥16\n",
      "(16/204) True step(30) 2009-7-1 [Predict : Down] Result: ¥-15\n",
      "...Retry maybe weekend day\n",
      "...Retry maybe weekend day\n",
      "(17/204) False step(30) 2009-8-3 [Predict : Down] Result: ¥73\n",
      "(18/204) False step(30) 2009-9-1 [Predict : Down] Result: ¥68\n",
      "(19/204) False step(30) 2009-10-1 [Predict : Rise] Result: ¥-30\n",
      "...Retry maybe weekend day\n",
      "...Retry maybe weekend day\n",
      "(20/204) False step(30) 2009-11-2 [Predict : Rise] Result: ¥-57\n",
      "(21/204) False step(30) 2009-12-1 [Predict : Down] Result: ¥25\n",
      "... Skip calc because of NAN\n",
      "...Retry maybe weekend day\n",
      "...Retry maybe weekend day\n",
      "(23/204) False step(30) 2010-2-1 [Predict : Down] Result: ¥3\n",
      "...Retry maybe weekend day\n",
      "...Retry maybe weekend day\n",
      "(24/204) True step(30) 2010-3-1 [Predict : Down] Result: ¥0\n",
      "(25/204) False step(30) 2010-4-1 [Predict : Down] Result: ¥56\n",
      "...Retry maybe weekend day\n",
      "...Retry maybe weekend day\n",
      "... Skip calc because of NAN\n",
      "(27/204) True step(30) 2010-6-1 [Predict : Down] Result: ¥-34\n",
      "(28/204) False step(30) 2010-7-1 [Predict : Rise] Result: ¥-32\n",
      "...Retry maybe weekend day\n",
      "...Retry maybe weekend day\n",
      "(29/204) False step(30) 2010-8-2 [Predict : Down] Result: ¥19\n",
      "(30/204) False step(30) 2010-9-1 [Predict : Down] Result: ¥1\n",
      "(31/204) True step(30) 2010-10-1 [Predict : Rise] Result: ¥26\n",
      "...Retry maybe weekend day\n",
      "...Retry maybe weekend day\n",
      "(32/204) True step(30) 2010-11-1 [Predict : Rise] Result: ¥2\n",
      "(33/204) False step(30) 2010-12-1 [Predict : Rise] Result: ¥-15\n",
      "... Skip calc because of NAN\n",
      "(35/204) False step(30) 2011-2-1 [Predict : Down] Result: ¥52\n",
      "(36/204) False step(30) 2011-3-1 [Predict : Down] Result: ¥36\n",
      "(37/204) True step(30) 2011-4-1 [Predict : Down] Result: ¥-11\n",
      "... Skip calc because of NAN\n",
      "(39/204) False step(30) 2011-6-1 [Predict : Down] Result: ¥15\n",
      "(40/204) False step(30) 2011-7-1 [Predict : Down] Result: ¥7\n",
      "...Retry maybe weekend day\n",
      "...Retry maybe weekend day\n",
      "(41/204) False step(30) 2011-8-1 [Predict : Down] Result: ¥49\n",
      "(42/204) False step(30) 2011-9-1 [Predict : Down] Result: ¥29\n",
      "...Retry maybe weekend day\n",
      "...Retry maybe weekend day\n",
      "(43/204) True step(30) 2011-10-3 [Predict : Down] Result: ¥-59\n",
      "(44/204) True step(30) 2011-11-1 [Predict : Down] Result: ¥-44\n",
      "(45/204) False step(30) 2011-12-1 [Predict : Down] Result: ¥8\n",
      "...Retry maybe weekend day\n",
      "...Retry maybe weekend day\n",
      "... Skip calc because of NAN\n",
      "(47/204) True step(30) 2012-2-1 [Predict : Down] Result: ¥0\n",
      "(48/204) True step(30) 2012-3-1 [Predict : Down] Result: ¥-17\n",
      "...Retry maybe weekend day\n",
      "...Retry maybe weekend day\n",
      "(49/204) False step(30) 2012-4-2 [Predict : Down] Result: ¥27\n",
      "...Retry maybe weekend day\n",
      "...Retry maybe weekend day\n",
      "... Skip calc because of NAN\n",
      "(51/204) False step(30) 2012-6-1 [Predict : Down] Result: ¥4\n",
      "...Retry maybe weekend day\n",
      "...Retry maybe weekend day\n",
      "(52/204) True step(30) 2012-7-2 [Predict : Down] Result: ¥-17\n",
      "(53/204) True step(30) 2012-8-1 [Predict : Down] Result: ¥-21\n",
      "...Retry maybe weekend day\n",
      "...Retry maybe weekend day\n",
      "(54/204) False step(30) 2012-9-3 [Predict : Rise] Result: ¥-36\n",
      "...Retry maybe weekend day\n",
      "...Retry maybe weekend day\n",
      "(55/204) True step(30) 2012-10-1 [Predict : Down] Result: ¥-31\n"
     ]
    },
    {
     "ename": "KeyboardInterrupt",
     "evalue": "",
     "output_type": "error",
     "traceback": [
      "\u001b[1;31m---------------------------------------------------------------------------\u001b[0m",
      "\u001b[1;31mKeyboardInterrupt\u001b[0m                         Traceback (most recent call last)",
      "\u001b[1;32m/home/jovyan/work/z04_sklearn/20161113_PredictStock.py\u001b[0m in \u001b[0;36m<module>\u001b[1;34m()\u001b[0m\n\u001b[0;32m    174\u001b[0m     \u001b[0malgo\u001b[0m  \u001b[1;33m=\u001b[0m \u001b[0msys\u001b[0m\u001b[1;33m.\u001b[0m\u001b[0margv\u001b[0m\u001b[1;33m[\u001b[0m\u001b[1;36m5\u001b[0m\u001b[1;33m]\u001b[0m \u001b[1;31m# 学習アルゴリズム\u001b[0m\u001b[1;33m\u001b[0m\u001b[0m\n\u001b[0;32m    175\u001b[0m \u001b[1;33m\u001b[0m\u001b[0m\n\u001b[1;32m--> 176\u001b[1;33m     \u001b[0mcalc_decision_tree_prdct\u001b[0m\u001b[1;33m(\u001b[0m\u001b[0mcode\u001b[0m\u001b[1;33m,\u001b[0m \u001b[0mstart\u001b[0m\u001b[1;33m,\u001b[0m \u001b[0mxday\u001b[0m\u001b[1;33m,\u001b[0m \u001b[0malgo\u001b[0m\u001b[1;33m)\u001b[0m\u001b[1;33m;\u001b[0m\u001b[1;33m\u001b[0m\u001b[0m\n\u001b[0m\u001b[0;32m    177\u001b[0m     \u001b[1;31m#calc_decision_tree(code, start, xday, algo);\u001b[0m\u001b[1;33m\u001b[0m\u001b[1;33m\u001b[0m\u001b[0m\n\u001b[0;32m    178\u001b[0m \u001b[1;33m\u001b[0m\u001b[0m\n",
      "\u001b[1;32m/home/jovyan/work/z04_sklearn/20161113_PredictStock.py\u001b[0m in \u001b[0;36mcalc_decision_tree_prdct\u001b[1;34m(code, start, xday, algo)\u001b[0m\n\u001b[0;32m     94\u001b[0m                 \u001b[0mdx\u001b[0m\u001b[1;33m=\u001b[0m\u001b[0mdf\u001b[0m\u001b[1;33m.\u001b[0m\u001b[0mloc\u001b[0m\u001b[1;33m[\u001b[0m\u001b[0mstart\u001b[0m\u001b[1;33m:\u001b[0m\u001b[0mtt\u001b[0m\u001b[1;33m]\u001b[0m\u001b[1;33m\u001b[0m\u001b[0m\n\u001b[0;32m     95\u001b[0m                 \u001b[0mdx\u001b[0m \u001b[1;33m=\u001b[0m \u001b[0mdx\u001b[0m\u001b[1;33m.\u001b[0m\u001b[0mdropna\u001b[0m\u001b[1;33m(\u001b[0m\u001b[1;33m)\u001b[0m\u001b[1;33m\u001b[0m\u001b[0m\n\u001b[1;32m---> 96\u001b[1;33m                 \u001b[0mLrnX\u001b[0m\u001b[1;33m,\u001b[0m\u001b[0mLrnY\u001b[0m \u001b[1;33m=\u001b[0m\u001b[0mlearn_data\u001b[0m\u001b[1;33m(\u001b[0m\u001b[0mdx\u001b[0m\u001b[1;33m,\u001b[0m\u001b[0mst\u001b[0m\u001b[1;33m)\u001b[0m\u001b[1;33m\u001b[0m\u001b[0m\n\u001b[0m\u001b[0;32m     97\u001b[0m \u001b[1;33m\u001b[0m\u001b[0m\n\u001b[0;32m     98\u001b[0m                 \u001b[1;31m#2) 学習させる\u001b[0m\u001b[1;33m\u001b[0m\u001b[1;33m\u001b[0m\u001b[0m\n",
      "\u001b[1;32m/home/jovyan/work/z04_sklearn/20161113_PredictStock.py\u001b[0m in \u001b[0;36mlearn_data\u001b[1;34m(arr, step)\u001b[0m\n\u001b[0;32m     25\u001b[0m         \u001b[0mclose\u001b[0m\u001b[1;33m=\u001b[0m \u001b[0mdata\u001b[0m\u001b[1;33m[\u001b[0m\u001b[1;34m'AdjClose'\u001b[0m\u001b[1;33m]\u001b[0m\u001b[1;33m\u001b[0m\u001b[0m\n\u001b[0;32m     26\u001b[0m         \u001b[0mclose\u001b[0m\u001b[1;33m.\u001b[0m\u001b[0mhead\u001b[0m\u001b[1;33m(\u001b[0m\u001b[1;33m)\u001b[0m\u001b[1;33m\u001b[0m\u001b[0m\n\u001b[1;32m---> 27\u001b[1;33m         \u001b[0mfeature\u001b[0m \u001b[1;33m=\u001b[0m \u001b[0mget_ret_index\u001b[0m\u001b[1;33m(\u001b[0m\u001b[0mclose\u001b[0m\u001b[1;33m)\u001b[0m\u001b[1;33m\u001b[0m\u001b[0m\n\u001b[0m\u001b[0;32m     28\u001b[0m         \u001b[1;31m# その翌日、株価は上がったか？\u001b[0m\u001b[1;33m\u001b[0m\u001b[1;33m\u001b[0m\u001b[0m\n\u001b[0;32m     29\u001b[0m         \u001b[1;32mif\u001b[0m \u001b[0mclose\u001b[0m\u001b[1;33m.\u001b[0m\u001b[0miloc\u001b[0m\u001b[1;33m[\u001b[0m\u001b[1;33m-\u001b[0m\u001b[1;36m1\u001b[0m\u001b[1;33m]\u001b[0m \u001b[1;33m<\u001b[0m \u001b[0marr\u001b[0m\u001b[1;33m[\u001b[0m\u001b[1;34m'AdjClose'\u001b[0m\u001b[1;33m]\u001b[0m\u001b[1;33m.\u001b[0m\u001b[0miloc\u001b[0m\u001b[1;33m[\u001b[0m\u001b[0mend\u001b[0m\u001b[1;33m]\u001b[0m\u001b[1;33m:\u001b[0m\u001b[1;33m\u001b[0m\u001b[0m\n",
      "\u001b[1;32m/home/jovyan/work/z04_sklearn/20161113_PredictStock.py\u001b[0m in \u001b[0;36mget_ret_index\u001b[1;34m(close)\u001b[0m\n\u001b[0;32m     10\u001b[0m \u001b[1;32mdef\u001b[0m \u001b[0mget_ret_index\u001b[0m\u001b[1;33m(\u001b[0m\u001b[0mclose\u001b[0m\u001b[1;33m)\u001b[0m\u001b[1;33m:\u001b[0m\u001b[1;33m\u001b[0m\u001b[0m\n\u001b[0;32m     11\u001b[0m     \u001b[1;31m# リターンインデックス データーが昇順（日付が過去が上になって最新が一番下）になっている前提\u001b[0m\u001b[1;33m\u001b[0m\u001b[1;33m\u001b[0m\u001b[0m\n\u001b[1;32m---> 12\u001b[1;33m     \u001b[0mreturns\u001b[0m \u001b[1;33m=\u001b[0m \u001b[0mpd\u001b[0m\u001b[1;33m.\u001b[0m\u001b[0mSeries\u001b[0m\u001b[1;33m(\u001b[0m\u001b[0mclose\u001b[0m\u001b[1;33m)\u001b[0m\u001b[1;33m.\u001b[0m\u001b[0mpct_change\u001b[0m\u001b[1;33m(\u001b[0m\u001b[1;33m)\u001b[0m \u001b[1;31m# 騰落率を求める\u001b[0m\u001b[1;33m\u001b[0m\u001b[0m\n\u001b[0m\u001b[0;32m     13\u001b[0m     \u001b[0mret_index\u001b[0m \u001b[1;33m=\u001b[0m \u001b[1;33m(\u001b[0m\u001b[1;36m1\u001b[0m \u001b[1;33m+\u001b[0m \u001b[0mreturns\u001b[0m\u001b[1;33m)\u001b[0m\u001b[1;33m.\u001b[0m\u001b[0mcumprod\u001b[0m\u001b[1;33m(\u001b[0m\u001b[1;33m)\u001b[0m \u001b[1;31m# 累積積を求める\u001b[0m\u001b[1;33m\u001b[0m\u001b[0m\n\u001b[0;32m     14\u001b[0m     \u001b[0mret_index\u001b[0m\u001b[1;33m.\u001b[0m\u001b[0miloc\u001b[0m\u001b[1;33m[\u001b[0m\u001b[1;36m0\u001b[0m\u001b[1;33m]\u001b[0m \u001b[1;33m=\u001b[0m \u001b[1;36m1\u001b[0m \u001b[1;31m# 最初の値を 1.0 にする\u001b[0m\u001b[1;33m\u001b[0m\u001b[0m\n",
      "\u001b[1;32m/opt/conda/lib/python3.4/site-packages/pandas/core/generic.py\u001b[0m in \u001b[0;36mpct_change\u001b[1;34m(self, periods, fill_method, limit, freq, **kwargs)\u001b[0m\n\u001b[0;32m   5323\u001b[0m \u001b[1;33m\u001b[0m\u001b[0m\n\u001b[0;32m   5324\u001b[0m         rs = (data.div(data.shift(periods=periods, freq=freq, axis=axis,\n\u001b[1;32m-> 5325\u001b[1;33m                                   **kwargs)) - 1)\n\u001b[0m\u001b[0;32m   5326\u001b[0m         \u001b[1;32mif\u001b[0m \u001b[0mfreq\u001b[0m \u001b[1;32mis\u001b[0m \u001b[1;32mNone\u001b[0m\u001b[1;33m:\u001b[0m\u001b[1;33m\u001b[0m\u001b[0m\n\u001b[0;32m   5327\u001b[0m             \u001b[0mmask\u001b[0m \u001b[1;33m=\u001b[0m \u001b[0misnull\u001b[0m\u001b[1;33m(\u001b[0m\u001b[0m_values_from_object\u001b[0m\u001b[1;33m(\u001b[0m\u001b[0mself\u001b[0m\u001b[1;33m)\u001b[0m\u001b[1;33m)\u001b[0m\u001b[1;33m\u001b[0m\u001b[0m\n",
      "\u001b[1;32m/opt/conda/lib/python3.4/site-packages/pandas/core/series.py\u001b[0m in \u001b[0;36mshift\u001b[1;34m(self, periods, freq, axis)\u001b[0m\n\u001b[0;32m   2370\u001b[0m     \u001b[1;33m@\u001b[0m\u001b[0mAppender\u001b[0m\u001b[1;33m(\u001b[0m\u001b[0mgeneric\u001b[0m\u001b[1;33m.\u001b[0m\u001b[0m_shared_docs\u001b[0m\u001b[1;33m[\u001b[0m\u001b[1;34m'shift'\u001b[0m\u001b[1;33m]\u001b[0m \u001b[1;33m%\u001b[0m \u001b[0m_shared_doc_kwargs\u001b[0m\u001b[1;33m)\u001b[0m\u001b[1;33m\u001b[0m\u001b[0m\n\u001b[0;32m   2371\u001b[0m     \u001b[1;32mdef\u001b[0m \u001b[0mshift\u001b[0m\u001b[1;33m(\u001b[0m\u001b[0mself\u001b[0m\u001b[1;33m,\u001b[0m \u001b[0mperiods\u001b[0m\u001b[1;33m=\u001b[0m\u001b[1;36m1\u001b[0m\u001b[1;33m,\u001b[0m \u001b[0mfreq\u001b[0m\u001b[1;33m=\u001b[0m\u001b[1;32mNone\u001b[0m\u001b[1;33m,\u001b[0m \u001b[0maxis\u001b[0m\u001b[1;33m=\u001b[0m\u001b[1;36m0\u001b[0m\u001b[1;33m)\u001b[0m\u001b[1;33m:\u001b[0m\u001b[1;33m\u001b[0m\u001b[0m\n\u001b[1;32m-> 2372\u001b[1;33m         \u001b[1;32mreturn\u001b[0m \u001b[0msuper\u001b[0m\u001b[1;33m(\u001b[0m\u001b[0mSeries\u001b[0m\u001b[1;33m,\u001b[0m \u001b[0mself\u001b[0m\u001b[1;33m)\u001b[0m\u001b[1;33m.\u001b[0m\u001b[0mshift\u001b[0m\u001b[1;33m(\u001b[0m\u001b[0mperiods\u001b[0m\u001b[1;33m=\u001b[0m\u001b[0mperiods\u001b[0m\u001b[1;33m,\u001b[0m \u001b[0mfreq\u001b[0m\u001b[1;33m=\u001b[0m\u001b[0mfreq\u001b[0m\u001b[1;33m,\u001b[0m \u001b[0maxis\u001b[0m\u001b[1;33m=\u001b[0m\u001b[0maxis\u001b[0m\u001b[1;33m)\u001b[0m\u001b[1;33m\u001b[0m\u001b[0m\n\u001b[0m\u001b[0;32m   2373\u001b[0m \u001b[1;33m\u001b[0m\u001b[0m\n\u001b[0;32m   2374\u001b[0m     \u001b[1;32mdef\u001b[0m \u001b[0mreindex_axis\u001b[0m\u001b[1;33m(\u001b[0m\u001b[0mself\u001b[0m\u001b[1;33m,\u001b[0m \u001b[0mlabels\u001b[0m\u001b[1;33m,\u001b[0m \u001b[0maxis\u001b[0m\u001b[1;33m=\u001b[0m\u001b[1;36m0\u001b[0m\u001b[1;33m,\u001b[0m \u001b[1;33m**\u001b[0m\u001b[0mkwargs\u001b[0m\u001b[1;33m)\u001b[0m\u001b[1;33m:\u001b[0m\u001b[1;33m\u001b[0m\u001b[0m\n",
      "\u001b[1;32m/opt/conda/lib/python3.4/site-packages/pandas/core/generic.py\u001b[0m in \u001b[0;36mshift\u001b[1;34m(self, periods, freq, axis)\u001b[0m\n\u001b[0;32m   4847\u001b[0m         \u001b[0mblock_axis\u001b[0m \u001b[1;33m=\u001b[0m \u001b[0mself\u001b[0m\u001b[1;33m.\u001b[0m\u001b[0m_get_block_manager_axis\u001b[0m\u001b[1;33m(\u001b[0m\u001b[0maxis\u001b[0m\u001b[1;33m)\u001b[0m\u001b[1;33m\u001b[0m\u001b[0m\n\u001b[0;32m   4848\u001b[0m         \u001b[1;32mif\u001b[0m \u001b[0mfreq\u001b[0m \u001b[1;32mis\u001b[0m \u001b[1;32mNone\u001b[0m\u001b[1;33m:\u001b[0m\u001b[1;33m\u001b[0m\u001b[0m\n\u001b[1;32m-> 4849\u001b[1;33m             \u001b[0mnew_data\u001b[0m \u001b[1;33m=\u001b[0m \u001b[0mself\u001b[0m\u001b[1;33m.\u001b[0m\u001b[0m_data\u001b[0m\u001b[1;33m.\u001b[0m\u001b[0mshift\u001b[0m\u001b[1;33m(\u001b[0m\u001b[0mperiods\u001b[0m\u001b[1;33m=\u001b[0m\u001b[0mperiods\u001b[0m\u001b[1;33m,\u001b[0m \u001b[0maxis\u001b[0m\u001b[1;33m=\u001b[0m\u001b[0mblock_axis\u001b[0m\u001b[1;33m)\u001b[0m\u001b[1;33m\u001b[0m\u001b[0m\n\u001b[0m\u001b[0;32m   4850\u001b[0m         \u001b[1;32melse\u001b[0m\u001b[1;33m:\u001b[0m\u001b[1;33m\u001b[0m\u001b[0m\n\u001b[0;32m   4851\u001b[0m             \u001b[1;32mreturn\u001b[0m \u001b[0mself\u001b[0m\u001b[1;33m.\u001b[0m\u001b[0mtshift\u001b[0m\u001b[1;33m(\u001b[0m\u001b[0mperiods\u001b[0m\u001b[1;33m,\u001b[0m \u001b[0mfreq\u001b[0m\u001b[1;33m)\u001b[0m\u001b[1;33m\u001b[0m\u001b[0m\n",
      "\u001b[1;32m/opt/conda/lib/python3.4/site-packages/pandas/core/internals.py\u001b[0m in \u001b[0;36mshift\u001b[1;34m(self, **kwargs)\u001b[0m\n\u001b[0;32m   3178\u001b[0m \u001b[1;33m\u001b[0m\u001b[0m\n\u001b[0;32m   3179\u001b[0m     \u001b[1;32mdef\u001b[0m \u001b[0mshift\u001b[0m\u001b[1;33m(\u001b[0m\u001b[0mself\u001b[0m\u001b[1;33m,\u001b[0m \u001b[1;33m**\u001b[0m\u001b[0mkwargs\u001b[0m\u001b[1;33m)\u001b[0m\u001b[1;33m:\u001b[0m\u001b[1;33m\u001b[0m\u001b[0m\n\u001b[1;32m-> 3180\u001b[1;33m         \u001b[1;32mreturn\u001b[0m \u001b[0mself\u001b[0m\u001b[1;33m.\u001b[0m\u001b[0mapply\u001b[0m\u001b[1;33m(\u001b[0m\u001b[1;34m'shift'\u001b[0m\u001b[1;33m,\u001b[0m \u001b[1;33m**\u001b[0m\u001b[0mkwargs\u001b[0m\u001b[1;33m)\u001b[0m\u001b[1;33m\u001b[0m\u001b[0m\n\u001b[0m\u001b[0;32m   3181\u001b[0m \u001b[1;33m\u001b[0m\u001b[0m\n\u001b[0;32m   3182\u001b[0m     \u001b[1;32mdef\u001b[0m \u001b[0mfillna\u001b[0m\u001b[1;33m(\u001b[0m\u001b[0mself\u001b[0m\u001b[1;33m,\u001b[0m \u001b[1;33m**\u001b[0m\u001b[0mkwargs\u001b[0m\u001b[1;33m)\u001b[0m\u001b[1;33m:\u001b[0m\u001b[1;33m\u001b[0m\u001b[0m\n",
      "\u001b[1;32m/opt/conda/lib/python3.4/site-packages/pandas/core/internals.py\u001b[0m in \u001b[0;36mapply\u001b[1;34m(self, f, axes, filter, do_integrity_check, consolidate, **kwargs)\u001b[0m\n\u001b[0;32m   3054\u001b[0m \u001b[1;33m\u001b[0m\u001b[0m\n\u001b[0;32m   3055\u001b[0m             \u001b[0mkwargs\u001b[0m\u001b[1;33m[\u001b[0m\u001b[1;34m'mgr'\u001b[0m\u001b[1;33m]\u001b[0m \u001b[1;33m=\u001b[0m \u001b[0mself\u001b[0m\u001b[1;33m\u001b[0m\u001b[0m\n\u001b[1;32m-> 3056\u001b[1;33m             \u001b[0mapplied\u001b[0m \u001b[1;33m=\u001b[0m \u001b[0mgetattr\u001b[0m\u001b[1;33m(\u001b[0m\u001b[0mb\u001b[0m\u001b[1;33m,\u001b[0m \u001b[0mf\u001b[0m\u001b[1;33m)\u001b[0m\u001b[1;33m(\u001b[0m\u001b[1;33m**\u001b[0m\u001b[0mkwargs\u001b[0m\u001b[1;33m)\u001b[0m\u001b[1;33m\u001b[0m\u001b[0m\n\u001b[0m\u001b[0;32m   3057\u001b[0m             \u001b[0mresult_blocks\u001b[0m \u001b[1;33m=\u001b[0m \u001b[0m_extend_blocks\u001b[0m\u001b[1;33m(\u001b[0m\u001b[0mapplied\u001b[0m\u001b[1;33m,\u001b[0m \u001b[0mresult_blocks\u001b[0m\u001b[1;33m)\u001b[0m\u001b[1;33m\u001b[0m\u001b[0m\n\u001b[0;32m   3058\u001b[0m \u001b[1;33m\u001b[0m\u001b[0m\n",
      "\u001b[1;32m/opt/conda/lib/python3.4/site-packages/pandas/core/internals.py\u001b[0m in \u001b[0;36mshift\u001b[1;34m(self, periods, axis, mgr)\u001b[0m\n\u001b[0;32m   1058\u001b[0m         \u001b[1;32mif\u001b[0m \u001b[0mnp\u001b[0m\u001b[1;33m.\u001b[0m\u001b[0mprod\u001b[0m\u001b[1;33m(\u001b[0m\u001b[0mnew_values\u001b[0m\u001b[1;33m.\u001b[0m\u001b[0mshape\u001b[0m\u001b[1;33m)\u001b[0m\u001b[1;33m:\u001b[0m\u001b[1;33m\u001b[0m\u001b[0m\n\u001b[0;32m   1059\u001b[0m             new_values = np.roll(new_values, _ensure_platform_int(periods),\n\u001b[1;32m-> 1060\u001b[1;33m                                  axis=axis)\n\u001b[0m\u001b[0;32m   1061\u001b[0m \u001b[1;33m\u001b[0m\u001b[0m\n\u001b[0;32m   1062\u001b[0m         \u001b[0maxis_indexer\u001b[0m \u001b[1;33m=\u001b[0m \u001b[1;33m[\u001b[0m\u001b[0mslice\u001b[0m\u001b[1;33m(\u001b[0m\u001b[1;32mNone\u001b[0m\u001b[1;33m)\u001b[0m\u001b[1;33m]\u001b[0m \u001b[1;33m*\u001b[0m \u001b[0mself\u001b[0m\u001b[1;33m.\u001b[0m\u001b[0mndim\u001b[0m\u001b[1;33m\u001b[0m\u001b[0m\n",
      "\u001b[1;32m/opt/conda/lib/python3.4/site-packages/numpy/core/numeric.py\u001b[0m in \u001b[0;36mroll\u001b[1;34m(a, shift, axis)\u001b[0m\n\u001b[0;32m   1395\u001b[0m         \u001b[1;32mreturn\u001b[0m \u001b[0ma\u001b[0m\u001b[1;33m\u001b[0m\u001b[0m\n\u001b[0;32m   1396\u001b[0m     \u001b[0mshift\u001b[0m \u001b[1;33m%=\u001b[0m \u001b[0mn\u001b[0m\u001b[1;33m\u001b[0m\u001b[0m\n\u001b[1;32m-> 1397\u001b[1;33m     \u001b[0mindexes\u001b[0m \u001b[1;33m=\u001b[0m \u001b[0mconcatenate\u001b[0m\u001b[1;33m(\u001b[0m\u001b[1;33m(\u001b[0m\u001b[0marange\u001b[0m\u001b[1;33m(\u001b[0m\u001b[0mn\u001b[0m \u001b[1;33m-\u001b[0m \u001b[0mshift\u001b[0m\u001b[1;33m,\u001b[0m \u001b[0mn\u001b[0m\u001b[1;33m)\u001b[0m\u001b[1;33m,\u001b[0m \u001b[0marange\u001b[0m\u001b[1;33m(\u001b[0m\u001b[0mn\u001b[0m \u001b[1;33m-\u001b[0m \u001b[0mshift\u001b[0m\u001b[1;33m)\u001b[0m\u001b[1;33m)\u001b[0m\u001b[1;33m)\u001b[0m\u001b[1;33m\u001b[0m\u001b[0m\n\u001b[0m\u001b[0;32m   1398\u001b[0m     \u001b[0mres\u001b[0m \u001b[1;33m=\u001b[0m \u001b[0ma\u001b[0m\u001b[1;33m.\u001b[0m\u001b[0mtake\u001b[0m\u001b[1;33m(\u001b[0m\u001b[0mindexes\u001b[0m\u001b[1;33m,\u001b[0m \u001b[0maxis\u001b[0m\u001b[1;33m)\u001b[0m\u001b[1;33m\u001b[0m\u001b[0m\n\u001b[0;32m   1399\u001b[0m     \u001b[1;32mif\u001b[0m \u001b[0mreshape\u001b[0m\u001b[1;33m:\u001b[0m\u001b[1;33m\u001b[0m\u001b[0m\n",
      "\u001b[1;31mKeyboardInterrupt\u001b[0m: "
     ]
    }
   ],
   "source": [
    "# arg1  銘柄コード (ニコン7731 )\n",
    "# arg2 学習させる期間開始日　(2016-01-01 など) \n",
    "# arg2 予測させる日時 (2016-01-01 など) \n",
    "# arg3 学習させる日数　（例 15 : 15日間) \n",
    "# arg4 学習アルゴリズム番号 0: 決定木\n",
    "%run 20161113_PredictStock.py 7731 \"2000-01-06\" \"2016-11-18\" \"Lrn\"\n",
    "#%run 20161113_PredictStock.py 7731 \"2000-01-06\" \"2016-11-18\"  \"Predict\" 30"
   ]
  },
  {
   "cell_type": "markdown",
   "metadata": {},
   "source": [
    "---"
   ]
  },
  {
   "cell_type": "markdown",
   "metadata": {},
   "source": [
    "# 解説"
   ]
  },
  {
   "cell_type": "markdown",
   "metadata": {},
   "source": [
    "## 教師データの作成\n",
    "* まずは一番面倒な株価の調整後終値から教師データを作るまでのコードを用意します。\n",
    "* これは終値のリストを渡すと train_X と train_y が返るようにすれば良いでしょう。\n",
    "###  リターンインデックスを算出する\n",
    "    * 生の株価データそのままですと、会社ごとに価格帯も全然ちがいますから教師データとしてはちょっと使いづらい\n",
    "    * 正規化しても良いのですが、ここは資産価値の変化をあらわすリターンインデックスに注目しましょう。\n",
    "    * 算出方法は前回も書きましたがこのように pandas で求まります。\n",
    "    * 金融の世界におけるリターンとは通常はある日を起算日とした資産価格のパーセント変化を指します。\n",
    "    * 単純なリターンインデックスは pandas を利用して次のように求まります。"
   ]
  },
  {
   "cell_type": "code",
   "execution_count": 1,
   "metadata": {
    "collapsed": false
   },
   "outputs": [],
   "source": [
    "import pandas as pd\n",
    "import numpy as np\n",
    "def get_ret_index(close):\n",
    "    # リターンインデックス データーが昇順（日付が過去が上になって最新が一番下）になっている前提\n",
    "    returns = pd.Series(close).pct_change() # 騰落率を求める\n",
    "    ret_index = (1 + returns).cumprod() # 累積積を求める\n",
    "    ret_index.iloc[0] = 1 # 最初の値を 1.0 にする\n",
    "    return ret_index\n",
    "\n",
    "def learn_data(arr,step):\n",
    "    #train_X (教師データの配列) と train_y (それに対する 1 か 0 かのラベル) が戻る\n",
    "    learn_X = []; \n",
    "    learn_y = [];\n",
    "    flg=0;\n",
    "    for i in np.arange(0, len(arr)-step):\n",
    "        end = i + step# step日間の変化を素性にする\n",
    "        data = arr.iloc[i:end]\n",
    "        close= data['AdjClose']\n",
    "        close.head()\n",
    "        feature = get_ret_index(close)\n",
    "        # その翌日、株価は上がったか？\n",
    "        if close.iloc[-1] < arr['AdjClose'].iloc[end]:\n",
    "            flg=1\n",
    "        else:\n",
    "            flg=0\n",
    "        #print(close.iloc[-1],\"<\",arr['AdjClose'].iloc[end],flg)\n",
    "        learn_X.append(feature.values)\n",
    "        learn_y.append(flg) # YES なら 1  NO なら 0 \n",
    "    # 上げ下げの結果と教師データのセットを返す\n",
    "    return np.array(learn_X), np.array(learn_y)\n",
    "\n",
    "csvfile=\"stock_7731.csv\"\n",
    "df = pd.read_csv(csvfile, index_col=0, parse_dates=True)\n",
    "df = df.dropna()\n",
    "#df.head()\n",
    "step = 15\n",
    "LrnX,LrnY =learn_data(df,step)"
   ]
  },
  {
   "cell_type": "markdown",
   "metadata": {},
   "source": [
    "## リターンインデックスの変化を決定木に学習させる\n",
    "    * さてここからがキモ。こうして求まったリターンインデックスから教師データを抽出し分類器に学習させます"
   ]
  },
  {
   "cell_type": "code",
   "execution_count": 40,
   "metadata": {
    "collapsed": false
   },
   "outputs": [
    {
     "data": {
      "text/plain": [
       "DecisionTreeClassifier(class_weight=None, criterion='gini', max_depth=None,\n",
       "            max_features=None, max_leaf_nodes=None,\n",
       "            min_impurity_split=1e-07, min_samples_leaf=1,\n",
       "            min_samples_split=2, min_weight_fraction_leaf=0.0,\n",
       "            presort=False, random_state=None, splitter='best')"
      ]
     },
     "execution_count": 40,
     "metadata": {},
     "output_type": "execute_result"
    }
   ],
   "source": [
    "from sklearn.tree import DecisionTreeClassifier\n",
    "# リターンインデックスを教師データを取り出す\n",
    "# 決定木のインスタンスを生成\n",
    "clf = DecisionTreeClassifier()\n",
    "# 学習させる\n",
    "clf.fit(LrnX, LrnY)"
   ]
  },
  {
   "cell_type": "markdown",
   "metadata": {},
   "source": [
    "## うまく学習したかどうか分類器を試す\n",
    "    * まずはテストとして、教師データとまったく同じデータをテストデータとして流してみます。"
   ]
  },
  {
   "cell_type": "code",
   "execution_count": 93,
   "metadata": {
    "collapsed": false
   },
   "outputs": [
    {
     "name": "stdout",
     "output_type": "stream",
     "text": [
      "[1 1 1 0 0 0 1]\n",
      "[]\n"
     ]
    }
   ],
   "source": [
    "test_y = []\n",
    "for i in np.arange(0,len(LrnX)-step):\n",
    "    end = i + step\n",
    "    # リターンインデックスと同じ期間をテストとして分類させてみる\n",
    "    test_x = LrnX[i:end]\n",
    "    #print(type(test_x))\n",
    "    # 結果を格納して返す\n",
    "    result = clf.predict(test_x)\n",
    "    test_y.append(result[0])\n",
    "\n",
    "print(LrnY) # 期待すべき答え\n",
    "#=> [1 1 1 0 1 1 0 0 0 1 0 1 0 0 0]\n",
    "print(np.array(test_y)) # 分類器が出した予測\n",
    "#=> [1 1 1 0 1 1 0 0 0 1 0 1 0 0 0]"
   ]
  },
  {
   "cell_type": "markdown",
   "metadata": {},
   "source": [
    "# 　学習方法を工夫する\n",
    "## 交差検証法\n",
    "1. cross_val_score\n",
    "* 今回やるのは学習用データーを何分割かして（例えば５分割）、ひとつをテスト用データーにつかい残りを教師用データーとしてもちいながら、\n",
    "* テスト用データーを変えながら5回繰り返す、というやり方です。\n",
    "* 図で説明するとわかりやすいんですが、わざわざ説明図を書くのも面倒なので、もうそのままソースコードのせます。\n",
    "* ライブラリにそのものの機能が提供されているのでそれを使えば実際に使いながら試せたりします。"
   ]
  },
  {
   "cell_type": "code",
   "execution_count": 29,
   "metadata": {
    "collapsed": false
   },
   "outputs": [
    {
     "name": "stdout",
     "output_type": "stream",
     "text": [
      "0.503340080972\n"
     ]
    }
   ],
   "source": [
    "from sklearn.model_selection import cross_val_score\n",
    "# meanで学習結果の正解率まで求められる。\n",
    "scores = cross_val_score(clf, LrnX, LrnY, cv=5)\n",
    "mean = scores.mean()\n",
    "print(mean)"
   ]
  },
  {
   "cell_type": "markdown",
   "metadata": {},
   "source": [
    "## 予測の妥当性\n",
    "* 学習量を変えて総当たりで結果を求めて、一番正解率が高かった学習量を採用すればいいのではないか"
   ]
  },
  {
   "cell_type": "code",
   "execution_count": null,
   "metadata": {
    "collapsed": true
   },
   "outputs": [],
   "source": [
    "def get_params(ccode, last_date, db):\n",
    "    '''\n",
    "    決定木に最適なパラメーターを総当たりで取得します。\n",
    "    '''\n",
    "    _top_mean = 0\n",
    "    _data_length = 0\n",
    "    _step = 0\n",
    "    _min_samples_leaf = 0\n",
    "    _max_depth = 0\n",
    "    for data_length in range(30, 40, 10):\n",
    "        for step in range(4, 12):\n",
    "            for min_samples_leaf in range(1, 7):\n",
    "                for max_depth in range(2, 8):\n",
    "                    clf, LrnX, LrnY = lean(ccode, last_date, db, data_length, step, min_samples_leaf, max_depth)\n",
    "                    scores = cross_val_score(clf, LrnX, LrnY, cv=5)\n",
    "                    mean = scores.mean()\n",
    "                    del clf\n",
    "                    if _top_mean < mean:\n",
    "                        _top_mean = mean\n",
    "                        _data_length = data_length\n",
    "                        _step = step\n",
    "                        _min_samples_leaf = min_samples_leaf\n",
    "                        _max_depth = max_depth\n",
    "#     print(\"{}%, length:{}, step:{}, leaf: {}, depth: {}\".format(int(_top_mean * 100), _data_length, _step, _min_samples_leaf, _max_depth))\n",
    "    return _top_mean, _data_length, _step, _min_samples_leaf, _max_depth\n"
   ]
  }
 ],
 "metadata": {
  "kernelspec": {
   "display_name": "Python 3",
   "language": "python",
   "name": "python3"
  },
  "language_info": {
   "codemirror_mode": {
    "name": "ipython",
    "version": 3
   },
   "file_extension": ".py",
   "mimetype": "text/x-python",
   "name": "python",
   "nbconvert_exporter": "python",
   "pygments_lexer": "ipython3",
   "version": "3.4.5"
  }
 },
 "nbformat": 4,
 "nbformat_minor": 0
}
