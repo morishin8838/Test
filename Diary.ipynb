{
 "cells": [
  {
   "cell_type": "markdown",
   "metadata": {},
   "source": [
    "# 29th Aug 2015\n",
    "\n",
    ">今日はのんびり家ですごしています。午前中は掃除、午後はGithubの整理をしました。  \n",
    ">やっぱしnotebookとGithubの組み合わせは便利だぁ〜。。この日記を始めることも、この便利具合から決めました。  \n",
    ">明日から通勤電車の中で日記を綴り、定期的に更新してみたいと思います。  \n",
    "> "
   ]
  },
  {
   "cell_type": "code",
   "execution_count": null,
   "metadata": {
    "collapsed": true
   },
   "outputs": [],
   "source": []
  }
 ],
 "metadata": {
  "kernelspec": {
   "display_name": "Python 2",
   "language": "python",
   "name": "python2"
  },
  "language_info": {
   "codemirror_mode": {
    "name": "ipython",
    "version": 2
   },
   "file_extension": ".py",
   "mimetype": "text/x-python",
   "name": "python",
   "nbconvert_exporter": "python",
   "pygments_lexer": "ipython2",
   "version": "2.7.10"
  }
 },
 "nbformat": 4,
 "nbformat_minor": 0
}
