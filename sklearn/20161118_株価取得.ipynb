{
 "cells": [
  {
   "cell_type": "markdown",
   "metadata": {},
   "source": [
    "# 株価データ取得　\n",
    "* http://stocks.finance.yahoo.co.jp/stocks/detail/?code=7731.T"
   ]
  },
  {
   "cell_type": "code",
   "execution_count": null,
   "metadata": {
    "collapsed": false
   },
   "outputs": [],
   "source": [
    "# 第一引数に銘柄コード 第二引数に日付 (2015-01-01 など) \n",
    "# ディスコ 6146\n",
    "# ニコン 7731\n",
    "# タムロン 7740\n",
    "# 日立ハイテクノロジー 8036\n",
    "# スクリーン 7735\n",
    "# アドテス 6857\n",
    "# マニー 7730\n",
    "# トプコン 7732\n",
    "s = \"2006-01-06\"\n",
    "e = \"2016-11-18\"\n",
    "codes =[7735,6857,7730,7732]\n",
    "for c in codes:\n",
    "    %run JpStock.py {c} {s} {e}"
   ]
  }
 ],
 "metadata": {
  "kernelspec": {
   "display_name": "Python 3",
   "language": "python",
   "name": "python3"
  },
  "language_info": {
   "codemirror_mode": {
    "name": "ipython",
    "version": 3
   },
   "file_extension": ".py",
   "mimetype": "text/x-python",
   "name": "python",
   "nbconvert_exporter": "python",
   "pygments_lexer": "ipython3",
   "version": "3.4.5"
  }
 },
 "nbformat": 4,
 "nbformat_minor": 0
}
