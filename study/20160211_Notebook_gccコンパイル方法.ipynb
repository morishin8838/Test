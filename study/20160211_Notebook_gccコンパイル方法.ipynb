{
 "cells": [
  {
   "cell_type": "markdown",
   "metadata": {},
   "source": [
    "# gcc使い方"
   ]
  },
  {
   "cell_type": "code",
   "execution_count": 1,
   "metadata": {
    "collapsed": false
   },
   "outputs": [
    {
     "name": "stdout",
     "output_type": "stream",
     "text": [
      "gcc: error: ./gcc/hello.cpp: No such file or directory\r\n",
      "gcc: fatal error: no input files\r\n",
      "compilation terminated.\r\n"
     ]
    }
   ],
   "source": [
    "!gcc  ./gcc/hello.cpp -o ./gcc/hello1.exe"
   ]
  },
  {
   "cell_type": "code",
   "execution_count": 2,
   "metadata": {
    "collapsed": false
   },
   "outputs": [
    {
     "name": "stdout",
     "output_type": "stream",
     "text": [
      "00_Dockerからバージョンアップ方法.ipynb    CodeIQ_auth\r\n",
      "20150822_Pythonによるデータ分析入門.ipynb  CodeIQ_mycoins\r\n",
      "20150829_brokh.ipynb\t\t\t   gcc\r\n",
      "20160205_notebook2でgccを使う方法.ipynb    pylib_20140228_morishita\r\n",
      "20160211_Notebook_gccコンパイル方法.ipynb  Pythonによるデータ分析入門\r\n",
      "20160211_PlotTest.ipynb\t\t\t   satellite_position\r\n"
     ]
    }
   ],
   "source": [
    "!ls"
   ]
  },
  {
   "cell_type": "code",
   "execution_count": null,
   "metadata": {
    "collapsed": true
   },
   "outputs": [],
   "source": []
  }
 ],
 "metadata": {
  "kernelspec": {
   "display_name": "Python 3",
   "language": "python",
   "name": "python3"
  },
  "language_info": {
   "codemirror_mode": {
    "name": "ipython",
    "version": 3
   },
   "file_extension": ".py",
   "mimetype": "text/x-python",
   "name": "python",
   "nbconvert_exporter": "python",
   "pygments_lexer": "ipython3",
   "version": "3.4.4"
  }
 },
 "nbformat": 4,
 "nbformat_minor": 0
}
