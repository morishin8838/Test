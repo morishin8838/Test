{
 "cells": [
  {
   "cell_type": "markdown",
   "metadata": {},
   "source": [
    "# README.mdの作成方法"
   ]
  },
  {
   "cell_type": "code",
   "execution_count": 3,
   "metadata": {
    "collapsed": true
   },
   "outputs": [],
   "source": [
    "#!/usr/bin/env python\n",
    "\n",
    "from sys import version_info\n",
    "\n",
    "if version_info[0] < 3:\n",
    "    from urllib import quote\n",
    "else:\n",
    "    from urllib.request import quote\n",
    "\n",
    "from glob import glob\n",
    "import json\n",
    "import os\n",
    "\n",
    "header = '''\n",
    "Private notebook files　\n",
    "--------------------------------------------------\n",
    "Welcome this is morishin web-page\n",
    "\n",
    "File List　\n",
    "--------------------------------------------------\n",
    "'''\n",
    "footer = '''\n",
    "--------------------------------------------------\n",
    "Thanks!\n",
    "'''\n",
    "#http://192.168.98.100:8081/url/192.168.99.100:8090/a8838/NoteBook/raw/master/index.ipynb\n",
    "format_item = '* [{name}]({url})'.format\n",
    "#bb_url = u'192.168.99.100:8090/a8838/NoteBook/raw/master/{}'.format\n",
    "bb_url = u'192.168.99.100:8090/a8838/NoteBook/raw/master/'\n",
    "\n",
    "def notebooks():\n",
    "    for root, dirs, files in os.walk(os.getcwd()):\n",
    "        for filename in files:\n",
    "            if filename.lower().endswith('.' + 'ipynb'):\n",
    "                #print (os.path.join(root, filename))\n",
    "                if \"ipynb_checkpoints\" in os.path.join(root, filename):\n",
    "                    #print (os.path.join(root, filename))\n",
    "                    pass\n",
    "                else:\n",
    "                    yield os.path.join(root, filename)\n",
    "            \n",
    "def get_filename(filename):\n",
    "    #with open(filename) as fo:\n",
    "    #    return json.load(fo)['metadata']['name']\n",
    "    #print (os.path.relpath(filename,os.getcwd()))\n",
    "    return (os.path.relpath(filename,os.getcwd()))\n",
    "    #return os.path.basename(filename)\n",
    "\n",
    "def nb_url(filename):\n",
    "    # The double quote is not an error\n",
    "    #raw_url = bb_url(quote(quote(filename)))\n",
    "    #raw_url = bb_url+os.path.basename(filename)\n",
    "    raw_url = bb_url+(os.path.relpath(filename,os.getcwd()))\n",
    "    return u'http://192.168.98.100:8081/url/{}'.format(raw_url)\n",
    "\n",
    "def write_readme(nblist, fo):\n",
    "    fo.write('{}\\n'.format(header))\n",
    "    for nb in nblist:\n",
    "        name = get_filename(nb)\n",
    "        url = nb_url(nb)\n",
    "        fo.write('{}\\n'.format(format_item(name=name, url=url)))\n",
    "    fo.write('{}\\n'.format(footer))\n",
    "\n",
    "def main():\n",
    "    nblist = notebooks()\n",
    "    with open('README.md', 'w') as fo:\n",
    "        write_readme(nblist, fo)\n",
    "\n",
    "if __name__ == '__main__':\n",
    "    main()"
   ]
  },
  {
   "cell_type": "code",
   "execution_count": null,
   "metadata": {
    "collapsed": true
   },
   "outputs": [],
   "source": []
  }
 ],
 "metadata": {
  "kernelspec": {
   "display_name": "Python 3",
   "language": "python",
   "name": "python3"
  },
  "language_info": {
   "codemirror_mode": {
    "name": "ipython",
    "version": 3
   },
   "file_extension": ".py",
   "mimetype": "text/x-python",
   "name": "python",
   "nbconvert_exporter": "python",
   "pygments_lexer": "ipython3",
   "version": "3.4.4"
  }
 },
 "nbformat": 4,
 "nbformat_minor": 0
}
