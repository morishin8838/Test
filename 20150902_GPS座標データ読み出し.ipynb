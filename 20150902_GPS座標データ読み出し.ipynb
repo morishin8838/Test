{
 "cells": [
  {
   "cell_type": "markdown",
   "metadata": {},
   "source": [
    "# 海洋データを用いて、気象予測を行う"
   ]
  },
  {
   "cell_type": "markdown",
   "metadata": {
    "collapsed": true
   },
   "source": [
    "## 背景\n",
    "> 海洋データを用いて、scikit-learnのシュミレーションをやりたい  \n",
    "> 海洋データはRINEXと呼ばれるデータ形式でした  \n",
    ">まず、こちらのデータを読み出すサンプルを試す  \n",
    ">  \n",
    "> GPSファイル読み出しサンプル  \n",
    "> 森下功啓製作所 様のサンプルを参考にさせて頂きました  \n",
    ">  http://morimori2008.web.fc2.com/contents/GPS/GPS_programing/gps_tools.html\n",
    ">"
   ]
  },
  {
   "cell_type": "markdown",
   "metadata": {
    "collapsed": true
   },
   "source": [
    "## 状況\n",
    "* うまく動作しない。。なぜだろう。\n",
    "* python2.7だと駄目かな。。\n",
    "* それほど深追いしていないけど。。\n"
   ]
  },
  {
   "cell_type": "markdown",
   "metadata": {},
   "source": [
    "## GPS座標データを読み込み表示する"
   ]
  },
  {
   "cell_type": "code",
   "execution_count": 17,
   "metadata": {
    "collapsed": false
   },
   "outputs": [
    {
     "name": "stdout",
     "output_type": "stream",
     "text": [
      "[]\n"
     ]
    }
   ],
   "source": [
    "# -*- coding:utf-8 -*-\n",
    "#-------------------------------------------------------------------------------\n",
    "# Purpose: 測位衛星の位置座標を求める。\n",
    "#-------------------------------------------------------------------------------\n",
    "\n",
    "import os,sys\n",
    "#ライブラリパスカスタム指定\n",
    "sys.path.append('../../notebook/pylib_20140228_morishita/')\n",
    "\n",
    "import gnss.ephemeris as gnss_eph          # エフェメリス全般を担当するモジュール\n",
    "import gnss.gps.ephemeris as gps_eph    # GPSのエフェメリスを担当するモジュール\n",
    "import gnss.gps.time as gtime                   # GPSにおける時刻を担当するモジュール\n",
    "import timeKM                                              #　一般的な時刻関係の処理を担当するモジュール\n",
    "import datetime                                           # Pythonに標準で含まれる時刻関連モジュール\n",
    "\n",
    "def create_filter(epoch):\n",
    "    \"\"\" '渡されたエフェメリスを用いて、有効なエフェメリスを用いて各衛星座標を返す'関数を生成して返す\n",
    "    応用を考慮しているので、GPSだけの計算に比べて少し行数が多くなっています。\n",
    "    Argv:\n",
    "        epoch: <float or int> GPS時刻\n",
    "    \"\"\"\n",
    "    def filter(system_name, ephs_dict):\n",
    "        \"\"\" 渡されたエフェメリスを用いて、有効なエフェメリスを用いて各衛星座標を返す\n",
    "        Argv:\n",
    "            system_name: <str> 測位システム名, e.g. \"GPS\", 本関数では利用しない\n",
    "            ephs_dict: <dict>  エフェメリスを衛星ごとに格納した辞書, e.g.: {\"1\": [ephemeris・・・], ・・・}\n",
    "        Return:\n",
    "            <list<tuple<int, xyz>>> 衛星番号と座標をタプルにしたリスト\n",
    "        \"\"\"\n",
    "        poss = []                                                       # 結果を格納するリスト\n",
    "        for sat_name in ephs_dict:\n",
    "            eph_list = ephs_dict[sat_name]                              # エフェメリスのリストを取得\n",
    "            for eph in eph_list:\n",
    "                if system_name == \"GPS\":                                # GPSの場合\n",
    "                    if eph.sv_health != 0:\n",
    "                        continue\n",
    "                    tom = eph.TOM + eph.gps_week * timeKM.TIME_A_WEEK   # TOMをGPS時刻へ変換\n",
    "                    if not (tom < epoch < tom + 3500 * eph.fit_interval):\n",
    "                        continue\n",
    "                if system_name == \"QZS\":                                # QZSの場合\n",
    "                    #if eph.sv_health != 0:                             # sv_health is always 1 at 2014-02\n",
    "                    #    continue\n",
    "                    tom = eph.TOM + eph.gps_week * timeKM.TIME_A_WEEK   # TOMをGPS時刻へ変換\n",
    "                    if not (tom < epoch < tom + 3500 * eph.fit_interval):\n",
    "                        continue\n",
    "                pos = eph.calc_sat_position(epoch)                      # 衛星の位置座標を計算\n",
    "                #print(pos)\n",
    "                poss.append((sat_name, pos))\n",
    "                break\n",
    "        return poss\n",
    "    return filter\n",
    "\n",
    "def main(src,tgt):\n",
    "    srcpath=src;\n",
    "    trtpath=tgt;\n",
    "    \n",
    "    eph_reader = gps_eph.reader()                                                              # エフェメリスを読み込むオブジェクトを生成\n",
    "    eph_list = eph_reader.read_ephemeris_from_dir(srcpath)               # フォルダを指定して、エフェメリスをリストとして取得\n",
    "    print eph_list\n",
    "    \n",
    "    if len(eph_list) > 0:                                                                                    # 読み込みに成功していることを確認\n",
    "        with open(trtpath, \"w\", encoding=\"utf-8-sig\") as fw:                      # ファイルに書き出す準備\n",
    "            fw.write(\"GPS time,PRN,x,y,z\\n\")\n",
    "            sgmr = gnss_eph.sub_manager(\"GPS\")              # エフェメリスを管理するオブジェクトを生成\n",
    "            sgmr.add_ephemeris(eph_list)                            # 管理オブジェクトにエフェメリスのリストを渡す\n",
    "\n",
    "            start = datetime.datetime(2013, 7, 11, 0, 0, 0) # time system is UTC.\n",
    "            end   = datetime.datetime(2013, 7, 19, 0, 0, 0)\n",
    "            epoch = start\n",
    "            while epoch < end:                              #　指定された時間が来るまでループ\n",
    "                gpstime = gtime.convert_utc2gpst(epoch)     # GPSTとUTCとの間に存在する15 ns程度のバイアスは無視\n",
    "                print(epoch)\n",
    "                func = create_filter(gpstime)\n",
    "                poss = sgmr.get_anything(func)              # 衛星位置を計算（計算んを行わせる関数オブジェクトを渡している）\n",
    "                for pos in poss:                            # 計算できた衛星の座標を全て表示しつつファイルへ保存\n",
    "                    name, position = pos\n",
    "                    txt = \"{0},{1}\".format(name, position)\n",
    "                    print(txt)\n",
    "                    fw.write(str(epoch) + \",\" + txt + \"\\n\") # ファイルへ書き出し\n",
    "                epoch += datetime.timedelta(seconds=900)    # 時刻を進める\n",
    "\n",
    "if __name__ == '__main__':\n",
    "    src='/Users/pshanmori/notebook/satellite_position/ephemerides'\n",
    "    tgt='../../notebook/satellite_position/sat position.csv'\n",
    "    main(src,tgt)\n"
   ]
  }
 ],
 "metadata": {
  "kernelspec": {
   "display_name": "Python 3",
   "language": "python",
   "name": "python3"
  },
  "language_info": {
   "codemirror_mode": {
    "name": "ipython",
    "version": 3
   },
   "file_extension": ".py",
   "mimetype": "text/x-python",
   "name": "python",
   "nbconvert_exporter": "python",
   "pygments_lexer": "ipython3",
   "version": "3.4.4"
  }
 },
 "nbformat": 4,
 "nbformat_minor": 0
}
