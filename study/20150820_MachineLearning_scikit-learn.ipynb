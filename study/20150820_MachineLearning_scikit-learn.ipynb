{
 "cells": [
  {
   "cell_type": "markdown",
   "metadata": {},
   "source": [
    "# scikit-learnで機械学習を試す"
   ]
  },
  {
   "cell_type": "markdown",
   "metadata": {},
   "source": [
    "## 課題1 金貨を見分けよう！"
   ]
  },
  {
   "cell_type": "markdown",
   "metadata": {},
   "source": [
    "* http://next.rikunabi.com/tech/docs/ct_s03600.jsp?p=002315\n",
    "1. 貰ってきた20枚のコインのデータ  （CodeIQ_mycoins.zip）\n",
    "    * 20行から成るテキストファイルで、1行にコイン1枚ずつ、そのコインのが半角スペース区切りで記入されています。\n",
    "        * 体積（cm^3）\n",
    "        * 重さ（g）\n",
    "2. 金貨の体積と重さと真贋のデータ  （CodeIQ_auth.zip）\n",
    "    * 100行から成るテキストファイルで、1行にコイン1枚ずつ、そのコインの\n",
    "        * 体積（cm^3）\n",
    "        * 重さ（g）\n",
    "        * 真贋（本物なら'1', 偽物なら'0'）"
   ]
  },
  {
   "cell_type": "markdown",
   "metadata": {},
   "source": [
    "データをプロットしてみておわかりかと思いますが、直線できれいに分類できそうなデータ"
   ]
  },
  {
   "cell_type": "code",
   "execution_count": 26,
   "metadata": {
    "collapsed": false
   },
   "outputs": [
    {
     "data": {
      "image/png": "[encoded data removed]",
      "text/plain": [
       "<matplotlib.figure.Figure at 0x10b8cad90>"
      ]
     },
     "metadata": {},
     "output_type": "display_data"
    }
   ],
   "source": [
    "%matplotlib inline\n",
    "import  pylab\n",
    "\n",
    "#直線できれいに分類できそうなデータ\n",
    "pylab.plot(data_test[:,0],data_test[:,1],'*')\n",
    "pylab.show()"
   ]
  },
  {
   "cell_type": "markdown",
   "metadata": {},
   "source": [
    "* SVC サポートベクターマシン\n",
    "* 2クラスの訓練データの識別面を、データ点からの距離（マージン）が最大になるように求める線形識別手法です。\n",
    "* 現在知られている中では最高レベルの精度が得られる手法のひとつです。"
   ]
  },
  {
   "cell_type": "code",
   "execution_count": 30,
   "metadata": {
    "collapsed": false
   },
   "outputs": [
    {
     "name": "stdout",
     "output_type": "stream",
     "text": [
      "[1, 0, 1, 1, 0, 1, 0, 0, 0, 0, 0, 1, 0, 1, 0, 0, 1, 1, 1, 1, 1, 1, 0, 1, 1, 1, 1, 0, 1, 0, 1, 0, 0, 1, 0, 1, 0, 0, 0, 1, 0, 1, 1, 1, 1, 0, 0, 0, 0, 0, 0, 0, 1, 1, 1, 1, 1, 1, 0, 1, 1, 0, 1, 0, 1, 1, 0, 1, 0, 0, 0, 0, 1, 0, 1, 0, 1, 0, 1, 1, 0, 0, 1, 1, 0, 1, 0, 1, 0, 0, 1, 0, 0, 0, 1, 0, 0, 1, 1, 0]\n",
      "[1 0 0 1 1 0 1 1 1 0 0 1 1 0 0 1 0 0 0 1]\n"
     ]
    }
   ],
   "source": [
    "# -*- coding: utf-8 -*-\n",
    "from sklearn.svm import LinearSVC\n",
    "import numpy as np\n",
    "\n",
    "# 学習データ\n",
    "data_training_tmp = np.loadtxt('./CodeIQ_auth/CodeIQ_auth.txt', delimiter=' ')\n",
    "data_training = [[x[0], x[1]] for x in data_training_tmp]\n",
    "label_training = [int(x[2]) for x in data_training_tmp]\n",
    "\n",
    "# 試験データ\n",
    "data_test = np.loadtxt('./CodeIQ_mycoins/CodeIQ_mycoins.txt', delimiter=' ')\n",
    "\n",
    "# 学習\n",
    "estimator = LinearSVC(C=1.0)\n",
    "estimator.fit(data_training, label_training)\n",
    "\n",
    "# 予測するよー\n",
    "label_prediction = estimator.predict(data_test)\n",
    "\n",
    "print(label_prediction)"
   ]
  },
  {
   "cell_type": "code",
   "execution_count": null,
   "metadata": {
    "collapsed": true
   },
   "outputs": [],
   "source": []
  }
 ],
 "metadata": {
  "kernelspec": {
   "display_name": "Python 2",
   "language": "python",
   "name": "python2"
  },
  "language_info": {
   "codemirror_mode": {
    "name": "ipython",
    "version": 2
   },
   "file_extension": ".py",
   "mimetype": "text/x-python",
   "name": "python",
   "nbconvert_exporter": "python",
   "pygments_lexer": "ipython2",
   "version": "2.7.10"
  }
 },
 "nbformat": 4,
 "nbformat_minor": 0
}
