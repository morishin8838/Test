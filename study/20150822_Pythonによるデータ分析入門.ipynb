{
 "cells": [
  {
   "cell_type": "markdown",
   "metadata": {},
   "source": [
    "# Python によるデータ分析入門"
   ]
  },
  {
   "cell_type": "markdown",
   "metadata": {
    "collapsed": false
   },
   "source": [
    "http://qiita.com/airtoxin/items/b5c1d65f8ed5ceac4312 "
   ]
  },
  {
   "cell_type": "code",
   "execution_count": 4,
   "metadata": {
    "collapsed": false
   },
   "outputs": [
    {
     "name": "stdout",
     "output_type": "stream",
     "text": [
      "[Errno 2] No such file or directory: 'pydata-book-master/'\n",
      "/Users/pshanmori/notebook/pydata-book-master\n",
      "\u001b[31mappendix_python.ipynb\u001b[m\u001b[m* \u001b[31mch06.ipynb\u001b[m\u001b[m*            \u001b[31mch10.ipynb\u001b[m\u001b[m*\r\n",
      "\u001b[34mch02\u001b[m\u001b[m/                  \u001b[34mch07\u001b[m\u001b[m/                  \u001b[34mch11\u001b[m\u001b[m/\r\n",
      "\u001b[31mch02.ipynb\u001b[m\u001b[m*            \u001b[31mch07.ipynb\u001b[m\u001b[m*            \u001b[31mch11.ipynb\u001b[m\u001b[m*\r\n",
      "\u001b[34mch03\u001b[m\u001b[m/                  \u001b[34mch08\u001b[m\u001b[m/                  \u001b[31mch12.ipynb\u001b[m\u001b[m*\r\n",
      "\u001b[31mch04.ipynb\u001b[m\u001b[m*            \u001b[31mch08.ipynb\u001b[m\u001b[m*            \u001b[34mch13\u001b[m\u001b[m/\r\n",
      "\u001b[31mch05.ipynb\u001b[m\u001b[m*            \u001b[34mch09\u001b[m\u001b[m/                  \u001b[31mfec_study.ipynb\u001b[m\u001b[m*\r\n",
      "\u001b[34mch06\u001b[m\u001b[m/                  \u001b[31mch09.ipynb\u001b[m\u001b[m*\r\n"
     ]
    }
   ],
   "source": [
    "%cd pydata-book-master/\n",
    "%ls"
   ]
  },
  {
   "cell_type": "code",
   "execution_count": null,
   "metadata": {
    "collapsed": true
   },
   "outputs": [],
   "source": []
  }
 ],
 "metadata": {
  "kernelspec": {
   "display_name": "Python 2",
   "language": "python",
   "name": "python2"
  },
  "language_info": {
   "codemirror_mode": {
    "name": "ipython",
    "version": 2
   },
   "file_extension": ".py",
   "mimetype": "text/x-python",
   "name": "python",
   "nbconvert_exporter": "python",
   "pygments_lexer": "ipython2",
   "version": "2.7.10"
  }
 },
 "nbformat": 4,
 "nbformat_minor": 0
}
