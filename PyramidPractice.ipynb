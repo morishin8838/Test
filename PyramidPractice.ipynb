{
 "metadata": {
  "name": "PyramidPractice"
 },
 "nbformat": 3,
 "nbformat_minor": 0,
 "worksheets": [
  {
   "cells": [
    {
     "cell_type": "heading",
     "level": 1,
     "metadata": {},
     "source": "Pyramid\u306e\u7814\u7a76"
    },
    {
     "cell_type": "heading",
     "level": 1,
     "metadata": {},
     "source": "\u30a4\u30f3\u30b9\u30c8\u30fc\u30eb\u624b\u9806\u6982\u7565"
    },
    {
     "cell_type": "markdown",
     "metadata": {},
     "source": "1. \u74b0\u5883\u3092\u4f5c\u3063\u3066\u3001 1)2)3)\n1. pyramid\u3092\u30a4\u30f3\u30b9\u30c8\u30fc\u30eb\u3057\u3066 4\n1. setup\u3057\u3066\uff0cDB\u3092\u521d\u671f\u5316\u3057\u3066\n1. \u8d77\u52d5\u3059\u308b"
    },
    {
     "cell_type": "heading",
     "level": 1,
     "metadata": {},
     "source": "\u30a4\u30f3\u30b9\u30c8\u30fc\u30eb\u624b\u9806\u8a73\u7d30"
    },
    {
     "cell_type": "markdown",
     "metadata": {},
     "source": "1. Python for Windows extensions\u3092\u30a4\u30f3\u30b9\u30c8\u30fc\u30eb\n2. setuptools\u3092\u30a4\u30f3\u30b9\u30c8\u30fc\u30eb\n    * \"c:\\Python27\\python ez_setup.py\"\n3. \u30ef\u30fc\u30af\u30b9\u30da\u30fc\u30b9\u3092\u4f5c\u6210\u3059\u308b\u305f\u3081\u306b Python \u306e virtualenv \u3092\u5229\u7528\n    * c:\\> c:\\Python27\\Scripts\\virtualenv --no-site-packages d:\\Pyramid\\env\n4. env\u306b\u79fb\u52d5\u3057\u3001Pyramid\u3092\u30a4\u30f3\u30b9\u30c8\u30fc\u30eb\n    * \"cd env\"\n    * \"env> Scripts\\easy_install pyramid\"\n5. \u30d7\u30ed\u30b8\u30a7\u30af\u30c8\u4f5c\u6210(\n    * http://docs.pylonsproject.jp/projects/pyramid-doc-ja/en/latest/tutorials/wiki2/installation.html\n\t* Scripts\\pcreate -s alchemy tutorial\n6. \u958b\u767a\u30e2\u30fc\u30c9\u3067\u306e\u30d7\u30ed\u30b8\u30a7\u30af\u30c8\u306e\u30a4\u30f3\u30b9\u30c8\u30fc\u30eb\u3068\u30c6\u30b9\u30c8\u306e\u5b9f\u884c\n    * .\\env> cd tutorial\n\t* .\\env\\tutorial> ..\\Scripts\\python setup.py develop\n \t* .\\env\\tutorial> ..\\Scripts\\python setup.py test -q\n7. \u30c7\u30fc\u30bf\u30d9\u30fc\u30b9\u306e\u521d\u671f\u5316\n\t* .\\env\\tutorial> ..\\Scripts\\initialize_tutorial_db development.ini\n8. \u8d77\u52d5\n\t* .\\env\\tutorial> ..\\Scripts\\pserve development.ini --reload\n9. \u30a2\u30d7\u30ea\u306b\u30a2\u30af\u30bb\u30b9\n\t* http://localhost:6543"
    },
    {
     "cell_type": "heading",
     "level": 1,
     "metadata": {},
     "source": "\u30a4\u30f3\u30b9\u30c8\u30fc\u30eb\u624b\u9806\uff08\u30d0\u30c3\u30c1\u7684\u306a\u8a18\u8ff0\uff09"
    },
    {
     "cell_type": "markdown",
     "metadata": {},
     "source": "1. set VENV=D:\\Pyramid\\env2\n1. %VENV%\\Scripts\\python ez_setup.py\n1. %VENV%\\Scripts\\easy_install pyramid\n1. %VENV%\\Scripts\\easy_install nose webtest deform sqlalchemy pyramid_chameleon\n"
    },
    {
     "cell_type": "code",
     "collapsed": false,
     "input": "",
     "language": "python",
     "metadata": {},
     "outputs": []
    }
   ],
   "metadata": {}
  }
 ]
}