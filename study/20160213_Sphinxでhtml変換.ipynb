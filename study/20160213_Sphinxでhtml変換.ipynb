{
 "cells": [
  {
   "cell_type": "markdown",
   "metadata": {},
   "source": [
    "# これはテストです"
   ]
  },
  {
   "cell_type": "markdown",
   "metadata": {},
   "source": [
    "rstで出力し、Sphinxでtexに変換します。"
   ]
  },
  {
   "cell_type": "markdown",
   "metadata": {},
   "source": [
    "1. rstに出力する\n",
    "    * ipython nbconvert hello.ipynb --to rst\n",
    "2. rstを表示する\n",
    "    * !cat index.rst\n",
    "3. texに変換する\n",
    "    * make html"
   ]
  },
  {
   "cell_type": "code",
   "execution_count": 15,
   "metadata": {
    "collapsed": false
   },
   "outputs": [
    {
     "name": "stdout",
     "output_type": "stream",
     "text": [
      "  6 00_Dockerからバージョンアップ方法.ipynb\r\n",
      "  7 20150822_Pythonによるデータ分析入門.ipynb\r\n",
      "  8 20150829_brokh.ipynb\r\n",
      "  9 20160205_notebook2でgccを使う方法.ipynb\r\n",
      " 10 20160211_Notebook_gccコンパイル方法.ipynb\r\n",
      " 11 20160211_PlotTest.ipynb\r\n",
      " 91 20160213_docker_pdf変換コンテナ.ipynb\r\n",
      "162 20160213_Sphinxでhtml変換.ipynb\r\n",
      " 12 CodeIQ_auth\r\n",
      " 13 CodeIQ_mycoins\r\n",
      " 14 gcc\r\n",
      " 16 pylib_20140228_morishita\r\n",
      " 17 Pythonによるデータ分析入門\r\n",
      " 18 satellite_position\r\n"
     ]
    }
   ],
   "source": [
    "!ls -i"
   ]
  },
  {
   "cell_type": "code",
   "execution_count": 24,
   "metadata": {
    "collapsed": false
   },
   "outputs": [
    {
     "name": "stdout",
     "output_type": "stream",
     "text": [
      "[NbConvertApp] Converting notebook 20150829_brokh.ipynb to latex\n",
      "[NbConvertApp] Writing 21977 bytes to 20150829_brokh.tex\n"
     ]
    }
   ],
   "source": [
    "!jupyter nbconvert --to latex 20150829_brokh.ipynb"
   ]
  },
  {
   "cell_type": "code",
   "execution_count": 19,
   "metadata": {
    "collapsed": false
   },
   "outputs": [
    {
     "name": "stdout",
     "output_type": "stream",
     "text": [
      "rm: cannot remove ‘*.html’: No such file or directory\r\n"
     ]
    }
   ],
   "source": [
    "!rm *.html"
   ]
  },
  {
   "cell_type": "code",
   "execution_count": 20,
   "metadata": {
    "collapsed": true
   },
   "outputs": [],
   "source": [
    "!mkdir latex"
   ]
  },
  {
   "cell_type": "code",
   "execution_count": null,
   "metadata": {
    "collapsed": true
   },
   "outputs": [],
   "source": []
  }
 ],
 "metadata": {
  "kernelspec": {
   "display_name": "Python 3",
   "language": "python",
   "name": "python3"
  },
  "language_info": {
   "codemirror_mode": {
    "name": "ipython",
    "version": 3
   },
   "file_extension": ".py",
   "mimetype": "text/x-python",
   "name": "python",
   "nbconvert_exporter": "python",
   "pygments_lexer": "ipython3",
   "version": "3.4.4"
  }
 },
 "nbformat": 4,
 "nbformat_minor": 0
}
